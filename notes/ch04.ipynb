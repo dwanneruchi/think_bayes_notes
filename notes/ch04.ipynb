{
 "cells": [
  {
   "cell_type": "code",
   "execution_count": 24,
   "id": "d4f10ae8",
   "metadata": {},
   "outputs": [],
   "source": [
    "import numpy as np\n",
    "import matplotlib.pyplot as plt\n",
    "\n",
    "from empiricaldist import Pmf\n",
    "from scipy.stats import binom\n",
    "\n",
    "def make_binomial(n, p):\n",
    "    \"\"\"Make a binomial Pmf.\"\"\"\n",
    "    ks = np.arange(n+1)\n",
    "    ps = binom.pmf(ks, n, p)\n",
    "    return Pmf(ps, ks)\n",
    "\n",
    "def prob_ge(pmf, threshold):\n",
    "    \"\"\"Probability of quantities greater than threshold.\"\"\"\n",
    "    ge = (pmf.qs >= threshold)\n",
    "    total = pmf[ge].sum()\n",
    "    return total\n",
    "\n",
    "def decorate(**options):\n",
    "    \"\"\"Decorate the current axes.\n",
    "    Call decorate with keyword arguments like\n",
    "    decorate(title='Title',\n",
    "             xlabel='x',\n",
    "             ylabel='y')\n",
    "    The keyword arguments can be any of the axis properties\n",
    "    https://matplotlib.org/api/axes_api.html\n",
    "    \"\"\"\n",
    "    ax = plt.gca()\n",
    "    ax.set(**options)\n",
    "\n",
    "    handles, labels = ax.get_legend_handles_labels()\n",
    "    if handles:\n",
    "        ax.legend(handles, labels)\n",
    "\n",
    "    plt.tight_layout()"
   ]
  },
  {
   "cell_type": "markdown",
   "id": "451ad939",
   "metadata": {},
   "source": [
    "## Ch 4: Estimating Proportions\n",
    "\n",
    "### The Euro Problem\n",
    "\n",
    "\"When spun on edge 250 times, a Belgian one-euro coin came up heads 140 times and tails 110. `It looks very suspicious to me,’ said Barry Blight, a statistics lecturer at the London School of Economics. `If the coin were unbiased, the chance of getting a result as extreme as that would be less than 7%.’\""
   ]
  },
  {
   "cell_type": "markdown",
   "id": "7f7ab43e",
   "metadata": {},
   "source": [
    "### Binomial Distribution: \n",
    "\n",
    "${n \\choose k} p^{k}(1-p)^{n-k}$\n",
    "\n",
    "- Discrete probability distribution of the number of successes `k` in a sequence of `n` independent assuming probability `p` (for `k` event)"
   ]
  },
  {
   "cell_type": "code",
   "execution_count": 4,
   "id": "4334b69c",
   "metadata": {},
   "outputs": [
    {
     "data": {
      "text/plain": [
       "0.5"
      ]
     },
     "execution_count": 4,
     "metadata": {},
     "output_type": "execute_result"
    }
   ],
   "source": [
    "n = 2 # trials\n",
    "p = 0.5 # prob\n",
    "k = 1 # successes\n",
    "\n",
    "round(binom.pmf(k, n, p),2)"
   ]
  },
  {
   "cell_type": "code",
   "execution_count": 5,
   "id": "95e77c62",
   "metadata": {},
   "outputs": [
    {
     "data": {
      "text/plain": [
       "array([0.25, 0.5 , 0.25])"
      ]
     },
     "execution_count": 5,
     "metadata": {},
     "output_type": "execute_result"
    }
   ],
   "source": [
    "# build out possible k value (0 Heads, 1 Head, 2 Heads, etc.)\n",
    "ks = np.arange(n+1)\n",
    "\n",
    "# pass in sequence ks, broadcast n and p\n",
    "ps = binom.pmf(ks, n, p)\n",
    "ps"
   ]
  },
  {
   "cell_type": "code",
   "execution_count": 8,
   "id": "7f7c9139",
   "metadata": {},
   "outputs": [
    {
     "data": {
      "text/html": [
       "<div>\n",
       "<style scoped>\n",
       "    .dataframe tbody tr th:only-of-type {\n",
       "        vertical-align: middle;\n",
       "    }\n",
       "\n",
       "    .dataframe tbody tr th {\n",
       "        vertical-align: top;\n",
       "    }\n",
       "\n",
       "    .dataframe thead th {\n",
       "        text-align: right;\n",
       "    }\n",
       "</style>\n",
       "<table border=\"1\" class=\"dataframe\">\n",
       "  <thead>\n",
       "    <tr style=\"text-align: right;\">\n",
       "      <th></th>\n",
       "      <th>probs</th>\n",
       "    </tr>\n",
       "  </thead>\n",
       "  <tbody>\n",
       "    <tr>\n",
       "      <th>0</th>\n",
       "      <td>0.25</td>\n",
       "    </tr>\n",
       "    <tr>\n",
       "      <th>1</th>\n",
       "      <td>0.50</td>\n",
       "    </tr>\n",
       "    <tr>\n",
       "      <th>2</th>\n",
       "      <td>0.25</td>\n",
       "    </tr>\n",
       "  </tbody>\n",
       "</table>\n",
       "</div>"
      ],
      "text/plain": [
       "0    0.25\n",
       "1    0.50\n",
       "2    0.25\n",
       "Name: , dtype: float64"
      ]
     },
     "execution_count": 8,
     "metadata": {},
     "output_type": "execute_result"
    }
   ],
   "source": [
    "# can do the same with a Pmf\n",
    "# We now have priors for each hypothesis\n",
    "pmf_k = Pmf(ps, ks)\n",
    "pmf_k"
   ]
  },
  {
   "cell_type": "code",
   "execution_count": 20,
   "id": "1e7f130e",
   "metadata": {},
   "outputs": [
    {
     "data": {
      "image/png": "[encoded data removed]",
      "text/plain": [
       "<Figure size 432x288 with 1 Axes>"
      ]
     },
     "metadata": {
      "needs_background": "light"
     },
     "output_type": "display_data"
    }
   ],
   "source": [
    "# calculate each of the k up to 250 total flips\n",
    "pmf_k = make_binomial(n=250, p=0.5)\n",
    "\n",
    "assert(sum(pmf_k) == 1)\n",
    "\n",
    "pmf_k.plot(label='n=250, p=0.5')\n",
    "\n",
    "decorate(xlabel='Number of heads (k)',\n",
    "         ylabel='PMF',\n",
    "         title='Binomial distribution');"
   ]
  },
  {
   "cell_type": "code",
   "execution_count": 27,
   "id": "4fe2c55b",
   "metadata": {},
   "outputs": [
    {
     "name": "stdout",
     "output_type": "stream",
     "text": [
      "125\n",
      "0.050412213147309655\n",
      "0.033210575620021644\n",
      "0.033210575620021644\n",
      "0.033210575620021644\n"
     ]
    }
   ],
   "source": [
    "print(pmf_k.max_prob()) \n",
    "print(pmf_k[125])\n",
    "print(prob_ge(pmf_k, 140))\n",
    "print(pmf_k.prob_ge(140))\n",
    "print(pmf_k.prob_le(110))"
   ]
  },
  {
   "cell_type": "markdown",
   "id": "60d142b8",
   "metadata": {},
   "source": [
    "#### Findings:\n",
    "\n",
    "When using the Binomial distribution the most likely number of flips is 125 at 5% of the time.\n",
    "\n",
    "The 7% estimate comes from the concept of \"as extreme as\" 140, which could mean +15 from mean of 125 or -15 from mean. We can see find the cumulative probabilities of 140 - 250 and sum with 0-110 to get the likelihood of such an extreme value, about 6.6% \n"
   ]
  },
  {
   "cell_type": "markdown",
   "id": "8e95d669",
   "metadata": {},
   "source": [
    "### Bayesian Estimation:\n",
    "\n",
    "There does exist some probability `x` of a coin landing heads when spun: \n",
    "- reasonable to believe that `x` depends on physical characteristic s like distribution of weight\n",
    "- if perfectly balanced we expect `x` to be near 50%\n",
    "- a lopsided coin might deviate from 50% for `x`\n",
    "\n",
    "#### Uniform Prior\n",
    "\n",
    "- assumes all values of `x` are equally likely, which of course is not a reasonable assumption"
   ]
  },
  {
   "cell_type": "code",
   "execution_count": 31,
   "id": "6b35a393",
   "metadata": {},
   "outputs": [],
   "source": [
    "# build uniform prior of x 0 - 1.0\n",
    "hypos = np.linspace(0,1,101)\n",
    "prior = Pmf(1, hypos)\n",
    "\n",
    "# build the associated likelihood based on hypothesis\n",
    "likelihood_heads = hypos\n",
    "likelihood_tails = 1 - hypos\n",
    "\n",
    "# add into a dict: key is flip side\n",
    "# value is vector of likelihood in order of hypotheses \n",
    "likelihood = {\n",
    "    'H': likelihood_heads,\n",
    "    'T': likelihood_tails\n",
    "}\n",
    "\n",
    "# data we see (order doesn't matter here)\n",
    "dataset = 'H' * 140 + 'T' * 110"
   ]
  },
  {
   "cell_type": "markdown",
   "id": "c8101fa6",
   "metadata": {},
   "source": [
    "#### Update With Lots of Data:\n",
    "\n",
    "Concept:\n",
    "- iterate over each bit of data and update our pmf \n",
    "    - when we see a \"H\" our pmf is impacted by the vector of \"likelihood_heads\", which will update the mass in the positive direction (assuming a 1 means we flip heads eveytime)\n",
    "    \n",
    "- Our initial run is impacted by our prior, but as we get more and more data the weight of the prior is diminished. \n",
    "    - This makes sense - data that deviates from pre-established views (e.g. subjective prior) should more impact posterior as volume increases.\n",
    "    \n",
    "- normalization occurs after all data comes through\n",
    "\n",
    "- added in a step to print max prob just to see how posterior shifts. \n",
    "    - initially uniform, but we should see greater values since we start with all Heads, and this will diminish as we start seeing Tails come in"
   ]
  },
  {
   "cell_type": "code",
   "execution_count": 54,
   "id": "80befde9",
   "metadata": {},
   "outputs": [],
   "source": [
    "def update_euro(pmf, dataset):\n",
    "    \"\"\"Update pmf with a given sequence of H and T.\"\"\"\n",
    "    i = 0\n",
    "    for data in dataset:\n",
    "        \n",
    "        if i % 20 == 0:\n",
    "            print(f\"Step {i} max prob is at: {pmf.max_prob()}\")\n",
    "        pmf *= likelihood[data]\n",
    "        i += 1\n",
    "\n",
    "    pmf.normalize()"
   ]
  },
  {
   "cell_type": "code",
   "execution_count": 55,
   "id": "7fa63f30",
   "metadata": {},
   "outputs": [
    {
     "name": "stdout",
     "output_type": "stream",
     "text": [
      "Step 0 max prob is at: 0.0\n",
      "Step 20 max prob is at: 1.0\n",
      "Step 40 max prob is at: 1.0\n",
      "Step 60 max prob is at: 1.0\n",
      "Step 80 max prob is at: 1.0\n",
      "Step 100 max prob is at: 1.0\n",
      "Step 120 max prob is at: 1.0\n",
      "Step 140 max prob is at: 1.0\n",
      "Step 160 max prob is at: 0.87\n",
      "Step 180 max prob is at: 0.78\n",
      "Step 200 max prob is at: 0.7000000000000001\n",
      "Step 220 max prob is at: 0.64\n",
      "Step 240 max prob is at: 0.58\n"
     ]
    }
   ],
   "source": [
    "posterior = prior.copy()\n",
    "update_euro(posterior, dataset)"
   ]
  },
  {
   "cell_type": "code",
   "execution_count": 51,
   "id": "4b9679b7",
   "metadata": {},
   "outputs": [
    {
     "data": {
      "image/png": "[encoded data removed]",
      "text/plain": [
       "<Figure size 432x288 with 1 Axes>"
      ]
     },
     "metadata": {
      "needs_background": "light"
     },
     "output_type": "display_data"
    }
   ],
   "source": [
    "def decorate_euro(title):\n",
    "    decorate(xlabel='Proportion of heads (x)',\n",
    "             ylabel='Probability',\n",
    "             title=title)\n",
    "    \n",
    "posterior.plot(label='140 heads out of 250', color='C4')\n",
    "decorate_euro(title='Posterior distribution of x')"
   ]
  },
  {
   "cell_type": "markdown",
   "id": "560807ca",
   "metadata": {},
   "source": [
    "#### Takeaways:\n",
    "\n",
    "- The weight of data on posterior increases as volume of data inceases\n",
    "- Can see the impact of new data to posterior above, such as when we first start seeing tails by step 160 (141 would be our first tails)\n",
    "- Final posterior estimate is 0.56, which is conveniently the proportion of heads in our dataset (`140/250`)"
   ]
  },
  {
   "cell_type": "markdown",
   "id": "5dedc41f",
   "metadata": {},
   "source": [
    "### Adjusting the Prior:\n",
    "\n",
    "Using a triangle prior:\n",
    "- A completely uniform prior might not make sense, since we may assume 0.4-0.6 more likely than 0.1 or 0.9.\n"
   ]
  },
  {
   "cell_type": "code",
   "execution_count": 56,
   "id": "34ab6bb0",
   "metadata": {},
   "outputs": [
    {
     "data": {
      "text/plain": [
       "2500"
      ]
     },
     "execution_count": 56,
     "metadata": {},
     "output_type": "execute_result"
    }
   ],
   "source": [
    "# triangle prior:\n",
    "ramp_up = np.arange(50)\n",
    "ramp_down = np.arange(50, -1, -1)\n",
    "\n",
    "a = np.append(ramp_up, ramp_down)\n",
    "\n",
    "triangle = Pmf(a, hypos, name='triangle')\n",
    "triangle.normalize()"
   ]
  },
  {
   "cell_type": "code",
   "execution_count": 58,
   "id": "2adc093a",
   "metadata": {},
   "outputs": [
    {
     "data": {
      "image/png": "[encoded data removed]",
      "text/plain": [
       "<Figure size 432x288 with 1 Axes>"
      ]
     },
     "metadata": {
      "needs_background": "light"
     },
     "output_type": "display_data"
    }
   ],
   "source": [
    "\n",
    "# rebuild uniform:\n",
    "uniform = Pmf(1, hypos, name='uniform')\n",
    "uniform.normalize()\n",
    "\n",
    "# view priors:\n",
    "uniform.plot()\n",
    "triangle.plot()\n",
    "decorate_euro(title='Uniform and triangle prior distributions')"
   ]
  },
  {
   "cell_type": "code",
   "execution_count": 63,
   "id": "d43eface",
   "metadata": {},
   "outputs": [
    {
     "data": {
      "text/html": [
       "<div>\n",
       "<style scoped>\n",
       "    .dataframe tbody tr th:only-of-type {\n",
       "        vertical-align: middle;\n",
       "    }\n",
       "\n",
       "    .dataframe tbody tr th {\n",
       "        vertical-align: top;\n",
       "    }\n",
       "\n",
       "    .dataframe thead th {\n",
       "        text-align: right;\n",
       "    }\n",
       "</style>\n",
       "<table border=\"1\" class=\"dataframe\">\n",
       "  <thead>\n",
       "    <tr style=\"text-align: right;\">\n",
       "      <th></th>\n",
       "      <th>probs</th>\n",
       "    </tr>\n",
       "  </thead>\n",
       "  <tbody>\n",
       "    <tr>\n",
       "      <th>0.98</th>\n",
       "      <td>1.324197e-116</td>\n",
       "    </tr>\n",
       "    <tr>\n",
       "      <th>0.99</th>\n",
       "      <td>2.113001e-149</td>\n",
       "    </tr>\n",
       "    <tr>\n",
       "      <th>1.00</th>\n",
       "      <td>0.000000e+00</td>\n",
       "    </tr>\n",
       "  </tbody>\n",
       "</table>\n",
       "</div>"
      ],
      "text/plain": [
       "0.98    1.324197e-116\n",
       "0.99    2.113001e-149\n",
       "1.00     0.000000e+00\n",
       "Name: , dtype: float64"
      ]
     },
     "execution_count": 63,
     "metadata": {},
     "output_type": "execute_result"
    }
   ],
   "source": [
    "triangle.tail()"
   ]
  },
  {
   "cell_type": "code",
   "execution_count": 59,
   "id": "97ceed4f",
   "metadata": {},
   "outputs": [
    {
     "name": "stdout",
     "output_type": "stream",
     "text": [
      "Step 0 max prob is at: 0.0\n",
      "Step 20 max prob is at: 1.0\n",
      "Step 40 max prob is at: 1.0\n",
      "Step 60 max prob is at: 1.0\n",
      "Step 80 max prob is at: 1.0\n",
      "Step 100 max prob is at: 1.0\n",
      "Step 120 max prob is at: 1.0\n",
      "Step 140 max prob is at: 1.0\n",
      "Step 160 max prob is at: 0.87\n",
      "Step 180 max prob is at: 0.78\n",
      "Step 200 max prob is at: 0.7000000000000001\n",
      "Step 220 max prob is at: 0.64\n",
      "Step 240 max prob is at: 0.58\n",
      "Step 0 max prob is at: 0.5\n",
      "Step 20 max prob is at: 0.9500000000000001\n",
      "Step 40 max prob is at: 0.98\n",
      "Step 60 max prob is at: 0.98\n",
      "Step 80 max prob is at: 0.99\n",
      "Step 100 max prob is at: 0.99\n",
      "Step 120 max prob is at: 0.99\n",
      "Step 140 max prob is at: 0.99\n",
      "Step 160 max prob is at: 0.87\n",
      "Step 180 max prob is at: 0.77\n",
      "Step 200 max prob is at: 0.7000000000000001\n",
      "Step 220 max prob is at: 0.63\n",
      "Step 240 max prob is at: 0.58\n"
     ]
    }
   ],
   "source": [
    "# run update for each - very minor differences throughout \n",
    "# triangle never hits 1.0 for max since the prior has 1.0 at 0 \n",
    "update_euro(uniform, dataset)\n",
    "update_euro(triangle, dataset)"
   ]
  },
  {
   "cell_type": "markdown",
   "id": "c69d4346",
   "metadata": {},
   "source": [
    "#### Takeaway:\n",
    "\n",
    "Example of \"swamping the priors\" - with enough data we see different priors converge to the same posterior.\n",
    "\n",
    "- In practice, using an uninformed or naive prior is not harmful assuming you get enough data (and how would we determine enough data in Bayesian world?)\n",
    "\n",
    "- https://en.wikipedia.org/wiki/Bernstein%E2%80%93von_Mises_theorem\n",
    "\n",
    "This does make me question some of the value of a prior, especially in our current work where we get thousands (at a minimum) of data points. \n",
    "\n",
    "What value does that prior actually provide in the case where we know we will get 10M observations?"
   ]
  },
  {
   "cell_type": "markdown",
   "id": "3d325b14",
   "metadata": {},
   "source": [
    "### Updating At Once: \n",
    "\n",
    "- Rather than update after each spin we can compute the likelihood of the entire dataset at once. \n",
    "- This means using binomial distribution and computing probability of getting `140 heads out of 250 spins` given each hypothesis `x`"
   ]
  },
  {
   "cell_type": "code",
   "execution_count": 73,
   "id": "b0e43bfd",
   "metadata": {},
   "outputs": [],
   "source": [
    "from scipy.stats import binom\n",
    "\n",
    "def update_binomial(pmf, data):\n",
    "    \"\"\"Update pmf using the binomial distribution.\"\"\"\n",
    "    k, n = data\n",
    "    xs = pmf.qs\n",
    "    likelihood = binom.pmf(k, n, xs)\n",
    "    pmf *= likelihood\n",
    "    pmf.normalize()"
   ]
  },
  {
   "cell_type": "code",
   "execution_count": 74,
   "id": "22a3f7d0",
   "metadata": {},
   "outputs": [],
   "source": [
    "uniform2 = Pmf(1, hypos, name='uniform2')\n",
    "data = 140, 250\n",
    "update_binomial(uniform2, data)\n",
    "\n",
    "assert np.allclose(uniform, uniform2)"
   ]
  },
  {
   "cell_type": "markdown",
   "id": "485b637f",
   "metadata": {},
   "source": [
    "#### Why Does The Above Work? \n",
    "\n",
    "- The likelihood's end up being the same, I will walk through with a toy example below"
   ]
  },
  {
   "cell_type": "code",
   "execution_count": 92,
   "id": "e30a03bc",
   "metadata": {},
   "outputs": [
    {
     "name": "stdout",
     "output_type": "stream",
     "text": [
      "[0.   0.25 0.5  0.75 1.  ]\n",
      "[0.         0.00292969 0.03125    0.07910156 0.        ]\n",
      "[0.         0.01464844 0.15625    0.39550781 0.        ]\n"
     ]
    }
   ],
   "source": [
    "hypos = np.linspace(0, 1, 5)\n",
    "print(hypos)\n",
    "\n",
    "likelihood_heads = hypos\n",
    "likelihood_tails = 1 - hypos\n",
    "\n",
    "likelihood = {\n",
    "    'H': likelihood_heads,\n",
    "    'T': likelihood_tails\n",
    "}\n",
    "\n",
    "dataset = 'H' * 4 + 'T' * 1\n",
    "val = np.asarray([1.0,1.0,1.0,1.0,1.0])\n",
    "for data in dataset:\n",
    "    val *= likelihood[data]\n",
    "\n",
    "print(val)\n",
    "\n",
    "# compare to single step\n",
    "k, n = 4,5 # 4 heads, 5 total\n",
    "xs = [0.  , 0.25, 0.5 , 0.75, 1.  ]\n",
    "likelihood = binom.pmf(k, n, xs)\n",
    "print(likelihood)"
   ]
  },
  {
   "cell_type": "markdown",
   "id": "2c79b73c",
   "metadata": {},
   "source": [
    "### Final Thoughts: \n",
    "\n",
    "- The above normalizes to the same value\n",
    "- I followed this fully until the comment around the "
   ]
  }
 ],
 "metadata": {
  "kernelspec": {
   "display_name": "ml",
   "language": "python",
   "name": "ml"
  },
  "language_info": {
   "codemirror_mode": {
    "name": "ipython",
    "version": 3
   },
   "file_extension": ".py",
   "mimetype": "text/x-python",
   "name": "python",
   "nbconvert_exporter": "python",
   "pygments_lexer": "ipython3",
   "version": "3.9.2"
  }
 },
 "nbformat": 4,
 "nbformat_minor": 5
}
