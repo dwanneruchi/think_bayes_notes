{
 "cells": [
  {
   "cell_type": "markdown",
   "id": "7af0b63c",
   "metadata": {},
   "source": [
    "### Poisson processes:\n",
    "\n",
    "- Model used to describe events that occur at random intervals\n",
    "- Example: traffic, goals scored in a soccer game\n",
    "\n",
    "#### Problem Covered: The World Cup Problem\n",
    "\n",
    "In the 2018 FIFA World Cup final, France defeated Croatia 4 goals to 2. Based on this outcome:\n",
    "\n",
    "- How confident should we be that France is the better team?\n",
    "\n",
    "- If the same teams played again, what is the chance France would win again?\n",
    "\n",
    "#### Poisson Model Decisions: \n",
    "\n",
    "Author notes these are not necessary valid but reasonable simplifications. \n",
    "\n",
    "- `lam` (lambda): for any team against another team there exists some unknown \"goal-scoring rate\" which is measured in goals per game\n",
    "\n",
    "- `lam / 90`: Assume a goal is equally likely during any minute of the game \n",
    "\n",
    "- Assume a team never scores twice during the same minute (`Note: Where does this one play out?`)\n",
    "\n",
    "#### Poisson Distribution: \n",
    "\n",
    "Assume the number of gioals scored in a game followsing a poisson distribution. \n",
    "- `lambda` represents goal-scoring rate\n",
    "- `k` represents goals scored (in a single game)\n",
    "\n",
    "$P(k) = \\frac{\\lambda^{k} * e^{-\\lambda}}{k!}$\n",
    "\n",
    "*for any non-negative value of k*"
   ]
  },
  {
   "cell_type": "code",
   "execution_count": 1,
   "id": "28cbcdef",
   "metadata": {},
   "outputs": [
    {
     "name": "stdout",
     "output_type": "stream",
     "text": [
      "Likelihood of 4 goals: 0.03947\n"
     ]
    }
   ],
   "source": [
    "from scipy.stats import poisson\n",
    "\n",
    "lam = 1.4 # assume 1.4 goals per game\n",
    "dist = poisson(lam)\n",
    "\n",
    "k = 4 # amount of goals interested in\n",
    "print(f\"Likelihood of {k} goals: {dist.pmf(k):.5f}\")"
   ]
  },
  {
   "cell_type": "code",
   "execution_count": 2,
   "id": "9b50776d",
   "metadata": {},
   "outputs": [],
   "source": [
    "# Build a pmf\n",
    "from empiricaldist import Pmf\n",
    "from numpy.typing import ArrayLike\n",
    "import numpy as np\n",
    "import matplotlib.pyplot as plt\n",
    "\n",
    "def decorate(**options):\n",
    "    \"\"\"Decorate the current axes.\n",
    "    Call decorate with keyword arguments like\n",
    "    decorate(title='Title',\n",
    "             xlabel='x',\n",
    "             ylabel='y')\n",
    "    The keyword arguments can be any of the axis properties\n",
    "    https://matplotlib.org/api/axes_api.html\n",
    "    \"\"\"\n",
    "    ax = plt.gca()\n",
    "    ax.set(**options)\n",
    "\n",
    "    handles, labels = ax.get_legend_handles_labels()\n",
    "    if handles:\n",
    "        ax.legend(handles, labels)\n",
    "\n",
    "    plt.tight_layout()\n",
    "    \n",
    "def decorate_goals(title=''):\n",
    "    decorate(xlabel='Number of goals',\n",
    "        ylabel='PMF',\n",
    "        title=title)\n",
    "    \n",
    "def make_poisson_pmf(lam: int, qs: ArrayLike) -> Pmf:\n",
    "    \"\"\"Make a Pmf of a Poisson distribution\"\"\"\n",
    "    \n",
    "    # gather probs\n",
    "    ps = poisson(lam).pmf(qs)\n",
    "    \n",
    "    # build a pmf using ps (probs) and qs(quantities)\n",
    "    pmf = Pmf(ps,qs)\n",
    "    pmf.normalize()\n",
    "    return pmf"
   ]
  },
  {
   "cell_type": "code",
   "execution_count": 3,
   "id": "31e162b8",
   "metadata": {},
   "outputs": [
    {
     "data": {
      "image/png": "[encoded data removed]",
      "text/plain": [
       "<Figure size 432x288 with 1 Axes>"
      ]
     },
     "metadata": {
      "needs_background": "light"
     },
     "output_type": "display_data"
    }
   ],
   "source": [
    "# Build our Pmf\n",
    "lam = 1.4\n",
    "goals = np.arange(10)\n",
    "pmf_goals = make_poisson_pmf(lam, goals)\n",
    "\n",
    "# Plot it out\n",
    "pmf_goals.bar(label=r'Poisson distribution with $\\lambda=1.4$')\n",
    "decorate_goals('Distribution of goals scored');"
   ]
  },
  {
   "cell_type": "markdown",
   "id": "708c3bfd",
   "metadata": {},
   "source": [
    "#### Takeaway:\n",
    "\n",
    "- Unsurprisingly, 0-2 are our highest likely goals scored, this aligns with a 1.4 goal rate.\n",
    "- We see that higher values drop off quickly, which is expected. \n",
    "\n",
    "### Reversing the Problem\n",
    "\n",
    "Given a number of goals, what can we say about the goal-scoring rate? \n",
    "\n",
    "#### Prior for lambda: Using Gamma Distribution \n",
    "\n",
    "- We know most soccer games are under 10 goals for a single team, majority under 5\n",
    "\n",
    "- Author looks at prior world cup data and estimates 1.4 goals per game on average. This can be a starting point for prior and is used as the mean of lambda. \n",
    "\n",
    "    - For a good team against a bad team we expect lambda to be higher\n",
    "    \n",
    "    - Conversely, a bad team playing a good team likely has a lower lambda\n",
    "    \n",
    "#### Why use Gamma Distribution?\n",
    "- Goal-scoring rate is continuous & non-negative (aligns with Gamma)\n",
    "\n",
    "- We can get by on this problem by only considering the `alpha` term in our gamma distribution, which would be the mean of lambda. \n",
    "    - I think for standard gamma distribution the beta term is 1 which is why we can get away with only considering alpha. \n",
    "    - This looks to be what is expected in scipy notes: https://docs.scipy.org/doc/scipy/reference/generated/scipy.stats.gamma.html\n",
    "    \n",
    "    - gamme is a reasonable prior to use given what we know about soccer (it is going to quickly dropoff, indicating lower rates in general have higher likelihoods)\n",
    "    \n",
    "- Note: This is a probability density function, so similar to cdf we can't get discrete events, but rather can densities. "
   ]
  },
  {
   "cell_type": "code",
   "execution_count": 4,
   "id": "16777641",
   "metadata": {},
   "outputs": [],
   "source": [
    "from scipy.stats import gamma\n",
    "\n",
    "alpha = 1.4\n",
    "qs = np.linspace(0, 10, 101) # pass in quantities to review\n",
    "ps = gamma(alpha).pdf(qs) # calculate prob densities"
   ]
  },
  {
   "cell_type": "code",
   "execution_count": 5,
   "id": "a817487a",
   "metadata": {},
   "outputs": [
    {
     "name": "stdout",
     "output_type": "stream",
     "text": [
      "Prior mean: 1.4140818156118378\n"
     ]
    },
    {
     "data": {
      "image/png": "[encoded data removed]",
      "text/plain": [
       "<Figure size 432x288 with 1 Axes>"
      ]
     },
     "metadata": {
      "needs_background": "light"
     },
     "output_type": "display_data"
    }
   ],
   "source": [
    "from empiricaldist import Pmf\n",
    "\n",
    "# Pass into a Pmf\n",
    "prior = Pmf(ps, qs)\n",
    "prior.normalize()\n",
    "\n",
    "# Note: This is a \"discrete approximation\" of a gamma distribution\n",
    "def decorate_rate(title=''):\n",
    "    decorate(xlabel='Goal scoring rate (lam)',\n",
    "        ylabel='PMF',\n",
    "        title=title)\n",
    "\n",
    "prior.plot(ls='--', label='prior', color='C5')\n",
    "decorate_rate(r'Prior distribution of $\\lambda$');\n",
    "\n",
    "print(f\"Prior mean: {prior.mean()}\")"
   ]
  },
  {
   "cell_type": "markdown",
   "id": "79c9c6dc",
   "metadata": {},
   "source": [
    "#### What Does This Tell us?\n",
    "\n",
    "- This distribution represents our prior knowledge about goal scoring\n",
    "    - lambda is typically less than 2\n",
    "    - sometimes it gets to 6, but rarely exceeds "
   ]
  },
  {
   "cell_type": "markdown",
   "id": "13125a9b",
   "metadata": {},
   "source": [
    "### The Update: \n",
    "\n",
    "We are given `lambda` (goal-scoring rate) and asked to compute the probability of scoring a number of goals `k`. \n",
    "\n",
    "Assume we have an array of possible `lambda` values - we can then compute a likelihood of the data (`goals scored`)  for each `labda`:"
   ]
  },
  {
   "cell_type": "code",
   "execution_count": 6,
   "id": "f40d7075",
   "metadata": {},
   "outputs": [],
   "source": [
    "lams = prior.qs\n",
    "k = 4\n",
    "likelihood = poisson(lams).pmf(k)"
   ]
  },
  {
   "cell_type": "markdown",
   "id": "1d2e192b",
   "metadata": {},
   "source": [
    "Getting the posterior is then just multiplying the priors by the likelihood"
   ]
  },
  {
   "cell_type": "code",
   "execution_count": 7,
   "id": "fc211d22",
   "metadata": {},
   "outputs": [
    {
     "data": {
      "image/png": "[encoded data removed]",
      "text/plain": [
       "<Figure size 432x288 with 1 Axes>"
      ]
     },
     "metadata": {
      "needs_background": "light"
     },
     "output_type": "display_data"
    }
   ],
   "source": [
    "def update_poisson(pmf, data):\n",
    "    \"\"\"Update Pmf with a Poisson likelihood.\"\"\"\n",
    "    k = data # goals scored\n",
    "    lams = pmf.qs # this is a gamma distribution of lambda\n",
    "    likelihood = poisson(lams).pmf(k) # pass array of lambdas in for k\n",
    "    pmf *= likelihood # update\n",
    "    pmf.normalize()\n",
    "    \n",
    "# Building posterior distribution given 4 goals were scored\n",
    "france = prior.copy()\n",
    "update_poisson(france, 4) # France scored 4 goals\n",
    "\n",
    "# Plot it\n",
    "prior.plot(ls='--', label='prior', color='C5')\n",
    "france.plot(label='France posterior', color='C3')\n",
    "\n",
    "decorate_rate('Posterior distribution for France')"
   ]
  },
  {
   "cell_type": "code",
   "execution_count": 8,
   "id": "81b13764",
   "metadata": {},
   "outputs": [
    {
     "data": {
      "image/png": "[encoded data removed]",
      "text/plain": [
       "<Figure size 432x288 with 1 Axes>"
      ]
     },
     "metadata": {
      "needs_background": "light"
     },
     "output_type": "display_data"
    }
   ],
   "source": [
    "# Croatio had 2 goals, so how does their posterior look?\n",
    "croatia = prior.copy()\n",
    "update_poisson(croatia, 2)\n",
    "\n",
    "prior.plot(ls='--', label='prior', color='C5')\n",
    "croatia.plot(label='Croatia posterior', color='C0')\n",
    "\n",
    "decorate_rate('Posterior distribution for Croatia')"
   ]
  },
  {
   "cell_type": "code",
   "execution_count": 9,
   "id": "ecfc75c2",
   "metadata": {},
   "outputs": [
    {
     "name": "stdout",
     "output_type": "stream",
     "text": [
      "1.6999765866755225 2.699772393342308\n"
     ]
    }
   ],
   "source": [
    "# look at the means:\n",
    "print(croatia.mean(), france.mean())"
   ]
  },
  {
   "cell_type": "markdown",
   "id": "9852ca92",
   "metadata": {},
   "source": [
    "#### Takeaways:\n",
    "\n",
    "- Mean of croatia is shifted up slightly, makes sense since they scored two goals. \n",
    "- Mean of france shifted even more given 4 goals are scored. "
   ]
  },
  {
   "cell_type": "markdown",
   "id": "3477e6a6",
   "metadata": {},
   "source": [
    "### Probability of Superiority:\n",
    "\n",
    "How confident should we be that France is the better team? \n",
    "\n",
    "*Compute probability that a random value drawn from France's distribution exceeds a value drawn from Croatia's:*\n",
    "\n",
    "- We can look across all possible combinations and determine when the quantity of france > croatia\n",
    "- The likelihood of this event occurring is as simple as `p1 * p2` as that is the likelihood associated with `q1 > q2`"
   ]
  },
  {
   "cell_type": "code",
   "execution_count": 10,
   "id": "50bacfcc",
   "metadata": {},
   "outputs": [
    {
     "data": {
      "text/plain": [
       "0.7499366290930155"
      ]
     },
     "execution_count": 10,
     "metadata": {},
     "output_type": "execute_result"
    }
   ],
   "source": [
    "def prob_gt(pmf1, pmf2):\n",
    "    \"\"\"Compute the probability of superiority.\"\"\"\n",
    "    total = 0\n",
    "    \n",
    "    # nested for-loop is going to build all combinations \n",
    "    for q1, p1 in pmf1.items():\n",
    "        for q2, p2 in pmf2.items():\n",
    "            \n",
    "            # Anytime q1 > q2 we calculate likelihood of these qs\n",
    "            # And then we add to total, which represents\n",
    "            # the total likelihood of choosing q1 > q2\n",
    "            if q1 > q2:\n",
    "                total += p1 * p2\n",
    "    return total\n",
    "\n",
    "prob_gt(france, croatia)"
   ]
  },
  {
   "cell_type": "code",
   "execution_count": 11,
   "id": "dfe028f2",
   "metadata": {},
   "outputs": [
    {
     "data": {
      "text/plain": [
       "0.7499366290930174"
      ]
     },
     "execution_count": 11,
     "metadata": {},
     "output_type": "execute_result"
    }
   ],
   "source": [
    "Pmf.prob_gt(france, croatia) # or can use the built-in method"
   ]
  },
  {
   "cell_type": "markdown",
   "id": "5aee6a2c",
   "metadata": {},
   "source": [
    "#### Findings:\n",
    "\n",
    "The result is close to 75%, making us fairly comfortable saying that France is the better team - in general France will have a higher goal scored than Croatia based on posterior distribution comparisons. \n",
    "\n",
    "Author note: The above result assumes a fixed goal-scoring rate. Likely an unfair assumption since a team down by one goal might play more aggressively, potentially increasing both their & opponent's goal-scoring rate. "
   ]
  },
  {
   "cell_type": "markdown",
   "id": "ce0a8f16",
   "metadata": {},
   "source": [
    "### Predicting the Rematch: \n",
    "\n",
    "*If the same teams played again, what is the chance Croatia would win?*\n",
    "\n",
    "We can solve this by generating `posterior predictive distribution`, which will represent the number of goals we expect a team to score. \n"
   ]
  },
  {
   "cell_type": "code",
   "execution_count": 12,
   "id": "a46c615e",
   "metadata": {},
   "outputs": [
    {
     "name": "stdout",
     "output_type": "stream",
     "text": [
      "[0 1 2 3 4 5 6 7 8 9]\n"
     ]
    },
    {
     "data": {
      "image/png": "[encoded data removed]",
      "text/plain": [
       "<Figure size 432x288 with 4 Axes>"
      ]
     },
     "metadata": {
      "needs_background": "light"
     },
     "output_type": "display_data"
    }
   ],
   "source": [
    "# Build a sequence of Pmfs based on different lambda values\n",
    "print(goals)\n",
    "pmf_seq = [make_poisson_pmf(lam, goals) \n",
    "           for lam in prior.qs]\n",
    "\n",
    "# Plot a few different Poisson PMFs\n",
    "for i, index in enumerate([10, 20, 30, 40]):\n",
    "    plt.subplot(2, 2, i+1)\n",
    "    lam = prior.qs[index]\n",
    "    pmf = pmf_seq[index]\n",
    "    pmf.bar(label=f'$\\lambda$ = {lam}', color='C3')\n",
    "    decorate_goals()"
   ]
  },
  {
   "cell_type": "code",
   "execution_count": 13,
   "id": "ccb175ff",
   "metadata": {},
   "outputs": [],
   "source": [
    "import pandas as pd \n",
    "\n",
    "def make_mixture(pmf, pmf_seq):\n",
    "    \"\"\"Make a mixture of distributions.\"\"\"\n",
    "    df = pd.DataFrame(pmf_seq).fillna(0).transpose()\n",
    "    df *= np.array(pmf)\n",
    "    total = df.sum(axis=1)\n",
    "    return Pmf(total)"
   ]
  },
  {
   "cell_type": "markdown",
   "id": "a95fc087",
   "metadata": {},
   "source": [
    "#### How Does Make Mixture Work here?\n",
    "\n",
    "Walk through below:\n",
    "\n",
    "- pmf_seq represents the 101 different distributions, pandas df:\n",
    "    - each row represents a different number of goals scored (thus integer)\n",
    "    - each column represents a Pmf built with a different Lambda \n",
    "        - and each value in a column represents a different probability for the associated number of goals\n",
    "        - column values sum to 1\n",
    "    - this represents our conditional probability: Given a lambda, what is the probability of scoring X goals\n",
    "        \n",
    "- we then multiply our posterior (pmf) by each likelihood value:\n",
    "    - our  `pmf` object shows likelihood of lambda (101 values) for 0 - 10 in increments of 0.1\n",
    "        - this is the distribution of our goal-scoring rate (really this is the posterior distribution)\n",
    "\n",
    "So each value is actually: P(X | Lambda) * P(Lambda)\n",
    "- We are accounting for the uncertainty of the lambda term now, which is how we make a prediction\n",
    "\n",
    "- And of course sum across each row to get the likelihood of a specific event occurring:\n",
    "    - This is the sum across each lambda for a single event X\n",
    "    - So we look at likelihood of Scoring 1 goal with lambda 0, lamba 0.1.., lambda 1"
   ]
  },
  {
   "cell_type": "code",
   "execution_count": 14,
   "id": "9c0e91dc",
   "metadata": {},
   "outputs": [
    {
     "data": {
      "text/html": [
       "<div>\n",
       "<style scoped>\n",
       "    .dataframe tbody tr th:only-of-type {\n",
       "        vertical-align: middle;\n",
       "    }\n",
       "\n",
       "    .dataframe tbody tr th {\n",
       "        vertical-align: top;\n",
       "    }\n",
       "\n",
       "    .dataframe thead th {\n",
       "        text-align: right;\n",
       "    }\n",
       "</style>\n",
       "<table border=\"1\" class=\"dataframe\">\n",
       "  <thead>\n",
       "    <tr style=\"text-align: right;\">\n",
       "      <th></th>\n",
       "      <th></th>\n",
       "      <th></th>\n",
       "      <th></th>\n",
       "      <th></th>\n",
       "      <th></th>\n",
       "      <th></th>\n",
       "      <th></th>\n",
       "      <th></th>\n",
       "      <th></th>\n",
       "      <th></th>\n",
       "      <th>...</th>\n",
       "      <th></th>\n",
       "      <th></th>\n",
       "      <th></th>\n",
       "      <th></th>\n",
       "      <th></th>\n",
       "      <th></th>\n",
       "      <th></th>\n",
       "      <th></th>\n",
       "      <th></th>\n",
       "      <th></th>\n",
       "    </tr>\n",
       "  </thead>\n",
       "  <tbody>\n",
       "    <tr>\n",
       "      <th>0</th>\n",
       "      <td>1.0</td>\n",
       "      <td>0.904837</td>\n",
       "      <td>0.818731</td>\n",
       "      <td>0.740818</td>\n",
       "      <td>0.670320</td>\n",
       "      <td>0.606531</td>\n",
       "      <td>0.548812</td>\n",
       "      <td>0.496585</td>\n",
       "      <td>0.449329</td>\n",
       "      <td>0.406570</td>\n",
       "      <td>...</td>\n",
       "      <td>0.000194</td>\n",
       "      <td>0.000180</td>\n",
       "      <td>0.000167</td>\n",
       "      <td>0.000155</td>\n",
       "      <td>0.000143</td>\n",
       "      <td>0.000133</td>\n",
       "      <td>0.000124</td>\n",
       "      <td>0.000115</td>\n",
       "      <td>0.000107</td>\n",
       "      <td>0.000099</td>\n",
       "    </tr>\n",
       "    <tr>\n",
       "      <th>1</th>\n",
       "      <td>0.0</td>\n",
       "      <td>0.090484</td>\n",
       "      <td>0.163746</td>\n",
       "      <td>0.222245</td>\n",
       "      <td>0.268128</td>\n",
       "      <td>0.303265</td>\n",
       "      <td>0.329287</td>\n",
       "      <td>0.347610</td>\n",
       "      <td>0.359463</td>\n",
       "      <td>0.365913</td>\n",
       "      <td>...</td>\n",
       "      <td>0.001770</td>\n",
       "      <td>0.001657</td>\n",
       "      <td>0.001552</td>\n",
       "      <td>0.001454</td>\n",
       "      <td>0.001363</td>\n",
       "      <td>0.001278</td>\n",
       "      <td>0.001199</td>\n",
       "      <td>0.001125</td>\n",
       "      <td>0.001056</td>\n",
       "      <td>0.000991</td>\n",
       "    </tr>\n",
       "    <tr>\n",
       "      <th>2</th>\n",
       "      <td>0.0</td>\n",
       "      <td>0.004524</td>\n",
       "      <td>0.016375</td>\n",
       "      <td>0.033337</td>\n",
       "      <td>0.053626</td>\n",
       "      <td>0.075816</td>\n",
       "      <td>0.098786</td>\n",
       "      <td>0.121663</td>\n",
       "      <td>0.143785</td>\n",
       "      <td>0.164661</td>\n",
       "      <td>...</td>\n",
       "      <td>0.008052</td>\n",
       "      <td>0.007621</td>\n",
       "      <td>0.007215</td>\n",
       "      <td>0.006833</td>\n",
       "      <td>0.006473</td>\n",
       "      <td>0.006133</td>\n",
       "      <td>0.005813</td>\n",
       "      <td>0.005511</td>\n",
       "      <td>0.005226</td>\n",
       "      <td>0.004957</td>\n",
       "    </tr>\n",
       "    <tr>\n",
       "      <th>3</th>\n",
       "      <td>0.0</td>\n",
       "      <td>0.000151</td>\n",
       "      <td>0.001092</td>\n",
       "      <td>0.003334</td>\n",
       "      <td>0.007150</td>\n",
       "      <td>0.012636</td>\n",
       "      <td>0.019757</td>\n",
       "      <td>0.028388</td>\n",
       "      <td>0.038343</td>\n",
       "      <td>0.049398</td>\n",
       "      <td>...</td>\n",
       "      <td>0.024423</td>\n",
       "      <td>0.023371</td>\n",
       "      <td>0.022368</td>\n",
       "      <td>0.021410</td>\n",
       "      <td>0.020497</td>\n",
       "      <td>0.019626</td>\n",
       "      <td>0.018795</td>\n",
       "      <td>0.018002</td>\n",
       "      <td>0.017246</td>\n",
       "      <td>0.016524</td>\n",
       "    </tr>\n",
       "    <tr>\n",
       "      <th>4</th>\n",
       "      <td>0.0</td>\n",
       "      <td>0.000004</td>\n",
       "      <td>0.000055</td>\n",
       "      <td>0.000250</td>\n",
       "      <td>0.000715</td>\n",
       "      <td>0.001580</td>\n",
       "      <td>0.002964</td>\n",
       "      <td>0.004968</td>\n",
       "      <td>0.007669</td>\n",
       "      <td>0.011115</td>\n",
       "      <td>...</td>\n",
       "      <td>0.055563</td>\n",
       "      <td>0.053754</td>\n",
       "      <td>0.052005</td>\n",
       "      <td>0.050315</td>\n",
       "      <td>0.048681</td>\n",
       "      <td>0.047103</td>\n",
       "      <td>0.045578</td>\n",
       "      <td>0.044105</td>\n",
       "      <td>0.042683</td>\n",
       "      <td>0.041309</td>\n",
       "    </tr>\n",
       "  </tbody>\n",
       "</table>\n",
       "<p>5 rows × 101 columns</p>\n",
       "</div>"
      ],
      "text/plain": [
       "                                                                              \\\n",
       "0  1.0  0.904837  0.818731  0.740818  0.670320  0.606531  0.548812  0.496585   \n",
       "1  0.0  0.090484  0.163746  0.222245  0.268128  0.303265  0.329287  0.347610   \n",
       "2  0.0  0.004524  0.016375  0.033337  0.053626  0.075816  0.098786  0.121663   \n",
       "3  0.0  0.000151  0.001092  0.003334  0.007150  0.012636  0.019757  0.028388   \n",
       "4  0.0  0.000004  0.000055  0.000250  0.000715  0.001580  0.002964  0.004968   \n",
       "\n",
       "                       ...                                                    \\\n",
       "0  0.449329  0.406570  ...  0.000194  0.000180  0.000167  0.000155  0.000143   \n",
       "1  0.359463  0.365913  ...  0.001770  0.001657  0.001552  0.001454  0.001363   \n",
       "2  0.143785  0.164661  ...  0.008052  0.007621  0.007215  0.006833  0.006473   \n",
       "3  0.038343  0.049398  ...  0.024423  0.023371  0.022368  0.021410  0.020497   \n",
       "4  0.007669  0.011115  ...  0.055563  0.053754  0.052005  0.050315  0.048681   \n",
       "\n",
       "                                                     \n",
       "0  0.000133  0.000124  0.000115  0.000107  0.000099  \n",
       "1  0.001278  0.001199  0.001125  0.001056  0.000991  \n",
       "2  0.006133  0.005813  0.005511  0.005226  0.004957  \n",
       "3  0.019626  0.018795  0.018002  0.017246  0.016524  \n",
       "4  0.047103  0.045578  0.044105  0.042683  0.041309  \n",
       "\n",
       "[5 rows x 101 columns]"
      ]
     },
     "execution_count": 14,
     "metadata": {},
     "output_type": "execute_result"
    }
   ],
   "source": [
    "# handling pmf_seq\n",
    "df = pd.DataFrame(pmf_seq).fillna(0).transpose()\n",
    "\n",
    "# confirm each col sums to 1\n",
    "assert(sum(df.sum(numeric_only=True, axis=0)) == 101)\n",
    "\n",
    "df.head()"
   ]
  },
  {
   "cell_type": "code",
   "execution_count": 15,
   "id": "15ba9093",
   "metadata": {},
   "outputs": [],
   "source": [
    "# update\n",
    "df *= np.array(france)"
   ]
  },
  {
   "cell_type": "code",
   "execution_count": 16,
   "id": "adcdcdd8",
   "metadata": {},
   "outputs": [
    {
     "data": {
      "text/plain": [
       "0    0.112030\n",
       "1    0.201777\n",
       "2    0.215467\n",
       "3    0.177493\n",
       "4    0.124612\n",
       "dtype: float64"
      ]
     },
     "execution_count": 16,
     "metadata": {},
     "output_type": "execute_result"
    }
   ],
   "source": [
    "total = df.sum(axis=1)\n",
    "total.head()"
   ]
  },
  {
   "cell_type": "code",
   "execution_count": 17,
   "id": "faaaa384",
   "metadata": {},
   "outputs": [
    {
     "data": {
      "image/png": "[encoded data removed]",
      "text/plain": [
       "<Figure size 432x288 with 1 Axes>"
      ]
     },
     "metadata": {
      "needs_background": "light"
     },
     "output_type": "display_data"
    }
   ],
   "source": [
    "Pmf(total).bar(color='C3', label='France')\n",
    "decorate_goals('Posterior predictive distribution')"
   ]
  },
  {
   "cell_type": "code",
   "execution_count": 18,
   "id": "87a69998",
   "metadata": {},
   "outputs": [
    {
     "data": {
      "image/png": "[encoded data removed]",
      "text/plain": [
       "<Figure size 432x288 with 1 Axes>"
      ]
     },
     "metadata": {
      "needs_background": "light"
     },
     "output_type": "display_data"
    }
   ],
   "source": [
    "pred_croatia = make_mixture(croatia, pmf_seq)\n",
    "pred_croatia.bar(color='C0', label='Croatia')\n",
    "decorate_goals('Posterior predictive distribution');"
   ]
  },
  {
   "cell_type": "markdown",
   "id": "fcc12d42",
   "metadata": {},
   "source": [
    "#### Posterior Predictive Distribution: \n",
    "\n",
    "- It differs from our posterior as the posterior we made before is only accounting for a single parameter, such as a single lambda\n",
    "- The PPD is going to consider a sequence of poisson PMFs, and these get weighted by the posterior\n",
    "- Based on this, we get a distribution of goal-scoring that takes into account evidence (goals scored in prior game) and general likelihood (various lambda distributions) and spits out a marginal distribution of goals scored averaged across various lambdas. \n",
    "\n",
    "\n",
    "#### Solving our Problem\n",
    "\n",
    "We can compare these posterior distributions in the same way as shown before, looking at how often France quantity (goals scored) > Croatia. \n",
    "- Additionally, we need to consider ties!\n",
    "- Not sure why we omitted this previously"
   ]
  },
  {
   "cell_type": "code",
   "execution_count": 19,
   "id": "ff4ad5c5",
   "metadata": {},
   "outputs": [
    {
     "data": {
      "text/plain": [
       "0.5703522415934519"
      ]
     },
     "execution_count": 19,
     "metadata": {},
     "output_type": "execute_result"
    }
   ],
   "source": [
    "# build france\n",
    "pred_france = make_mixture(france, pmf_seq)\n",
    "win = Pmf.prob_gt(pred_france, pred_croatia)\n",
    "win"
   ]
  },
  {
   "cell_type": "code",
   "execution_count": 20,
   "id": "da82dd04",
   "metadata": {},
   "outputs": [
    {
     "data": {
      "text/plain": [
       "0.26443376257235873"
      ]
     },
     "execution_count": 20,
     "metadata": {},
     "output_type": "execute_result"
    }
   ],
   "source": [
    "lose = Pmf.prob_lt(pred_france, pred_croatia)\n",
    "lose"
   ]
  },
  {
   "cell_type": "code",
   "execution_count": 21,
   "id": "5167cdd0",
   "metadata": {},
   "outputs": [
    {
     "data": {
      "text/plain": [
       "0.16521399583418947"
      ]
     },
     "execution_count": 21,
     "metadata": {},
     "output_type": "execute_result"
    }
   ],
   "source": [
    "tie = Pmf.prob_eq(pred_france, pred_croatia)\n",
    "tie"
   ]
  },
  {
   "cell_type": "code",
   "execution_count": 22,
   "id": "bc6b6065",
   "metadata": {},
   "outputs": [
    {
     "data": {
      "text/plain": [
       "0.6529592395105466"
      ]
     },
     "execution_count": 22,
     "metadata": {},
     "output_type": "execute_result"
    }
   ],
   "source": [
    "# Total win: assume France wins half of ties:\n",
    "win + tie/2"
   ]
  },
  {
   "cell_type": "markdown",
   "id": "0291f822",
   "metadata": {},
   "source": [
    "#### What if we use a uniform prior? \n",
    "\n",
    "This is really just for my own handling of what the predictive posterior is showing us: \n",
    "- It takes into account the data we have seen (our posterior) almost as a weight for the sequence of Poisson distributions\n",
    "- When we have a uniform distribution of lambda (our data shows each lambda is possible) we get almost a uniform posterior predictive distribution. The nature of poisson Pmf means we won't get exact uniform posterior predictive\n"
   ]
  },
  {
   "cell_type": "code",
   "execution_count": 23,
   "id": "9c777f91",
   "metadata": {},
   "outputs": [
    {
     "data": {
      "image/png": "[encoded data removed]",
      "text/plain": [
       "<Figure size 432x288 with 1 Axes>"
      ]
     },
     "metadata": {
      "needs_background": "light"
     },
     "output_type": "display_data"
    }
   ],
   "source": [
    "# build uniform distribution of lambda:\n",
    "qs = np.linspace(0, 10, 101)\n",
    "uni = Pmf.from_seq(qs)\n",
    "pred_uni = make_mixture(uni, pmf_seq)\n",
    "pred_uni.bar(color='C0', label='Uniform')\n",
    "decorate_goals('Posterior predictive distribution');"
   ]
  },
  {
   "cell_type": "markdown",
   "id": "3b14b4c5",
   "metadata": {},
   "source": [
    "\n"
   ]
  }
 ],
 "metadata": {
  "kernelspec": {
   "display_name": "ml",
   "language": "python",
   "name": "ml"
  },
  "language_info": {
   "codemirror_mode": {
    "name": "ipython",
    "version": 3
   },
   "file_extension": ".py",
   "mimetype": "text/x-python",
   "name": "python",
   "nbconvert_exporter": "python",
   "pygments_lexer": "ipython3",
   "version": "3.9.2"
  }
 },
 "nbformat": 4,
 "nbformat_minor": 5
}
