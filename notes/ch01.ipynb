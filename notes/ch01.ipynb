{
 "cells": [
  {
   "cell_type": "markdown",
   "id": "e7b8f7dc",
   "metadata": {},
   "source": [
    "### Conjunction Fallacy: \n",
    "\n",
    "- A formal fallacy that occurs when it is assumed that specific conditions aremoremprobable than a single, general one\n",
    "\n",
    "Example: \n",
    "\n",
    "```\n",
    "Linda is 31 years old, single, outspoken, and very bright. She majored in philosophy. As a student, she was deeply concerned with issues of discrimination and social justice, and also participated in anti-nuclear demonstrations. Which is more probable?\n",
    "\n",
    "- Linda is a bank teller.\n",
    "\n",
    "- Linda is a bank teller and is active in the feminist movement.\n",
    "```\n",
    "\n",
    "The second might seemmore consistent with the descriptions, but it can't be more probable. \n",
    "- If we find 1000 people who fit Linda's description and 10 work as bank tells, at most 10 are also feminists (so equal probability, not more probability). "
   ]
  },
  {
   "cell_type": "code",
   "execution_count": 1,
   "id": "f893181e",
   "metadata": {},
   "outputs": [],
   "source": [
    "# Load the data file\n",
    "# Source: https://github.com/AllenDowney/ThinkBayes2/blob/master/notebooks/chap01.ipynb\n",
    "\n",
    "from os.path import basename, exists\n",
    "\n",
    "def download(url):\n",
    "    filename = basename(url)\n",
    "    if not exists(filename):\n",
    "        from urllib.request import urlretrieve\n",
    "        local, _ = urlretrieve(url, filename)\n",
    "        print('Downloaded ' + local)\n",
    "    \n",
    "download('https://github.com/AllenDowney/BiteSizeBayes/raw/master/gss_bayes.csv')"
   ]
  },
  {
   "cell_type": "code",
   "execution_count": 2,
   "id": "ae91dd82",
   "metadata": {},
   "outputs": [
    {
     "data": {
      "text/html": [
       "<div>\n",
       "<style scoped>\n",
       "    .dataframe tbody tr th:only-of-type {\n",
       "        vertical-align: middle;\n",
       "    }\n",
       "\n",
       "    .dataframe tbody tr th {\n",
       "        vertical-align: top;\n",
       "    }\n",
       "\n",
       "    .dataframe thead th {\n",
       "        text-align: right;\n",
       "    }\n",
       "</style>\n",
       "<table border=\"1\" class=\"dataframe\">\n",
       "  <thead>\n",
       "    <tr style=\"text-align: right;\">\n",
       "      <th></th>\n",
       "      <th>year</th>\n",
       "      <th>age</th>\n",
       "      <th>sex</th>\n",
       "      <th>polviews</th>\n",
       "      <th>partyid</th>\n",
       "      <th>indus10</th>\n",
       "    </tr>\n",
       "    <tr>\n",
       "      <th>caseid</th>\n",
       "      <th></th>\n",
       "      <th></th>\n",
       "      <th></th>\n",
       "      <th></th>\n",
       "      <th></th>\n",
       "      <th></th>\n",
       "    </tr>\n",
       "  </thead>\n",
       "  <tbody>\n",
       "    <tr>\n",
       "      <th>1</th>\n",
       "      <td>1974</td>\n",
       "      <td>21.0</td>\n",
       "      <td>1</td>\n",
       "      <td>4.0</td>\n",
       "      <td>2.0</td>\n",
       "      <td>4970.0</td>\n",
       "    </tr>\n",
       "    <tr>\n",
       "      <th>2</th>\n",
       "      <td>1974</td>\n",
       "      <td>41.0</td>\n",
       "      <td>1</td>\n",
       "      <td>5.0</td>\n",
       "      <td>0.0</td>\n",
       "      <td>9160.0</td>\n",
       "    </tr>\n",
       "    <tr>\n",
       "      <th>5</th>\n",
       "      <td>1974</td>\n",
       "      <td>58.0</td>\n",
       "      <td>2</td>\n",
       "      <td>6.0</td>\n",
       "      <td>1.0</td>\n",
       "      <td>2670.0</td>\n",
       "    </tr>\n",
       "    <tr>\n",
       "      <th>6</th>\n",
       "      <td>1974</td>\n",
       "      <td>30.0</td>\n",
       "      <td>1</td>\n",
       "      <td>5.0</td>\n",
       "      <td>4.0</td>\n",
       "      <td>6870.0</td>\n",
       "    </tr>\n",
       "    <tr>\n",
       "      <th>7</th>\n",
       "      <td>1974</td>\n",
       "      <td>48.0</td>\n",
       "      <td>1</td>\n",
       "      <td>5.0</td>\n",
       "      <td>4.0</td>\n",
       "      <td>7860.0</td>\n",
       "    </tr>\n",
       "  </tbody>\n",
       "</table>\n",
       "</div>"
      ],
      "text/plain": [
       "        year   age  sex  polviews  partyid  indus10\n",
       "caseid                                             \n",
       "1       1974  21.0    1       4.0      2.0   4970.0\n",
       "2       1974  41.0    1       5.0      0.0   9160.0\n",
       "5       1974  58.0    2       6.0      1.0   2670.0\n",
       "6       1974  30.0    1       5.0      4.0   6870.0\n",
       "7       1974  48.0    1       5.0      4.0   7860.0"
      ]
     },
     "execution_count": 2,
     "metadata": {},
     "output_type": "execute_result"
    }
   ],
   "source": [
    "import pandas as pd\n",
    "\n",
    "gss = pd.read_csv('gss_bayes.csv', index_col=0)\n",
    "gss.head()"
   ]
  },
  {
   "cell_type": "markdown",
   "id": "832ca725",
   "metadata": {},
   "source": [
    "### Basic Probability:\n",
    "\n",
    "\"banking and related activities\" is code 6870\n",
    "\n",
    "Thoughts:\n",
    "- I appreciate the simplicity of the definition of probability here. Similar to Stat Rethinking, at the basic end we are really just thinking of a subset meeting conditions relative to some other set, and that is a nice way to consider what can be a complex topic."
   ]
  },
  {
   "cell_type": "code",
   "execution_count": 3,
   "id": "bfa57d8a",
   "metadata": {},
   "outputs": [
    {
     "data": {
      "text/plain": [
       "728"
      ]
     },
     "execution_count": 3,
     "metadata": {},
     "output_type": "execute_result"
    }
   ],
   "source": [
    "banker = (gss['indus10'] == 6870)\n",
    "banker.sum() # total count "
   ]
  },
  {
   "cell_type": "code",
   "execution_count": 4,
   "id": "ead25c5d",
   "metadata": {},
   "outputs": [
    {
     "data": {
      "text/plain": [
       "0.014769730168391155"
      ]
     },
     "execution_count": 4,
     "metadata": {},
     "output_type": "execute_result"
    }
   ],
   "source": [
    "banker.mean() # fraction of bankers, or probability of getting a banker when choosing ranodmly"
   ]
  },
  {
   "cell_type": "code",
   "execution_count": 5,
   "id": "f381bedb",
   "metadata": {},
   "outputs": [
    {
     "data": {
      "text/plain": [
       "0.5378575776019476"
      ]
     },
     "execution_count": 5,
     "metadata": {},
     "output_type": "execute_result"
    }
   ],
   "source": [
    "def prob(A):\n",
    "    \"\"\"Computes the probability of a proposition, A\"\"\"\n",
    "    return A.mean()\n",
    "\n",
    "# prob of females\n",
    "# Note: higher than US pop since it doesn't include\n",
    "# people in institutions like prisons / military which\n",
    "# tend to have higher rates of male. \n",
    "female = (gss['sex'] == 2)\n",
    "prob(female)"
   ]
  },
  {
   "cell_type": "code",
   "execution_count": 6,
   "id": "36de0536",
   "metadata": {},
   "outputs": [
    {
     "data": {
      "text/plain": [
       "0.27374721038750255"
      ]
     },
     "execution_count": 6,
     "metadata": {},
     "output_type": "execute_result"
    }
   ],
   "source": [
    "# Liberal is 1-3\n",
    "liberal = (gss['polviews'] <= 3)\n",
    "prob(liberal) "
   ]
  },
  {
   "cell_type": "code",
   "execution_count": 7,
   "id": "a1c2927f",
   "metadata": {},
   "outputs": [
    {
     "data": {
      "text/plain": [
       "0.3662609048488537"
      ]
     },
     "execution_count": 7,
     "metadata": {},
     "output_type": "execute_result"
    }
   ],
   "source": [
    "# dems\n",
    "democrat = (gss['partyid'] <= 1)\n",
    "prob(democrat)\n"
   ]
  },
  {
   "cell_type": "markdown",
   "id": "e31f00a2",
   "metadata": {},
   "source": [
    "### Conjunction: \n",
    "\n",
    "This is just the logical `and` operation.\n",
    "\n",
    "If we have two `propositions`, `A` and `B`, then conjunction A and B is True if both A and B are True. Otherwise it is false. "
   ]
  },
  {
   "cell_type": "code",
   "execution_count": 8,
   "id": "4fd0f746",
   "metadata": {},
   "outputs": [
    {
     "data": {
      "text/plain": [
       "array([0, 1, 0])"
      ]
     },
     "execution_count": 8,
     "metadata": {},
     "output_type": "execute_result"
    }
   ],
   "source": [
    "import numpy as np\n",
    "A = np.array([1,1,0])\n",
    "B = np.array([0,1,1])\n",
    "A & B"
   ]
  },
  {
   "cell_type": "code",
   "execution_count": 9,
   "id": "2e599929",
   "metadata": {},
   "outputs": [
    {
     "data": {
      "text/plain": [
       "0.014769730168391155"
      ]
     },
     "execution_count": 9,
     "metadata": {},
     "output_type": "execute_result"
    }
   ],
   "source": [
    "# We can now revisit the problem above, except with democrat\n",
    "prob(banker)"
   ]
  },
  {
   "cell_type": "code",
   "execution_count": 10,
   "id": "3681aade",
   "metadata": {},
   "outputs": [
    {
     "data": {
      "text/plain": [
       "0.3662609048488537"
      ]
     },
     "execution_count": 10,
     "metadata": {},
     "output_type": "execute_result"
    }
   ],
   "source": [
    "prob(democrat)"
   ]
  },
  {
   "cell_type": "code",
   "execution_count": 11,
   "id": "d0d9c440",
   "metadata": {},
   "outputs": [
    {
     "data": {
      "text/plain": [
       "0.004686548995739501"
      ]
     },
     "execution_count": 11,
     "metadata": {},
     "output_type": "execute_result"
    }
   ],
   "source": [
    "# conjunction: Banker and Democrat:\n",
    "prob(banker & democrat)"
   ]
  },
  {
   "cell_type": "markdown",
   "id": "0f7b3086",
   "metadata": {},
   "source": [
    "#### Comments:\n",
    "\n",
    "As we'd expect, the `prob(b & D)` is less than `prob(b)` since not all bankers are Democrats. \n",
    "\n",
    "We expect conjunction to be commutative, `A&B` should be equal to `B&A`. \n",
    "- This is obvious here as the total Trues from the conjunction does not change based on ordering. "
   ]
  },
  {
   "cell_type": "markdown",
   "id": "47c2ebc8",
   "metadata": {},
   "source": [
    "### Conditional Probability: \n",
    "\n",
    "We now move to a probability that is dependent on a condition. \n",
    "\n",
    "- What is the prob of being a Democrat, given they are liberal?\n",
    "- What is the prob of being female, given they are a banker?\n",
    "\n",
    "This method relies on some event B occurring with some relation to another event A. E.g. The person is liberal, how does this impact prob of being democrat? \n",
    "\n",
    "Basic Steps:\n",
    "1) Select all respondents who are liberal\n",
    "\n",
    "2) Compute the fraction of selected respondents who are Democrats"
   ]
  },
  {
   "cell_type": "code",
   "execution_count": 12,
   "id": "ced7a9eb",
   "metadata": {},
   "outputs": [
    {
     "data": {
      "text/plain": [
       "0.5206403320240125"
      ]
     },
     "execution_count": 12,
     "metadata": {},
     "output_type": "execute_result"
    }
   ],
   "source": [
    "# subset to libs\n",
    "liberal = gss[gss['polviews'] <= 3]\n",
    "\n",
    "# within liberals, who is democratic?\n",
    "dem_lib = (liberal['partyid'] <= 1)\n",
    "\n",
    "# pass in prob\n",
    "prob(dem_lib)"
   ]
  },
  {
   "cell_type": "markdown",
   "id": "7af4d5fc",
   "metadata": {},
   "source": [
    "#### \n",
    "\n",
    "What is the probability that a respondent is female given they are a banker?"
   ]
  },
  {
   "cell_type": "code",
   "execution_count": 13,
   "id": "7941a5e7",
   "metadata": {},
   "outputs": [
    {
     "data": {
      "text/plain": [
       "0.7706043956043956"
      ]
     },
     "execution_count": 13,
     "metadata": {},
     "output_type": "execute_result"
    }
   ],
   "source": [
    "banker = gss[gss['indus10'] == 6870] # subset to bankers\n",
    "fem_banker = (banker['sex'] == 2)\n",
    "prob(fem_banker)"
   ]
  },
  {
   "cell_type": "code",
   "execution_count": 14,
   "id": "5d7f4d21",
   "metadata": {},
   "outputs": [
    {
     "data": {
      "text/plain": [
       "0.7706043956043956"
      ]
     },
     "execution_count": 14,
     "metadata": {},
     "output_type": "execute_result"
    }
   ],
   "source": [
    "def conditional(proposition, given):\n",
    "    \"\"\"Probability of A conditioned on given\"\"\"\n",
    "    return prob(proposition[given])\n",
    "\n",
    "# banker given - series of T/F\n",
    "banker = (gss['indus10'] == 6870)\n",
    "\n",
    "# female proposition - series of T/F\n",
    "female = (gss['sex'] == 2)\n",
    "\n",
    "conditional(female, banker)"
   ]
  },
  {
   "cell_type": "code",
   "execution_count": 15,
   "id": "331effed",
   "metadata": {},
   "outputs": [
    {
     "data": {
      "text/plain": [
       "0.27581004111500884"
      ]
     },
     "execution_count": 15,
     "metadata": {},
     "output_type": "execute_result"
    }
   ],
   "source": [
    "# Liberal given female\n",
    "conditional((gss['polviews'] <= 3), given = female)"
   ]
  },
  {
   "cell_type": "markdown",
   "id": "369e3471",
   "metadata": {},
   "source": [
    "#### More Thoughts:\n",
    "\n",
    "- Conditional Probability is not commutative"
   ]
  },
  {
   "cell_type": "code",
   "execution_count": 16,
   "id": "b9eb6189",
   "metadata": {},
   "outputs": [
    {
     "name": "stdout",
     "output_type": "stream",
     "text": [
      "0.7706043956043956\n",
      "0.02116102749801969\n"
     ]
    }
   ],
   "source": [
    "# proof of conditional not being commutative\n",
    "\n",
    "# given banker, likelihood of female\n",
    "print(conditional(female, banker))\n",
    "\n",
    "# given female, likelihood of banker\n",
    "print(conditional(banker, female))"
   ]
  },
  {
   "cell_type": "markdown",
   "id": "31b4127a",
   "metadata": {},
   "source": [
    "### \n",
    "Condition and Conjunction:"
   ]
  },
  {
   "cell_type": "code",
   "execution_count": 17,
   "id": "352f9617",
   "metadata": {},
   "outputs": [
    {
     "name": "stdout",
     "output_type": "stream",
     "text": [
      "0.576085409252669\n",
      "0.17307692307692307\n"
     ]
    }
   ],
   "source": [
    "liberal = (gss['polviews'] <= 3)\n",
    "democrat = (gss['partyid'] <= 1)\n",
    "\n",
    "# given lib & dem, likelihood of being female\n",
    "print(conditional(female, given=liberal & democrat))\n",
    "\n",
    "# given banker, likelihood of lib & fem\n",
    "print(conditional(liberal & female, given = banker))\n"
   ]
  },
  {
   "cell_type": "markdown",
   "id": "262c6969",
   "metadata": {},
   "source": [
    "### Laws of Prob: \n",
    "\n",
    "- T1: Using a conjunction to compute a conditional prob\n",
    "\n",
    "$P(A|B) = \\frac{P(A and B)}{P(B)}$\n",
    "\n",
    "Answers the question: What fraction of bankers are female?\n",
    "- Solve ratio of two probabilities:\n",
    "    - respondents who are female bankers over respondents who are bankers \n",
    "\n",
    "- Inuition:\n",
    "    - We start by finding the population rate of female & banker.\n",
    "    - We then normalize this by the population rate of banker, so assuming banker, what percentage are female?"
   ]
  },
  {
   "cell_type": "code",
   "execution_count": 18,
   "id": "f3a0d0b8",
   "metadata": {},
   "outputs": [
    {
     "data": {
      "text/plain": [
       "0.7706043956043956"
      ]
     },
     "execution_count": 18,
     "metadata": {},
     "output_type": "execute_result"
    }
   ],
   "source": [
    "# approach 1\n",
    "female[banker].mean()"
   ]
  },
  {
   "cell_type": "code",
   "execution_count": 19,
   "id": "088d4a2a",
   "metadata": {},
   "outputs": [
    {
     "data": {
      "text/plain": [
       "0.7706043956043956"
      ]
     },
     "execution_count": 19,
     "metadata": {},
     "output_type": "execute_result"
    }
   ],
   "source": [
    "# approach 2:\n",
    "conditional(female, given = banker)"
   ]
  },
  {
   "cell_type": "code",
   "execution_count": 20,
   "id": "855a2819",
   "metadata": {},
   "outputs": [
    {
     "data": {
      "text/plain": [
       "0.7706043956043956"
      ]
     },
     "execution_count": 20,
     "metadata": {},
     "output_type": "execute_result"
    }
   ],
   "source": [
    "# approach 3: ratio \n",
    "prob(female & banker) / prob(banker)"
   ]
  },
  {
   "cell_type": "code",
   "execution_count": 21,
   "id": "c3c8b00f",
   "metadata": {},
   "outputs": [
    {
     "data": {
      "text/plain": [
       "0.011381618989653074"
      ]
     },
     "execution_count": 21,
     "metadata": {},
     "output_type": "execute_result"
    }
   ],
   "source": [
    "prob(female & banker)"
   ]
  },
  {
   "cell_type": "markdown",
   "id": "0f120c86",
   "metadata": {},
   "source": [
    "T2: Using a conditional probability to compute a conjunction\n",
    "\n",
    "$P(A \\&\\ B) = P(B) P(A|B)$\n",
    "\n",
    "Intuiton: \n",
    "- We know likelihood of A given B occurred. \n",
    "- To determine A & B conjunction we multiply how likely proposition B is. \n"
   ]
  },
  {
   "cell_type": "code",
   "execution_count": 22,
   "id": "04e19d76",
   "metadata": {},
   "outputs": [
    {
     "data": {
      "text/plain": [
       "0.1425238385067965"
      ]
     },
     "execution_count": 22,
     "metadata": {},
     "output_type": "execute_result"
    }
   ],
   "source": [
    "# method 1\n",
    "prob(liberal & democrat)"
   ]
  },
  {
   "cell_type": "code",
   "execution_count": 23,
   "id": "70e87ab8",
   "metadata": {},
   "outputs": [
    {
     "data": {
      "text/plain": [
       "0.1425238385067965"
      ]
     },
     "execution_count": 23,
     "metadata": {},
     "output_type": "execute_result"
    }
   ],
   "source": [
    "# method 2\n",
    "prob(democrat) * conditional(liberal, democrat)"
   ]
  },
  {
   "cell_type": "markdown",
   "id": "8391de16",
   "metadata": {},
   "source": [
    "T3: Baye's Theorem, using conditional(A,B) to compute conditional(B,A)\n",
    "\n",
    "$P(A|B) = \\frac{P(A)P(B|A)}{P(B)}$\n",
    "\n",
    "Intuition: \n",
    "- Numerator is just `P(A & B)`\n",
    "- We then normalize by dividing by P(B), which is just the likelihood of proposition B. "
   ]
  },
  {
   "cell_type": "code",
   "execution_count": 24,
   "id": "bd1e5333",
   "metadata": {},
   "outputs": [
    {
     "data": {
      "text/plain": [
       "0.2239010989010989"
      ]
     },
     "execution_count": 24,
     "metadata": {},
     "output_type": "execute_result"
    }
   ],
   "source": [
    "conditional(liberal, given=banker)"
   ]
  },
  {
   "cell_type": "code",
   "execution_count": 25,
   "id": "0325a3f3",
   "metadata": {},
   "outputs": [
    {
     "data": {
      "text/plain": [
       "0.2239010989010989"
      ]
     },
     "execution_count": 25,
     "metadata": {},
     "output_type": "execute_result"
    }
   ],
   "source": [
    "prob(liberal) * conditional(banker, liberal) / prob(banker)"
   ]
  },
  {
   "cell_type": "markdown",
   "id": "308202f2",
   "metadata": {},
   "source": [
    "### Law of Total Probability: \n",
    "\n",
    "Below assumes B is comprised of B1 and B2\n",
    "\n",
    "$P(A) = P(B_{1} \\&\\ A) + P(B_{2} \\&\\ A)$\n",
    "\n",
    "Applies if:\n",
    "- B1 & B2 are mutually exclusive (can't both be true)\n",
    "- Collectively exhaustive (one must be true) "
   ]
  },
  {
   "cell_type": "code",
   "execution_count": 26,
   "id": "08247a13",
   "metadata": {},
   "outputs": [],
   "source": [
    "male = (gss['sex'] == 1)\n",
    "female = (gss['sex'] == 2)\n",
    "\n",
    "assert prob(banker) == (prob(male & banker) + prob(female & banker)), \"Law of total prob failed!\""
   ]
  },
  {
   "cell_type": "markdown",
   "id": "9f6d893a",
   "metadata": {},
   "source": [
    "#### \n",
    "\n",
    "MECE - Mutually Exclusive and Collectivelty Exhaustive\n",
    "\n",
    "Can write this way applying Theorem 2:\n",
    "\n",
    "$P(A) = P(B_{1})P(A|B_{1}) + P(B_{2})P(A|B_{2})$"
   ]
  },
  {
   "cell_type": "code",
   "execution_count": 27,
   "id": "a759e6df",
   "metadata": {},
   "outputs": [
    {
     "data": {
      "text/plain": [
       "0.014769730168391153"
      ]
     },
     "execution_count": 27,
     "metadata": {},
     "output_type": "execute_result"
    }
   ],
   "source": [
    "(prob(male) * conditional(banker, given=male) +\n",
    "prob(female) * conditional(banker, given=female))"
   ]
  },
  {
   "cell_type": "markdown",
   "id": "bfe09071",
   "metadata": {},
   "source": [
    "And as a summation: \n",
    "\n",
    "$P(A) = \\sum_{i} P(B_{i})P(A|B_{i})$"
   ]
  },
  {
   "cell_type": "code",
   "execution_count": 28,
   "id": "f9aeb9c0",
   "metadata": {},
   "outputs": [
    {
     "data": {
      "text/plain": [
       "1.0     1442\n",
       "2.0     5808\n",
       "3.0     6243\n",
       "4.0    18943\n",
       "5.0     7940\n",
       "6.0     7319\n",
       "7.0     1595\n",
       "Name: polviews, dtype: int64"
      ]
     },
     "execution_count": 28,
     "metadata": {},
     "output_type": "execute_result"
    }
   ],
   "source": [
    "# Gather political views (1 - 7) as B\n",
    "B = gss['polviews']\n",
    "B.value_counts().sort_index()"
   ]
  },
  {
   "cell_type": "code",
   "execution_count": 29,
   "id": "e51a18eb",
   "metadata": {},
   "outputs": [
    {
     "name": "stdout",
     "output_type": "stream",
     "text": [
      "2.8 ms ± 11.5 µs per loop (mean ± std. dev. of 7 runs, 100 loops each)\n"
     ]
    }
   ],
   "source": [
    "%%timeit 500\n",
    "# Generator expression\n",
    "sum(prob(B==i) * conditional(banker, B==i)\n",
    "    for i in range(1, 8))"
   ]
  },
  {
   "cell_type": "code",
   "execution_count": 30,
   "id": "71815f5a",
   "metadata": {},
   "outputs": [
    {
     "name": "stdout",
     "output_type": "stream",
     "text": [
      "2.8 ms ± 6.93 µs per loop (mean ± std. dev. of 7 runs, 100 loops each)\n"
     ]
    }
   ],
   "source": [
    "%%timeit 500\n",
    "# List comp\n",
    "sum([prob(B==i) * conditional(banker, B==i) \n",
    "     for i in range(1, 8)])"
   ]
  },
  {
   "cell_type": "code",
   "execution_count": 31,
   "id": "bdf255e7",
   "metadata": {},
   "outputs": [
    {
     "name": "stdout",
     "output_type": "stream",
     "text": [
      "2.81 ms ± 15 µs per loop (mean ± std. dev. of 7 runs, 100 loops each)\n"
     ]
    }
   ],
   "source": [
    "%%timeit 500\n",
    "\n",
    "# Loop\n",
    "my_sum = 0\n",
    "for i in range(1,8):\n",
    "    my_sum += prob(B==i) * conditional(banker, B==i) "
   ]
  }
 ],
 "metadata": {
  "kernelspec": {
   "display_name": "ml",
   "language": "python",
   "name": "ml"
  },
  "language_info": {
   "codemirror_mode": {
    "name": "ipython",
    "version": 3
   },
   "file_extension": ".py",
   "mimetype": "text/x-python",
   "name": "python",
   "nbconvert_exporter": "python",
   "pygments_lexer": "ipython3",
   "version": "3.9.2"
  }
 },
 "nbformat": 4,
 "nbformat_minor": 5
}
