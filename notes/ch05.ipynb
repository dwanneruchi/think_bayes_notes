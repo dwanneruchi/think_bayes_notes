{
 "cells": [
  {
   "cell_type": "code",
   "execution_count": 2,
   "id": "8127fb46",
   "metadata": {},
   "outputs": [],
   "source": [
    "import numpy as np\n",
    "import matplotlib.pyplot as plt\n",
    "import pandas as pd\n",
    "\n",
    "from empiricaldist import Pmf\n",
    "from scipy.stats import binom\n",
    "\n",
    "def make_binomial(n, p):\n",
    "    \"\"\"Make a binomial Pmf.\"\"\"\n",
    "    ks = np.arange(n+1)\n",
    "    ps = binom.pmf(ks, n, p)\n",
    "    return Pmf(ps, ks)\n",
    "\n",
    "def prob_ge(pmf, threshold):\n",
    "    \"\"\"Probability of quantities greater than threshold.\"\"\"\n",
    "    ge = (pmf.qs >= threshold)\n",
    "    total = pmf[ge].sum()\n",
    "    return total\n",
    "\n",
    "def decorate(**options):\n",
    "    \"\"\"Decorate the current axes.\n",
    "    Call decorate with keyword arguments like\n",
    "    decorate(title='Title',\n",
    "             xlabel='x',\n",
    "             ylabel='y')\n",
    "    The keyword arguments can be any of the axis properties\n",
    "    https://matplotlib.org/api/axes_api.html\n",
    "    \"\"\"\n",
    "    ax = plt.gca()\n",
    "    ax.set(**options)\n",
    "\n",
    "    handles, labels = ax.get_legend_handles_labels()\n",
    "    if handles:\n",
    "        ax.legend(handles, labels)\n",
    "\n",
    "    plt.tight_layout()"
   ]
  },
  {
   "cell_type": "markdown",
   "id": "b911bee8",
   "metadata": {},
   "source": [
    "## Estimating Counts:\n",
    "\n",
    "\n",
    "### The Train problem\n",
    "\n",
    "```\n",
    "“A railroad numbers its locomotives in order 1..N. One day you see a locomotive with the number 60. Estimate how many locomotives the railroad has.”\n",
    "```\n",
    "\n",
    "What we know?\n",
    "- We know the railroad has 60 or more locomotives (assuming of course that they always mark in incremental order)\n",
    "\n",
    "Bayesian Reasoning:\n",
    "\n",
    "- What did we know about `N` prior to seeing data? **Prior**\n",
    "- For any given value of `N` what is the likelihood of seeing the data (a locomotive with number 60)? **Likelihood**"
   ]
  },
  {
   "cell_type": "code",
   "execution_count": 3,
   "id": "4e6be94e",
   "metadata": {},
   "outputs": [],
   "source": [
    "# we can just assume 1-1000 are equally likely\n",
    "hypos = np.arange(1, 1001)\n",
    "prior = Pmf(1, hypos)"
   ]
  },
  {
   "cell_type": "markdown",
   "id": "47e00736",
   "metadata": {},
   "source": [
    "#### Likelihood\n",
    "\n",
    "- In a hypothetical fleet of `N` locomotives, what is the probability we would see 60?\n",
    "- If we assume equally likely to see any locomotive then $\\frac{1}{N}$ is the chance"
   ]
  },
  {
   "cell_type": "code",
   "execution_count": 4,
   "id": "4b66288c",
   "metadata": {},
   "outputs": [],
   "source": [
    "def update_train(pmf, data):\n",
    "    \"\"\"Update pmf based on new data.\"\"\"\n",
    "    hypos = pmf.qs\n",
    "    likelihood = 1 / hypos\n",
    "    impossible = (data > hypos) # if we see a number > hypo\n",
    "    likelihood[impossible] = 0 # then it becomes 0\n",
    "    pmf *= likelihood\n",
    "    pmf.normalize()"
   ]
  },
  {
   "cell_type": "code",
   "execution_count": 5,
   "id": "058a2b4f",
   "metadata": {},
   "outputs": [
    {
     "name": "stdout",
     "output_type": "stream",
     "text": [
      "Max: 60\n"
     ]
    },
    {
     "data": {
      "image/png": "[encoded data removed]",
      "text/plain": [
       "<Figure size 432x288 with 1 Axes>"
      ]
     },
     "metadata": {
      "needs_background": "light"
     },
     "output_type": "display_data"
    }
   ],
   "source": [
    "# we see a 60\n",
    "data = 60\n",
    "posterior = prior.copy()\n",
    "update_train(posterior, data)\n",
    "\n",
    "# plot it out\n",
    "posterior.plot(label='Posterior after train 60', color='C4')\n",
    "decorate(xlabel='Number of trains',\n",
    "         ylabel='PMF',\n",
    "         title='Posterior distribution');\n",
    "\n",
    "print(f\"Max: {posterior.max_prob()}\")"
   ]
  },
  {
   "cell_type": "markdown",
   "id": "7ad96aaa",
   "metadata": {},
   "source": [
    "#### Points to Make:\n",
    "\n",
    "- Any `N` hypothesis < 60 is ruled out to 0\n",
    "- most likely value is the data we saw\n",
    "    - this should make us uncomfortable - unlikely that we just happened to see the train with the highest number in our viewing.   \n",
    "- we could compute the mean of the posterior distribution, which is the expected value\n",
    "    - $\\sum_{i} p_{i}q_{i}$"
   ]
  },
  {
   "cell_type": "code",
   "execution_count": 6,
   "id": "a9d39755",
   "metadata": {},
   "outputs": [
    {
     "name": "stdout",
     "output_type": "stream",
     "text": [
      "333.41989326370776\n",
      "333.41989326370776\n"
     ]
    }
   ],
   "source": [
    "print(np.sum(posterior.ps * posterior.qs))\n",
    "print(posterior.mean())"
   ]
  },
  {
   "cell_type": "markdown",
   "id": "2eedb2ef",
   "metadata": {},
   "source": [
    "### Sensitivity to Prior:\n",
    "\n",
    "If we vary our upper bound we start to see large shifts in the mean given we only have one observation\n",
    "\n",
    "We can resolve this by:\n",
    "- getting more data\n",
    "- choosing a better prior with background information "
   ]
  },
  {
   "cell_type": "code",
   "execution_count": 7,
   "id": "307bf55c",
   "metadata": {},
   "outputs": [
    {
     "data": {
      "text/html": [
       "<div>\n",
       "<style scoped>\n",
       "    .dataframe tbody tr th:only-of-type {\n",
       "        vertical-align: middle;\n",
       "    }\n",
       "\n",
       "    .dataframe tbody tr th {\n",
       "        vertical-align: top;\n",
       "    }\n",
       "\n",
       "    .dataframe thead th {\n",
       "        text-align: right;\n",
       "    }\n",
       "</style>\n",
       "<table border=\"1\" class=\"dataframe\">\n",
       "  <thead>\n",
       "    <tr style=\"text-align: right;\">\n",
       "      <th></th>\n",
       "      <th>Posterior mean</th>\n",
       "    </tr>\n",
       "    <tr>\n",
       "      <th>Upper bound</th>\n",
       "      <th></th>\n",
       "    </tr>\n",
       "  </thead>\n",
       "  <tbody>\n",
       "    <tr>\n",
       "      <th>500</th>\n",
       "      <td>207.079228</td>\n",
       "    </tr>\n",
       "    <tr>\n",
       "      <th>1000</th>\n",
       "      <td>333.419893</td>\n",
       "    </tr>\n",
       "    <tr>\n",
       "      <th>2000</th>\n",
       "      <td>552.179017</td>\n",
       "    </tr>\n",
       "  </tbody>\n",
       "</table>\n",
       "</div>"
      ],
      "text/plain": [
       "             Posterior mean\n",
       "Upper bound                \n",
       "500              207.079228\n",
       "1000             333.419893\n",
       "2000             552.179017"
      ]
     },
     "execution_count": 7,
     "metadata": {},
     "output_type": "execute_result"
    }
   ],
   "source": [
    "df = pd.DataFrame(columns=['Posterior mean'])\n",
    "df.index.name = 'Upper bound'\n",
    "\n",
    "for high in [500, 1000, 2000]:\n",
    "    hypos = np.arange(1, high+1)\n",
    "    pmf = Pmf(1, hypos)\n",
    "    update_train(pmf, data=60)\n",
    "    df.loc[high] = pmf.mean()\n",
    "    \n",
    "df"
   ]
  },
  {
   "cell_type": "code",
   "execution_count": 8,
   "id": "aaf94cb3",
   "metadata": {},
   "outputs": [
    {
     "data": {
      "text/html": [
       "<div>\n",
       "<style scoped>\n",
       "    .dataframe tbody tr th:only-of-type {\n",
       "        vertical-align: middle;\n",
       "    }\n",
       "\n",
       "    .dataframe tbody tr th {\n",
       "        vertical-align: top;\n",
       "    }\n",
       "\n",
       "    .dataframe thead th {\n",
       "        text-align: right;\n",
       "    }\n",
       "</style>\n",
       "<table border=\"1\" class=\"dataframe\">\n",
       "  <thead>\n",
       "    <tr style=\"text-align: right;\">\n",
       "      <th></th>\n",
       "      <th>Posterior mean</th>\n",
       "    </tr>\n",
       "    <tr>\n",
       "      <th>Upper bound</th>\n",
       "      <th></th>\n",
       "    </tr>\n",
       "  </thead>\n",
       "  <tbody>\n",
       "    <tr>\n",
       "      <th>500</th>\n",
       "      <td>151.849588</td>\n",
       "    </tr>\n",
       "    <tr>\n",
       "      <th>1000</th>\n",
       "      <td>164.305586</td>\n",
       "    </tr>\n",
       "    <tr>\n",
       "      <th>2000</th>\n",
       "      <td>171.338181</td>\n",
       "    </tr>\n",
       "  </tbody>\n",
       "</table>\n",
       "</div>"
      ],
      "text/plain": [
       "             Posterior mean\n",
       "Upper bound                \n",
       "500              151.849588\n",
       "1000             164.305586\n",
       "2000             171.338181"
      ]
     },
     "execution_count": 8,
     "metadata": {},
     "output_type": "execute_result"
    }
   ],
   "source": [
    "# let's add two more observations: \n",
    "df = pd.DataFrame(columns=['Posterior mean'])\n",
    "df.index.name = 'Upper bound'\n",
    "\n",
    "dataset = [30, 60, 90]\n",
    "\n",
    "for high in [500, 1000, 2000]:\n",
    "    hypos = np.arange(1, high+1)\n",
    "    pmf = Pmf(1, hypos)\n",
    "    for data in dataset:\n",
    "        update_train(pmf, data)\n",
    "    df.loc[high] = pmf.mean()\n",
    "    \n",
    "df"
   ]
  },
  {
   "cell_type": "markdown",
   "id": "1193679a",
   "metadata": {},
   "source": [
    "### Power Law Prior:\n",
    "\n",
    "Most fields have many small, a few medium, and 1-2 very large companies. \n",
    "\n",
    "Equation:\n",
    "- `N`: number of companies with a given size\n",
    "\n",
    "\n",
    "$ N \\propto \\frac{1}{N}^{\\alpha}$"
   ]
  },
  {
   "cell_type": "code",
   "execution_count": 9,
   "id": "714625d4",
   "metadata": {},
   "outputs": [
    {
     "data": {
      "text/plain": [
       "1000"
      ]
     },
     "execution_count": 9,
     "metadata": {},
     "output_type": "execute_result"
    }
   ],
   "source": [
    "# building a power law:\n",
    "alpha = 1.0\n",
    "ps = hypos**(-alpha)\n",
    "power = Pmf(ps, hypos, name='power law')\n",
    "power.normalize()\n",
    "\n",
    "# and add uniform:\n",
    "hypos = np.arange(1, 1001)\n",
    "uniform = Pmf(1, hypos, name='uniform')\n",
    "uniform.normalize()"
   ]
  },
  {
   "cell_type": "code",
   "execution_count": 10,
   "id": "051a0261",
   "metadata": {},
   "outputs": [
    {
     "data": {
      "image/png": "[encoded data removed]",
      "text/plain": [
       "<Figure size 432x288 with 1 Axes>"
      ]
     },
     "metadata": {
      "needs_background": "light"
     },
     "output_type": "display_data"
    }
   ],
   "source": [
    "# puts much more initial weight on lower number of trains\n",
    "power.plot(color='C1')\n",
    "\n",
    "decorate(xlabel='Number of trains',\n",
    "         ylabel='PMF',\n",
    "         title='Prior distributions')"
   ]
  },
  {
   "cell_type": "code",
   "execution_count": 11,
   "id": "cdc1a060",
   "metadata": {},
   "outputs": [
    {
     "data": {
      "image/png": "[encoded data removed]",
      "text/plain": [
       "<Figure size 432x288 with 1 Axes>"
      ]
     },
     "metadata": {
      "needs_background": "light"
     },
     "output_type": "display_data"
    }
   ],
   "source": [
    "dataset = [60]\n",
    "update_train(uniform, dataset)\n",
    "update_train(power, dataset)\n",
    "\n",
    "# plot:\n",
    "uniform.plot(color='C4')\n",
    "power.plot(color='C1')\n",
    "\n",
    "decorate(xlabel='Number of trains',\n",
    "         ylabel='PMF',\n",
    "         title='Posterior distributions')"
   ]
  },
  {
   "cell_type": "code",
   "execution_count": 12,
   "id": "2aadea0f",
   "metadata": {},
   "outputs": [
    {
     "data": {
      "text/html": [
       "<div>\n",
       "<style scoped>\n",
       "    .dataframe tbody tr th:only-of-type {\n",
       "        vertical-align: middle;\n",
       "    }\n",
       "\n",
       "    .dataframe tbody tr th {\n",
       "        vertical-align: top;\n",
       "    }\n",
       "\n",
       "    .dataframe thead th {\n",
       "        text-align: right;\n",
       "    }\n",
       "</style>\n",
       "<table border=\"1\" class=\"dataframe\">\n",
       "  <thead>\n",
       "    <tr style=\"text-align: right;\">\n",
       "      <th></th>\n",
       "      <th>Posterior mean</th>\n",
       "    </tr>\n",
       "    <tr>\n",
       "      <th>Upper bound</th>\n",
       "      <th></th>\n",
       "    </tr>\n",
       "  </thead>\n",
       "  <tbody>\n",
       "    <tr>\n",
       "      <th>500</th>\n",
       "      <td>130.708470</td>\n",
       "    </tr>\n",
       "    <tr>\n",
       "      <th>1000</th>\n",
       "      <td>133.275231</td>\n",
       "    </tr>\n",
       "    <tr>\n",
       "      <th>2000</th>\n",
       "      <td>133.997463</td>\n",
       "    </tr>\n",
       "  </tbody>\n",
       "</table>\n",
       "</div>"
      ],
      "text/plain": [
       "             Posterior mean\n",
       "Upper bound                \n",
       "500              130.708470\n",
       "1000             133.275231\n",
       "2000             133.997463"
      ]
     },
     "execution_count": 12,
     "metadata": {},
     "output_type": "execute_result"
    }
   ],
   "source": [
    "df = pd.DataFrame(columns=['Posterior mean'])\n",
    "df.index.name = 'Upper bound'\n",
    "\n",
    "alpha = 1.0\n",
    "dataset = [30, 60, 90]\n",
    "\n",
    "for high in [500, 1000, 2000]:\n",
    "    hypos = np.arange(1, high+1)\n",
    "    ps = hypos**(-alpha)\n",
    "    power = Pmf(ps, hypos)\n",
    "    for data in dataset:\n",
    "        update_train(power, data)\n",
    "    df.loc[high] = power.mean()\n",
    "    \n",
    "df"
   ]
  },
  {
   "cell_type": "markdown",
   "id": "f00ca596",
   "metadata": {},
   "source": [
    "#### Takeaways:\n",
    "\n",
    "- The upper bound becomes less relevant with the power law - our posterior shows lower likelihood for higher values even given the data. \n",
    "\n",
    "- Our expected values are all very close, driven by data viewed and reduced impact of higher values"
   ]
  },
  {
   "cell_type": "markdown",
   "id": "2d3fda22",
   "metadata": {},
   "source": [
    "### Credible Intervals vs Confidence Intervals:\n",
    "\n",
    "Point estimates are not very helpful, which is why we turn to other approaches. \n",
    "\n",
    "Refresher: https://stats.stackexchange.com/questions/2272/whats-the-difference-between-a-confidence-interval-and-a-credible-interval\n",
    "\n",
    "*confidence intervals*\n",
    "- a range of values that should include the true value of the parameter with some minimum probability (e.g. 95%)\n",
    "- Out of every 100 experiments, at least 95 of the resulting confidence intervals will be expected to include the true value of the parameter. \n",
    "- frequentist believes the parameter has one (unknown) balue\n",
    "\n",
    "\n",
    "*credible intervals*\n",
    "- bayesian assume parameter's value is fixed but has been chosen from some prob distribution, which means we can capture uncertainty by using a prior distribution\n",
    "- this can be interpreted as a probabilistic statement about the parameter \n",
    "\n",
    "\n",
    "#### percentile rank: \n",
    "- find all values less than or equal to some `x`, sum up the corresponding probabilities\n"
   ]
  },
  {
   "cell_type": "code",
   "execution_count": 13,
   "id": "53bf97d0",
   "metadata": {},
   "outputs": [
    {
     "data": {
      "text/plain": [
       "0.2937469222495771"
      ]
     },
     "execution_count": 13,
     "metadata": {},
     "output_type": "execute_result"
    }
   ],
   "source": [
    "# compute probability that company has <= 100 trains\n",
    "power.prob_le(100)"
   ]
  },
  {
   "cell_type": "code",
   "execution_count": 15,
   "id": "c9fa9eb9",
   "metadata": {},
   "outputs": [
    {
     "data": {
      "text/plain": [
       "113"
      ]
     },
     "execution_count": 15,
     "metadata": {},
     "output_type": "execute_result"
    }
   ],
   "source": [
    "# alternatively, we can find the median by summing up probabilities for values until we equal or exceed:\n",
    "def quantile(pmf, prob):\n",
    "    \"\"\"Compute a quantile with the given prob.\"\"\"\n",
    "    total = 0\n",
    "    for q, p in pmf.items(): # unpack quantity and probability\n",
    "        total += p # sum of probs\n",
    "        if total >= prob:  # once we exceed prob of interest we return the quantity\n",
    "            return q\n",
    "    return np.nan\n",
    "\n",
    "# find median of posterior\n",
    "quantile(power, 0.5)"
   ]
  },
  {
   "cell_type": "code",
   "execution_count": 16,
   "id": "65144b49",
   "metadata": {},
   "outputs": [
    {
     "data": {
      "text/plain": [
       "array([113.])"
      ]
     },
     "execution_count": 16,
     "metadata": {},
     "output_type": "execute_result"
    }
   ],
   "source": [
    "# or we can just use Pmg\n",
    "power.quantile([0.5])"
   ]
  },
  {
   "cell_type": "code",
   "execution_count": 17,
   "id": "b94fecbc",
   "metadata": {},
   "outputs": [
    {
     "data": {
      "text/plain": [
       "array([ 91., 243.])"
      ]
     },
     "execution_count": 17,
     "metadata": {},
     "output_type": "execute_result"
    }
   ],
   "source": [
    "# 90% credible interval\n",
    "power.quantile([0.05, 0.95])"
   ]
  },
  {
   "cell_type": "code",
   "execution_count": 18,
   "id": "5cd6e7d9",
   "metadata": {},
   "outputs": [
    {
     "data": {
      "text/plain": [
       "array([ 91., 243.])"
      ]
     },
     "execution_count": 18,
     "metadata": {},
     "output_type": "execute_result"
    }
   ],
   "source": [
    "# or,\n",
    "power.credible_interval(0.9)"
   ]
  },
  {
   "cell_type": "markdown",
   "id": "4790b69d",
   "metadata": {},
   "source": [
    "### German Tank Problem:\n",
    "\n"
   ]
  }
 ],
 "metadata": {
  "kernelspec": {
   "display_name": "ml",
   "language": "python",
   "name": "ml"
  },
  "language_info": {
   "codemirror_mode": {
    "name": "ipython",
    "version": 3
   },
   "file_extension": ".py",
   "mimetype": "text/x-python",
   "name": "python",
   "nbconvert_exporter": "python",
   "pygments_lexer": "ipython3",
   "version": "3.9.2"
  }
 },
 "nbformat": 4,
 "nbformat_minor": 5
}
