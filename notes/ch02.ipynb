{
 "cells": [
  {
   "cell_type": "markdown",
   "id": "e51759e4",
   "metadata": {},
   "source": [
    "### Bayes Theorem: \n",
    "\n",
    "- We need this theorem when we are lacking a complete dataset, or to go through and make updates. \n",
    "\n",
    "\n",
    "$P(A|B) = \\frac{P(A)P(B|A)}{P(B)}$\n",
    "\n",
    "#### The Cookie Problem: \n",
    "\n",
    "Two bowls of cookies:\n",
    "- 1) 30 V, 10 C\n",
    "- 2) 20 V, 20 C\n",
    "\n",
    "Supposed you chose a bowl at random and a cookie at random. If the cookie is vanilla, what is the probability it came from Bowl 1? \n",
    "\n",
    "#### What Info Do We Have? \n",
    "\n",
    "- We want to know $P(A|B)$ -> Given we picked a Vanilla cookie, what is the likelihood our bowl was `#1`\n",
    "\n",
    "- $P(A)$ = 0.5 -> equal chance between each bowl\n",
    "- $P(B|A)$ = 0.75 -> given you chose from Bowl 1, probability of choosing a vanilla\n",
    "- $P(B)$ = 5/8 -> overall likelihood of choosing a vanilla cookie. Our normalizing constant. \n",
    "    - Note: This should really be thought of as\n",
    "    - $P(V) = P(B1) P(V|B1) + P(B2) P(V|B2)$\n",
    "        - = 0.5 * (.75) + 0.5 * (0.5) \n",
    "        - = 0.25 + 0.375 = 0.625 (or 5/8)\n",
    "    "
   ]
  },
  {
   "cell_type": "code",
   "execution_count": 1,
   "id": "473aba51",
   "metadata": {},
   "outputs": [
    {
     "name": "stdout",
     "output_type": "stream",
     "text": [
      "0.6\n"
     ]
    }
   ],
   "source": [
    "p_a_given_b = (0.5 * 0.75) / (0.625)\n",
    "print(p_a_given_b)"
   ]
  },
  {
   "cell_type": "markdown",
   "id": "b5ee1f1b",
   "metadata": {},
   "source": [
    "### Diachronic Bayes: Bayesian Update\n",
    "\n",
    "- diachronic: related to change over time; the probability of the hypotheses will change as new data is discovered over time. \n",
    "\n",
    "How this works with Bayes:\n",
    "- We can update the probability of `H` given some body of data `D`\n",
    "\n",
    "\n",
    "$P(H|D) = \\frac{P(H)P(D|H)}{P(D)}$\n",
    "\n",
    "Definitions:\n",
    "- P(H) = probability of hypothesis prior to data -> the prior\n",
    "    - In the cookie problem this was easy sinc each bowl has an equal chance of being chosen\n",
    "    - Often we must use background info for a more subjective prior\n",
    "- P(H|D) = probability of hypothesis after seeing data -> the posterior\n",
    "- P(D|H) = the probability of the data under the hypothesis -> the likelihood\n",
    "    - usually pretty straightforward \n",
    "- P(D) -> the total probability of the data regardless of hypothesis (e.g. Likelihood of vanilla cookies regardless of bowl)\n",
    "\n",
    "Aligning with MECE helps:\n",
    "- ME: mutually exclusive, so only one can be true\n",
    "- CE: collectively exhaustive, so one must be true "
   ]
  },
  {
   "cell_type": "markdown",
   "id": "14dc85d8",
   "metadata": {},
   "source": [
    "### Using Bayes Tables\n",
    "\n",
    "- Helpful for handling updates"
   ]
  },
  {
   "cell_type": "code",
   "execution_count": 2,
   "id": "fa525626",
   "metadata": {},
   "outputs": [
    {
     "data": {
      "text/html": [
       "<div>\n",
       "<style scoped>\n",
       "    .dataframe tbody tr th:only-of-type {\n",
       "        vertical-align: middle;\n",
       "    }\n",
       "\n",
       "    .dataframe tbody tr th {\n",
       "        vertical-align: top;\n",
       "    }\n",
       "\n",
       "    .dataframe thead th {\n",
       "        text-align: right;\n",
       "    }\n",
       "</style>\n",
       "<table border=\"1\" class=\"dataframe\">\n",
       "  <thead>\n",
       "    <tr style=\"text-align: right;\">\n",
       "      <th></th>\n",
       "      <th>prior</th>\n",
       "      <th>likelihood</th>\n",
       "      <th>unnorm</th>\n",
       "      <th>posterior</th>\n",
       "    </tr>\n",
       "  </thead>\n",
       "  <tbody>\n",
       "    <tr>\n",
       "      <th>Bowl 1</th>\n",
       "      <td>0.5</td>\n",
       "      <td>0.75</td>\n",
       "      <td>0.375</td>\n",
       "      <td>0.6</td>\n",
       "    </tr>\n",
       "    <tr>\n",
       "      <th>Bowl 2</th>\n",
       "      <td>0.5</td>\n",
       "      <td>0.50</td>\n",
       "      <td>0.250</td>\n",
       "      <td>0.4</td>\n",
       "    </tr>\n",
       "  </tbody>\n",
       "</table>\n",
       "</div>"
      ],
      "text/plain": [
       "        prior  likelihood  unnorm  posterior\n",
       "Bowl 1    0.5        0.75   0.375        0.6\n",
       "Bowl 2    0.5        0.50   0.250        0.4"
      ]
     },
     "execution_count": 2,
     "metadata": {},
     "output_type": "execute_result"
    }
   ],
   "source": [
    "import pandas as pd \n",
    "\n",
    "# build table of prior and likelihood\n",
    "table = pd.DataFrame(index=['Bowl 1', 'Bowl 2'])\n",
    "table['prior'] = 1/2, 1/2\n",
    "table['likelihood'] = 3/4, 1/2\n",
    "\n",
    "# build the unnorm posterior (still need to divide by sum of unnorm)\n",
    "table['unnorm'] = table['prior'] * table['likelihood']\n",
    "\n",
    "# divide each \"unnormed posterior\" by the sum of unnormed posteriors\n",
    "table['posterior'] = table['unnorm'] / table['unnorm'].sum()\n",
    "table"
   ]
  },
  {
   "cell_type": "markdown",
   "id": "166c2113",
   "metadata": {},
   "source": [
    "### Bayes Table and 3 Hypotheses: \n",
    "\n",
    "Suppose I have a box with a 6-sided die, an 8-sided die, and a 12-sided die. I choose one of the dice at random, roll it, and report that the outcome is a 1. What is the probability that I chose the 6-sided die?"
   ]
  },
  {
   "cell_type": "code",
   "execution_count": 3,
   "id": "7be09c48",
   "metadata": {},
   "outputs": [
    {
     "data": {
      "text/html": [
       "<div>\n",
       "<style scoped>\n",
       "    .dataframe tbody tr th:only-of-type {\n",
       "        vertical-align: middle;\n",
       "    }\n",
       "\n",
       "    .dataframe tbody tr th {\n",
       "        vertical-align: top;\n",
       "    }\n",
       "\n",
       "    .dataframe thead th {\n",
       "        text-align: right;\n",
       "    }\n",
       "</style>\n",
       "<table border=\"1\" class=\"dataframe\">\n",
       "  <thead>\n",
       "    <tr style=\"text-align: right;\">\n",
       "      <th></th>\n",
       "      <th>prior</th>\n",
       "      <th>likelihood</th>\n",
       "    </tr>\n",
       "  </thead>\n",
       "  <tbody>\n",
       "    <tr>\n",
       "      <th>6</th>\n",
       "      <td>1/3</td>\n",
       "      <td>1/6</td>\n",
       "    </tr>\n",
       "    <tr>\n",
       "      <th>8</th>\n",
       "      <td>1/3</td>\n",
       "      <td>1/8</td>\n",
       "    </tr>\n",
       "    <tr>\n",
       "      <th>12</th>\n",
       "      <td>1/3</td>\n",
       "      <td>1/12</td>\n",
       "    </tr>\n",
       "  </tbody>\n",
       "</table>\n",
       "</div>"
      ],
      "text/plain": [
       "   prior likelihood\n",
       "6    1/3        1/6\n",
       "8    1/3        1/8\n",
       "12   1/3       1/12"
      ]
     },
     "execution_count": 3,
     "metadata": {},
     "output_type": "execute_result"
    }
   ],
   "source": [
    "from fractions import Fraction\n",
    "\n",
    "table2 = pd.DataFrame(index=[6, 8, 12])\n",
    "\n",
    "# prior obviously 1/3\n",
    "table2['prior'] = Fraction(1, 3)\n",
    "\n",
    "# likelihood is likelihood of us seeing the data given hyp\n",
    "# in our case this is easy as it is 1 / # of sides\n",
    "table2['likelihood'] = Fraction(1, 6), Fraction(1, 8), Fraction(1, 12)\n",
    "table2"
   ]
  },
  {
   "cell_type": "code",
   "execution_count": 4,
   "id": "9af086d1",
   "metadata": {},
   "outputs": [],
   "source": [
    "# Note: not a fan of this table being updated this way\n",
    "def update(table):\n",
    "    \"\"\"Compute the posterior probabilities.\"\"\"\n",
    "    \n",
    "    # solve unnormed posterior\n",
    "    table['unnorm'] = table['prior'] * table['likelihood']\n",
    "    \n",
    "    # solve for probability of this data\n",
    "    prob_data = table['unnorm'].sum()\n",
    "    \n",
    "    # build normed posterior \n",
    "    table['posterior'] = table['unnorm'] / prob_data\n",
    "    \n",
    "    return prob_data"
   ]
  },
  {
   "cell_type": "code",
   "execution_count": 5,
   "id": "a3e537bb",
   "metadata": {},
   "outputs": [
    {
     "name": "stdout",
     "output_type": "stream",
     "text": [
      "1/8\n"
     ]
    },
    {
     "data": {
      "text/html": [
       "<div>\n",
       "<style scoped>\n",
       "    .dataframe tbody tr th:only-of-type {\n",
       "        vertical-align: middle;\n",
       "    }\n",
       "\n",
       "    .dataframe tbody tr th {\n",
       "        vertical-align: top;\n",
       "    }\n",
       "\n",
       "    .dataframe thead th {\n",
       "        text-align: right;\n",
       "    }\n",
       "</style>\n",
       "<table border=\"1\" class=\"dataframe\">\n",
       "  <thead>\n",
       "    <tr style=\"text-align: right;\">\n",
       "      <th></th>\n",
       "      <th>prior</th>\n",
       "      <th>likelihood</th>\n",
       "      <th>unnorm</th>\n",
       "      <th>posterior</th>\n",
       "    </tr>\n",
       "  </thead>\n",
       "  <tbody>\n",
       "    <tr>\n",
       "      <th>6</th>\n",
       "      <td>1/3</td>\n",
       "      <td>1/6</td>\n",
       "      <td>1/18</td>\n",
       "      <td>4/9</td>\n",
       "    </tr>\n",
       "    <tr>\n",
       "      <th>8</th>\n",
       "      <td>1/3</td>\n",
       "      <td>1/8</td>\n",
       "      <td>1/24</td>\n",
       "      <td>1/3</td>\n",
       "    </tr>\n",
       "    <tr>\n",
       "      <th>12</th>\n",
       "      <td>1/3</td>\n",
       "      <td>1/12</td>\n",
       "      <td>1/36</td>\n",
       "      <td>2/9</td>\n",
       "    </tr>\n",
       "  </tbody>\n",
       "</table>\n",
       "</div>"
      ],
      "text/plain": [
       "   prior likelihood unnorm posterior\n",
       "6    1/3        1/6   1/18       4/9\n",
       "8    1/3        1/8   1/24       1/3\n",
       "12   1/3       1/12   1/36       2/9"
      ]
     },
     "execution_count": 5,
     "metadata": {},
     "output_type": "execute_result"
    }
   ],
   "source": [
    "prob_data = update(table2)\n",
    "print(prob_data)\n",
    "table2"
   ]
  },
  {
   "cell_type": "markdown",
   "id": "49c22d58",
   "metadata": {},
   "source": [
    "#### Intuition:\n",
    "\n",
    "- We don't have a ton of info yet, and since our priors are the same they aren't informative. \n",
    "- Since the six sided die has the highest likelihood of producing the outcome we saw it is the most likely. "
   ]
  },
  {
   "cell_type": "markdown",
   "id": "20b3e118",
   "metadata": {},
   "source": [
    "### Monty Hall Problemm\n",
    "\n",
    "This always melts my mind, so I like thinking about the information we are being given as doors are opened from a larger problem.\n",
    "\n",
    "If Monty had 100 doors and I pick one. Monty then removes 98 of the doors, leaving you with your door and another one. One of them has a prize. \n",
    "- It is easier to appreciate all of the information given here. The difference is Monty removes 98 doors for us and there is no change to our original probability, which is just 1%. \n",
    "- We know the sum of probs is 1, so monty's door has a 99% chance\n",
    "\n",
    "\n",
    "#### Our Example:\n",
    "\n",
    "Suppose you pick Door 1. Before opening the door you chose, Monty opens Door 3 and reveals a goat. Then Monty offers you the option to stick with your original choice or switch to the remaining unopened door.\n",
    "- In this case, Monty is revealing to us that Door 3 has a goat. This is new information. \n",
    "- This means our set of possible options is now Door 1 or Door 2. Now door 1 still has a `1/3` likelihood, but door 2 will be `2/3` given it is just `1 - 1/3`\n",
    "\n",
    "In our problem, we want to know:\n",
    "- P(Door 1 Has Car | Door 3 Goat)\n",
    "- P(Door 2 Has Car | Door 3 Goat)\n",
    "- P(Door 3 Has Car | Door 3 Goat)"
   ]
  },
  {
   "cell_type": "code",
   "execution_count": 6,
   "id": "566cc612",
   "metadata": {},
   "outputs": [
    {
     "data": {
      "text/html": [
       "<div>\n",
       "<style scoped>\n",
       "    .dataframe tbody tr th:only-of-type {\n",
       "        vertical-align: middle;\n",
       "    }\n",
       "\n",
       "    .dataframe tbody tr th {\n",
       "        vertical-align: top;\n",
       "    }\n",
       "\n",
       "    .dataframe thead th {\n",
       "        text-align: right;\n",
       "    }\n",
       "</style>\n",
       "<table border=\"1\" class=\"dataframe\">\n",
       "  <thead>\n",
       "    <tr style=\"text-align: right;\">\n",
       "      <th></th>\n",
       "      <th>prior</th>\n",
       "    </tr>\n",
       "  </thead>\n",
       "  <tbody>\n",
       "    <tr>\n",
       "      <th>Door 1</th>\n",
       "      <td>1/3</td>\n",
       "    </tr>\n",
       "    <tr>\n",
       "      <th>Door 2</th>\n",
       "      <td>1/3</td>\n",
       "    </tr>\n",
       "    <tr>\n",
       "      <th>Door 3</th>\n",
       "      <td>1/3</td>\n",
       "    </tr>\n",
       "  </tbody>\n",
       "</table>\n",
       "</div>"
      ],
      "text/plain": [
       "       prior\n",
       "Door 1   1/3\n",
       "Door 2   1/3\n",
       "Door 3   1/3"
      ]
     },
     "execution_count": 6,
     "metadata": {},
     "output_type": "execute_result"
    }
   ],
   "source": [
    "# here is our starting point\n",
    "table3 = pd.DataFrame(index=['Door 1', 'Door 2', 'Door 3'])\n",
    "table3['prior'] = Fraction(1, 3)\n",
    "table3"
   ]
  },
  {
   "cell_type": "markdown",
   "id": "bd07ae94",
   "metadata": {},
   "source": [
    "We can now think about how Monty will act based on the hypothesis: \n",
    "\n",
    "- If the car is behind Door 1, Monty chooses Door 2 or 3 at random, so the probability he opens Door 3 is 1/2.\n",
    "    - P(Door 3 Goat| Car Door 1) \n",
    "\n",
    "- If the car is behind Door 2, Monty has to open Door 3, so the probability of the data under this hypothesis is 1.\n",
    "    - P(Door 3 Goat| Car Door 2) \n",
    "\n",
    "- If the car is behind Door 3, Monty does not open it, so the probability of the data under this hypothesis is 0.\n",
    "    - P(Door 3 Goat| Car Door 3) \n",
    "    \n",
    "    \n",
    "There is a lot of information embedded in this action: \n",
    "- If he opens Door 3 we know th ecar is not behind Door 3. \n",
    "- Opening Door 3 is more likely if the car is behind Door 2, less likely if behind Door 1. \n",
    "    - He can't open Door 2 is Door 3 holds the car. If Door 1 holds the car, it is a random selection. "
   ]
  },
  {
   "cell_type": "code",
   "execution_count": 7,
   "id": "9c6ad62a",
   "metadata": {},
   "outputs": [
    {
     "data": {
      "text/html": [
       "<div>\n",
       "<style scoped>\n",
       "    .dataframe tbody tr th:only-of-type {\n",
       "        vertical-align: middle;\n",
       "    }\n",
       "\n",
       "    .dataframe tbody tr th {\n",
       "        vertical-align: top;\n",
       "    }\n",
       "\n",
       "    .dataframe thead th {\n",
       "        text-align: right;\n",
       "    }\n",
       "</style>\n",
       "<table border=\"1\" class=\"dataframe\">\n",
       "  <thead>\n",
       "    <tr style=\"text-align: right;\">\n",
       "      <th></th>\n",
       "      <th>prior</th>\n",
       "      <th>likelihood</th>\n",
       "    </tr>\n",
       "  </thead>\n",
       "  <tbody>\n",
       "    <tr>\n",
       "      <th>Door 1</th>\n",
       "      <td>1/3</td>\n",
       "      <td>1/2</td>\n",
       "    </tr>\n",
       "    <tr>\n",
       "      <th>Door 2</th>\n",
       "      <td>1/3</td>\n",
       "      <td>1</td>\n",
       "    </tr>\n",
       "    <tr>\n",
       "      <th>Door 3</th>\n",
       "      <td>1/3</td>\n",
       "      <td>0</td>\n",
       "    </tr>\n",
       "  </tbody>\n",
       "</table>\n",
       "</div>"
      ],
      "text/plain": [
       "       prior likelihood\n",
       "Door 1   1/3        1/2\n",
       "Door 2   1/3          1\n",
       "Door 3   1/3          0"
      ]
     },
     "execution_count": 7,
     "metadata": {},
     "output_type": "execute_result"
    }
   ],
   "source": [
    "table3['likelihood'] = Fraction(1, 2), 1, 0\n",
    "table3"
   ]
  },
  {
   "cell_type": "code",
   "execution_count": 8,
   "id": "9bac0dad",
   "metadata": {},
   "outputs": [
    {
     "data": {
      "text/html": [
       "<div>\n",
       "<style scoped>\n",
       "    .dataframe tbody tr th:only-of-type {\n",
       "        vertical-align: middle;\n",
       "    }\n",
       "\n",
       "    .dataframe tbody tr th {\n",
       "        vertical-align: top;\n",
       "    }\n",
       "\n",
       "    .dataframe thead th {\n",
       "        text-align: right;\n",
       "    }\n",
       "</style>\n",
       "<table border=\"1\" class=\"dataframe\">\n",
       "  <thead>\n",
       "    <tr style=\"text-align: right;\">\n",
       "      <th></th>\n",
       "      <th>prior</th>\n",
       "      <th>likelihood</th>\n",
       "      <th>unnorm</th>\n",
       "      <th>posterior</th>\n",
       "    </tr>\n",
       "  </thead>\n",
       "  <tbody>\n",
       "    <tr>\n",
       "      <th>Door 1</th>\n",
       "      <td>1/3</td>\n",
       "      <td>1/2</td>\n",
       "      <td>1/6</td>\n",
       "      <td>1/3</td>\n",
       "    </tr>\n",
       "    <tr>\n",
       "      <th>Door 2</th>\n",
       "      <td>1/3</td>\n",
       "      <td>1</td>\n",
       "      <td>1/3</td>\n",
       "      <td>2/3</td>\n",
       "    </tr>\n",
       "    <tr>\n",
       "      <th>Door 3</th>\n",
       "      <td>1/3</td>\n",
       "      <td>0</td>\n",
       "      <td>0</td>\n",
       "      <td>0</td>\n",
       "    </tr>\n",
       "  </tbody>\n",
       "</table>\n",
       "</div>"
      ],
      "text/plain": [
       "       prior likelihood unnorm posterior\n",
       "Door 1   1/3        1/2    1/6       1/3\n",
       "Door 2   1/3          1    1/3       2/3\n",
       "Door 3   1/3          0      0         0"
      ]
     },
     "execution_count": 8,
     "metadata": {},
     "output_type": "execute_result"
    }
   ],
   "source": [
    "update(table3)\n",
    "table3"
   ]
  },
  {
   "cell_type": "markdown",
   "id": "bdc1771c",
   "metadata": {},
   "source": [
    "### Summary"
   ]
  },
  {
   "cell_type": "code",
   "execution_count": null,
   "id": "ea3bef01",
   "metadata": {},
   "outputs": [],
   "source": []
  }
 ],
 "metadata": {
  "kernelspec": {
   "display_name": "ml",
   "language": "python",
   "name": "ml"
  },
  "language_info": {
   "codemirror_mode": {
    "name": "ipython",
    "version": 3
   },
   "file_extension": ".py",
   "mimetype": "text/x-python",
   "name": "python",
   "nbconvert_exporter": "python",
   "pygments_lexer": "ipython3",
   "version": "3.9.2"
  }
 },
 "nbformat": 4,
 "nbformat_minor": 5
}
