{
 "cells": [
  {
   "cell_type": "code",
   "execution_count": 1,
   "id": "e022cc63",
   "metadata": {},
   "outputs": [],
   "source": [
    "import numpy as np\n",
    "import matplotlib.pyplot as plt\n",
    "import pandas as pd\n",
    "\n",
    "from empiricaldist import Pmf\n",
    "from scipy.stats import binom\n",
    "\n",
    "def decorate(**options):\n",
    "    \"\"\"Decorate the current axes.\n",
    "    Call decorate with keyword arguments like\n",
    "    decorate(title='Title',\n",
    "             xlabel='x',\n",
    "             ylabel='y')\n",
    "    The keyword arguments can be any of the axis properties\n",
    "    https://matplotlib.org/api/axes_api.html\n",
    "    \"\"\"\n",
    "    ax = plt.gca()\n",
    "    ax.set(**options)\n",
    "\n",
    "    handles, labels = ax.get_legend_handles_labels()\n",
    "    if handles:\n",
    "        ax.legend(handles, labels)\n",
    "\n",
    "    plt.tight_layout()"
   ]
  },
  {
   "cell_type": "markdown",
   "id": "1ddf7b89",
   "metadata": {},
   "source": [
    "### Exercise 1:\n",
    "\n",
    "Exercise: Suppose you are giving a talk in a large lecture hall and the fire marshal interrupts because they think the audience exceeds 1200 people, which is the safe capacity of the room.\n",
    "\n",
    "You think there are fewer then 1200 people, and you offer to prove it. It would take too long to count, so you try an experiment:\n",
    "\n",
    "- You ask how many people were born on May 11 and two people raise their hands.\n",
    "\n",
    "- You ask how many were born on May 23 and 1 person raises their hand.\n",
    "\n",
    "- Finally, you ask how many were born on August 1, and no one raises their hand.\n",
    "\n",
    "How many people are in the audience? What is the probability that there are more than 1200 people. Hint: Remember the binomial distribution."
   ]
  },
  {
   "cell_type": "code",
   "execution_count": 22,
   "id": "1bb3c66c",
   "metadata": {},
   "outputs": [
    {
     "data": {
      "text/plain": [
       "0.006826925750734616"
      ]
     },
     "execution_count": 22,
     "metadata": {},
     "output_type": "execute_result"
    }
   ],
   "source": [
    "# we can just assume 1-2000 are equally likely\n",
    "# modification -> going to assume I can quickly count at least 40 people -> minimal impact\n",
    "hypos = np.arange(20, 2000)\n",
    "prior = Pmf(1, hypos)\n",
    "prior.normalize()\n",
    "\n",
    "# Given each hypothesis, what is the likelihood of seeing the following\n",
    "likelihood1 = binom.pmf(2, hypos, 1/365)\n",
    "likelihood2 = binom.pmf(1, hypos, 1/365)\n",
    "likelihood3 = binom.pmf(0, hypos, 1/365)\n",
    "\n",
    "# update\n",
    "prior *= likelihood1 * likelihood2 * likelihood3\n",
    "prior.normalize()"
   ]
  },
  {
   "cell_type": "code",
   "execution_count": 26,
   "id": "704bb7e8",
   "metadata": {},
   "outputs": [
    {
     "data": {
      "text/plain": [
       "array([0.00135744, 0.00149622, 0.00164133, ..., 0.06279407, 0.06268478,\n",
       "       0.06257565])"
      ]
     },
     "execution_count": 26,
     "metadata": {},
     "output_type": "execute_result"
    }
   ],
   "source": [
    "likelihood1"
   ]
  },
  {
   "cell_type": "code",
   "execution_count": 24,
   "id": "e71b6b0e",
   "metadata": {},
   "outputs": [
    {
     "name": "stdout",
     "output_type": "stream",
     "text": [
      "Posterior mean: 486.23853939991375\n",
      "Likelihood of exceeding 2000: 0.011237340072868827\n"
     ]
    },
    {
     "data": {
      "image/png": "[encoded data removed]",
      "text/plain": [
       "<Figure size 432x288 with 1 Axes>"
      ]
     },
     "metadata": {
      "needs_background": "light"
     },
     "output_type": "display_data"
    }
   ],
   "source": [
    "def decorate_plot(title):\n",
    "    decorate(xlabel='Count of People in Audience',\n",
    "             ylabel='Probability',\n",
    "             title=title)\n",
    "    \n",
    "prior.plot(label='posterior', color='C4')\n",
    "decorate_plot(title='Posterior distribution of x');\n",
    "\n",
    "print(f\"Posterior mean: {prior.mean()}\")\n",
    "print(f\"Likelihood of exceeding 2000: {prior.prob_gt(1200)}\")"
   ]
  },
  {
   "cell_type": "markdown",
   "id": "aed03483",
   "metadata": {},
   "source": [
    "#### Exercise 1 Thoughts:\n",
    "\n",
    "- relatively straightforward, however using the binomial is interesting. I don't think I would have defaulted to that.\n",
    "- binomial: \n",
    "    - the idea being we assume everyone has a 1/365 likelihood of being born on each day\n",
    "    - we pass in our findings (e.g. 2 hands raised) along with hypotheses around count\n",
    "    - we get a likelihood for each hypothesis (independent of all hypotheses, so doesn't sum to 1, which makes sense as we could pass in infinite hypos) based on the \"trues\" (hands raised)\n",
    "    - below is an example of how this likelihood function interacts with data"
   ]
  },
  {
   "cell_type": "code",
   "execution_count": 31,
   "id": "fef714ce",
   "metadata": {},
   "outputs": [
    {
     "data": {
      "text/plain": [
       "[0.0003304417689522602, 0.23883467697687655, 0.00010404383244911251]"
      ]
     },
     "execution_count": 31,
     "metadata": {},
     "output_type": "execute_result"
    }
   ],
   "source": [
    "# as expected, if we see 2 hands and have a 1/365 chance it is much morelikely we have 500 people than 10 or 5_000\n",
    "[x for x in binom.pmf(2, [10, 500, 5_000], 1/365)]"
   ]
  },
  {
   "cell_type": "markdown",
   "id": "02e93f9d",
   "metadata": {},
   "source": [
    "### Exercise 2:\n",
    "\n",
    "I often see rabbits in the garden behind my house, but it’s not easy to tell them apart, so I don’t really know how many there are.\n",
    "\n",
    "Suppose I deploy a motion-sensing camera trap that takes a picture of the first rabbit it sees each day. After three days, I compare the pictures and conclude that two of them are the same rabbit and the other is different.\n",
    "\n",
    "*How many rabbits visit my garden?*\n",
    "\n",
    "To answer this question, we have to think about the prior distribution and the likelihood of the data:\n",
    "\n",
    "I have sometimes seen four rabbits at the same time, so I know there are at least that many. I would be surprised if there were more than 10. So, at least as a starting place, I think a uniform prior from 4 to 10 is reasonable.\n",
    "\n",
    "To keep things simple, let’s assume that all rabbits who visit my garden are equally likely to be caught by the camera trap in a given day. Let’s also assume it is guaranteed that the camera trap gets a picture every day."
   ]
  },
  {
   "cell_type": "code",
   "execution_count": 44,
   "id": "a965a390",
   "metadata": {},
   "outputs": [
    {
     "data": {
      "text/plain": [
       "7"
      ]
     },
     "execution_count": 44,
     "metadata": {},
     "output_type": "execute_result"
    }
   ],
   "source": [
    "# build prior\n",
    "hypos = np.arange(4, 11)\n",
    "prior = Pmf(1, hypos)\n",
    "prior.normalize()"
   ]
  },
  {
   "cell_type": "markdown",
   "id": "ac7c7980",
   "metadata": {},
   "source": [
    "Figuring out likelihood:\n",
    "\n",
    "- we need to determine how likely it is to see the same rabbit twice over 3 days (as the first rabbit). \n",
    "- if likelihood of being first is `x`, then a rabbit has the following likelihood of being seen again after being seen once:\n",
    "$x*(1-x) = x^{1} - x^{2}$\n",
    "\n",
    "where $x = 1/N$\n",
    "\n",
    "so:\n",
    "\n",
    "$\\frac{1}{N} (1 - \\frac{1}{N}) $"
   ]
  },
  {
   "cell_type": "code",
   "execution_count": 45,
   "id": "dfd211fd",
   "metadata": {},
   "outputs": [],
   "source": [
    "# build likelihood\n",
    "likelihood = (1/hypos) * (1 - (1/hypos))"
   ]
  },
  {
   "cell_type": "code",
   "execution_count": 46,
   "id": "a303e6b6",
   "metadata": {},
   "outputs": [
    {
     "data": {
      "text/plain": [
       "0.129568328654213"
      ]
     },
     "execution_count": 46,
     "metadata": {},
     "output_type": "execute_result"
    }
   ],
   "source": [
    "prior *= likelihood\n",
    "prior.normalize()"
   ]
  },
  {
   "cell_type": "code",
   "execution_count": 55,
   "id": "15f1dd7f",
   "metadata": {},
   "outputs": [
    {
     "name": "stdout",
     "output_type": "stream",
     "text": [
      "Posterior mean: 6.509929813748172\n",
      "Posterior Max: 4 with likelihood 0.206730\n"
     ]
    },
    {
     "data": {
      "image/png": "[encoded data removed]",
      "text/plain": [
       "<Figure size 432x288 with 1 Axes>"
      ]
     },
     "metadata": {
      "needs_background": "light"
     },
     "output_type": "display_data"
    }
   ],
   "source": [
    "def decorate_plot(title):\n",
    "    decorate(xlabel='Count of Rabbits',\n",
    "             ylabel='Probability',\n",
    "             title=title)\n",
    "    \n",
    "prior.bar(label='posterior', color='C4')\n",
    "decorate_plot(title='Posterior distribution of N');\n",
    "\n",
    "print(f\"Posterior mean: {prior.mean()}\") # mean doesn't fully make sense here\n",
    "print(f\"Posterior Max: {prior.max_prob()} with likelihood {prior.prob_eq(prior.max_prob()):2f}\")"
   ]
  },
  {
   "cell_type": "markdown",
   "id": "455a1b8f",
   "metadata": {},
   "source": [
    "### Exercise 3: \n",
    "\n",
    "Suppose that in the criminal justice system, all prison sentences are either 1, 2, or 3 years, with an equal number of each. One day, you visit a prison and choose a prisoner at random. What is the probability that they are serving a 3-year sentence? What is the average remaining sentence of the prisoners you observe?"
   ]
  },
  {
   "cell_type": "code",
   "execution_count": 56,
   "id": "21809f35",
   "metadata": {},
   "outputs": [
    {
     "data": {
      "text/html": [
       "<div>\n",
       "<style scoped>\n",
       "    .dataframe tbody tr th:only-of-type {\n",
       "        vertical-align: middle;\n",
       "    }\n",
       "\n",
       "    .dataframe tbody tr th {\n",
       "        vertical-align: top;\n",
       "    }\n",
       "\n",
       "    .dataframe thead th {\n",
       "        text-align: right;\n",
       "    }\n",
       "</style>\n",
       "<table border=\"1\" class=\"dataframe\">\n",
       "  <thead>\n",
       "    <tr style=\"text-align: right;\">\n",
       "      <th></th>\n",
       "      <th>probs</th>\n",
       "    </tr>\n",
       "  </thead>\n",
       "  <tbody>\n",
       "    <tr>\n",
       "      <th>1</th>\n",
       "      <td>0.333333</td>\n",
       "    </tr>\n",
       "    <tr>\n",
       "      <th>2</th>\n",
       "      <td>0.333333</td>\n",
       "    </tr>\n",
       "    <tr>\n",
       "      <th>3</th>\n",
       "      <td>0.333333</td>\n",
       "    </tr>\n",
       "  </tbody>\n",
       "</table>\n",
       "</div>"
      ],
      "text/plain": [
       "1    0.333333\n",
       "2    0.333333\n",
       "3    0.333333\n",
       "Name: , dtype: float64"
      ]
     },
     "execution_count": 56,
     "metadata": {},
     "output_type": "execute_result"
    }
   ],
   "source": [
    "# build prior\n",
    "hypos = np.arange(1, 4)\n",
    "prior = Pmf(1, hypos)\n",
    "prior.normalize()\n",
    "prior"
   ]
  },
  {
   "cell_type": "markdown",
   "id": "5ad1026a",
   "metadata": {},
   "source": [
    "Likelihood logic from solutions:\n",
    "\n",
    "- our prior is uniform, but the likelihood is not \n",
    "\n",
    "- we are told that it is more likely to encounter a prisoner serving a 3 year sentence than a 1 year sentence if we choose an arbitrary point in time. i think i disagree with this but it depends on how we interpret it:\n",
    "\n",
    "perhaps this is based on some starting point, such as Jan 2018:\n",
    "- 30 total sentences, 10 for 1 year, 10 for 2 year, 10 for 3 year\n",
    "- then the same happens in 2019\n",
    "- so in June 2019 we would see: 10 1 year, 20 2 year, 20 3 year\n",
    "\n",
    "however, my interpretation is as follows:\n",
    "- at any time we see an equal number across sentences\n",
    "- this would mean that in the above example on Jan 2019 we would have to double the 1 year sentences to match the new 2 & 3 year sentences. \n",
    "\n",
    "I assume the more likely is the former, which then makes sense why the likelihood is chosen as it is:"
   ]
  },
  {
   "cell_type": "code",
   "execution_count": null,
   "id": "7178c3c0",
   "metadata": {},
   "outputs": [],
   "source": []
  }
 ],
 "metadata": {
  "kernelspec": {
   "display_name": "ml",
   "language": "python",
   "name": "ml"
  },
  "language_info": {
   "codemirror_mode": {
    "name": "ipython",
    "version": 3
   },
   "file_extension": ".py",
   "mimetype": "text/x-python",
   "name": "python",
   "nbconvert_exporter": "python",
   "pygments_lexer": "ipython3",
   "version": "3.9.2"
  }
 },
 "nbformat": 4,
 "nbformat_minor": 5
}
