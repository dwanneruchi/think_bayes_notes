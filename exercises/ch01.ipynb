{
 "cells": [
  {
   "cell_type": "markdown",
   "id": "eb501107",
   "metadata": {},
   "source": [
    "**Exercise:** Let’s use the tools in this chapter to solve a variation of the Linda problem.\n",
    "\n",
    "Linda is 31 years old, single, outspoken, and very bright. She majored in philosophy. As a student, she was deeply concerned with issues of discrimination and social justice, and also participated in anti-nuclear demonstrations. Which is more probable?\n",
    "\n",
    "Linda is a banker.\n",
    "\n",
    "Linda is a banker and considers herself a liberal Democrat.\n",
    "\n",
    "**To answer this question, compute:**\n",
    "\n",
    "The probability that Linda is a female banker,\n",
    "\n",
    "The probability that Linda is a liberal female banker, and\n",
    "\n",
    "The probability that Linda is a liberal female banker and a Democrat."
   ]
  },
  {
   "cell_type": "code",
   "execution_count": 1,
   "id": "55f328ea",
   "metadata": {},
   "outputs": [
    {
     "name": "stdout",
     "output_type": "stream",
     "text": [
      "0.011381618989653074\n",
      "0.002556299452221546\n",
      "0.0012375735443294787\n"
     ]
    }
   ],
   "source": [
    "import pandas as pd\n",
    "\n",
    "def prob(A):\n",
    "    \"\"\"Computes the probability of a proposition, A\"\"\"\n",
    "    return A.mean()\n",
    "\n",
    "# read data in\n",
    "gss = pd.read_csv('../notes/gss_bayes.csv', index_col=0)\n",
    "\n",
    "# prob fem banker\n",
    "female = (gss['sex'] == 2)\n",
    "banker = (gss['indus10'] == 6870)\n",
    "print(prob(female & banker))\n",
    "\n",
    "# prob lib fem banker\n",
    "lib = (gss['polviews'] <= 3)\n",
    "print(prob(female & banker & lib))\n",
    "\n",
    "# prob lib fem banker & dem\n",
    "dem = (gss['partyid'] <= 1)\n",
    "print(prob(female & banker & lib & dem))"
   ]
  },
  {
   "cell_type": "markdown",
   "id": "5c5c48e1",
   "metadata": {},
   "source": [
    "**Exercise:** Use conditional to compute the following probabilities:\n",
    "\n",
    "- What is the probability that a respondent is liberal, given that they are a Democrat?\n",
    "\n",
    "- What is the probability that a respondent is a Democrat, given that they are liberal?"
   ]
  },
  {
   "cell_type": "code",
   "execution_count": 2,
   "id": "b50d9f10",
   "metadata": {},
   "outputs": [
    {
     "name": "stdout",
     "output_type": "stream",
     "text": [
      "0.3891320002215698\n"
     ]
    },
    {
     "data": {
      "text/plain": [
       "0.38913200022156985"
      ]
     },
     "execution_count": 2,
     "metadata": {},
     "output_type": "execute_result"
    }
   ],
   "source": [
    "def conditional(proposition, given):\n",
    "    \"\"\"Probability of A conditioned on given\"\"\"\n",
    "    return prob(proposition[given])\n",
    "\n",
    "# lib given dem\n",
    "print(conditional(lib, given = dem))\n",
    "\n",
    "# same as: \n",
    "prob(lib & dem) / prob(dem)"
   ]
  },
  {
   "cell_type": "code",
   "execution_count": 3,
   "id": "936e3a02",
   "metadata": {},
   "outputs": [
    {
     "name": "stdout",
     "output_type": "stream",
     "text": [
      "0.5206403320240125\n"
     ]
    },
    {
     "data": {
      "text/plain": [
       "0.5206403320240124"
      ]
     },
     "execution_count": 3,
     "metadata": {},
     "output_type": "execute_result"
    }
   ],
   "source": [
    "# dem given lib\n",
    "print(conditional(dem, given = lib))\n",
    "\n",
    "# same as: \n",
    "prob(lib & dem) / prob(lib)"
   ]
  },
  {
   "cell_type": "markdown",
   "id": "315b57bf",
   "metadata": {},
   "source": [
    "**Exercise:** There’s a famous quote about young people, old people, liberals, and conservatives that goes something like:\n",
    "\n",
    "If you are not a liberal at 25, you have no heart. If you are not a conservative at 35, you have no brain.\n",
    "\n",
    "Whether you agree with this proposition or not, it suggests some probabilities we can compute as an exercise. Rather than use the specific ages 25 and 35, let’s define young and old as under 30 or over 65:"
   ]
  },
  {
   "cell_type": "code",
   "execution_count": 4,
   "id": "e775722b",
   "metadata": {},
   "outputs": [
    {
     "name": "stdout",
     "output_type": "stream",
     "text": [
      "0.19435991073240008\n",
      "0.17328058429701765\n"
     ]
    }
   ],
   "source": [
    "young = (gss['age'] < 30)\n",
    "print(prob(young))\n",
    "\n",
    "old = (gss['age'] >= 65)\n",
    "print(prob(old))"
   ]
  },
  {
   "cell_type": "code",
   "execution_count": 5,
   "id": "83f836eb",
   "metadata": {},
   "outputs": [
    {
     "data": {
      "text/plain": [
       "0.3419354838709677"
      ]
     },
     "execution_count": 5,
     "metadata": {},
     "output_type": "execute_result"
    }
   ],
   "source": [
    "conservative = (gss['polviews'] >= 5)\n",
    "prob(conservative)"
   ]
  },
  {
   "cell_type": "code",
   "execution_count": 6,
   "id": "4c85ec9b",
   "metadata": {},
   "outputs": [
    {
     "name": "stdout",
     "output_type": "stream",
     "text": [
      "0.06579427875836884\n",
      "0.338517745302714\n",
      "0.06701156421180766\n",
      "0.19597721609113564\n"
     ]
    }
   ],
   "source": [
    "#Use prob and conditional to compute the following probabilities.\n",
    "\n",
    "#What is the probability that a randomly chosen respondent is a young liberal?\n",
    "lib = (gss['polviews'] <= 3) # defined earlier\n",
    "print(prob(young & lib))\n",
    "\n",
    "#What is the probability that a young person is liberal?\n",
    "# conditional: given young, prob lib\n",
    "print(conditional(lib, given = young))\n",
    "\n",
    "#What fraction of respondents are old conservatives?\n",
    "print(prob(old & conservative))\n",
    "\n",
    "#What fraction of conservatives are old?\n",
    "# condition: given conservative, prob old\n",
    "print(conditional(old, given = conservative))"
   ]
  }
 ],
 "metadata": {
  "kernelspec": {
   "display_name": "ml",
   "language": "python",
   "name": "ml"
  },
  "language_info": {
   "codemirror_mode": {
    "name": "ipython",
    "version": 3
   },
   "file_extension": ".py",
   "mimetype": "text/x-python",
   "name": "python",
   "nbconvert_exporter": "python",
   "pygments_lexer": "ipython3",
   "version": "3.9.2"
  }
 },
 "nbformat": 4,
 "nbformat_minor": 5
}
