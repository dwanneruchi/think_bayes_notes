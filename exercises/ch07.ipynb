{
 "cells": [
  {
   "cell_type": "code",
   "execution_count": 1,
   "id": "33d20c4e",
   "metadata": {},
   "outputs": [],
   "source": [
    "import numpy as np\n",
    "from empiricaldist import Pmf\n",
    "from scipy.stats import binom\n",
    "import matplotlib.pyplot as plt\n",
    "import pandas as pd\n",
    "\n",
    "def decorate(**options):\n",
    "    \"\"\"Decorate the current axes.\n",
    "    Call decorate with keyword arguments like\n",
    "    decorate(title='Title',\n",
    "             xlabel='x',\n",
    "             ylabel='y')\n",
    "    The keyword arguments can be any of the axis properties\n",
    "    https://matplotlib.org/api/axes_api.html\n",
    "    \"\"\"\n",
    "    ax = plt.gca()\n",
    "    ax.set(**options)\n",
    "\n",
    "    handles, labels = ax.get_legend_handles_labels()\n",
    "    if handles:\n",
    "        ax.legend(handles, labels)\n",
    "\n",
    "    plt.tight_layout()"
   ]
  },
  {
   "cell_type": "markdown",
   "id": "95f2110f",
   "metadata": {},
   "source": [
    "### Exercise: \n",
    "\n",
    "When you generate a D&D character, instead of rolling dice, you can use the “standard array” of attributes, which is 15, 14, 13, 12, 10, and 8. Do you think you are better off using the standard array or (literally) rolling the dice?\n",
    "\n",
    "Compare the distribution of the values in the standard array to the distribution we computed for the best three out of four:\n",
    "\n",
    "- Which distribution has higher mean? Use the mean method.\n",
    "\n",
    "- Which distribution has higher standard deviation? Use the std method.\n",
    "\n",
    "- The lowest value in the standard array is 8. For each attribute, what is the probability of getting a value less than 8? If you roll the dice six times, what’s the probability that at least one of your attributes is less than 8?\n",
    "\n",
    "- The highest value in the standard array is 15. For each attribute, what is the probability of getting a value greater than 15? If you roll the dice six times, what’s the probability that at least one of your attributes is greater than 15?"
   ]
  },
  {
   "cell_type": "code",
   "execution_count": 2,
   "id": "1119bd34",
   "metadata": {},
   "outputs": [],
   "source": [
    "from empiricaldist import Cdf, Pmf\n",
    "\n",
    "# building cdf of standard\n",
    "standard = [15,14,13,12,10,8]\n",
    "cdf_standard = Cdf.from_seq(standard)"
   ]
  },
  {
   "cell_type": "code",
   "execution_count": 3,
   "id": "3dfc4c66",
   "metadata": {},
   "outputs": [],
   "source": [
    "# doing the roll 4 & take max of 3 simulation\n",
    "n = 10000\n",
    "a = np.random.randint(1, 7, size=(n, 4)) # build an n x 4 \n",
    "a.sort(axis=1)\n",
    "t = a[:, 1:].sum(axis=1)\n",
    "pmf_best3 = Pmf.from_seq(t)"
   ]
  },
  {
   "cell_type": "code",
   "execution_count": 4,
   "id": "aac2be53",
   "metadata": {},
   "outputs": [
    {
     "name": "stdout",
     "output_type": "stream",
     "text": [
      "12.0\n",
      "12.253400000000001\n"
     ]
    }
   ],
   "source": [
    "# - Which distribution has higher mean? Use the mean method.\n",
    "print(cdf_standard.mean())\n",
    "print(pmf_best3.mean()) # greater"
   ]
  },
  {
   "cell_type": "code",
   "execution_count": 5,
   "id": "c38d0937",
   "metadata": {},
   "outputs": [
    {
     "name": "stdout",
     "output_type": "stream",
     "text": [
      "2.3804761428476167\n",
      "2.870677348640909\n"
     ]
    }
   ],
   "source": [
    "# - Which distribution has higher std? Use the std method.\n",
    "print(cdf_standard.std())\n",
    "print(pmf_best3.std()) # greater"
   ]
  },
  {
   "cell_type": "code",
   "execution_count": 6,
   "id": "ee4282ab",
   "metadata": {},
   "outputs": [
    {
     "name": "stdout",
     "output_type": "stream",
     "text": [
      "0.058800000000000005\n"
     ]
    }
   ],
   "source": [
    "# The lowest value in the standard array is 8. \n",
    "# For each attribute, what is the probability of getting a value less than 8? \n",
    "print(pmf_best3.lt_dist(8))"
   ]
  },
  {
   "cell_type": "code",
   "execution_count": 7,
   "id": "bbbb6f28",
   "metadata": {},
   "outputs": [
    {
     "name": "stdout",
     "output_type": "stream",
     "text": [
      "0.3048292170727033\n"
     ]
    }
   ],
   "source": [
    "# If you roll the dice six times, what’s the probability that at least \n",
    "# one of your attributes is less than 8?\n",
    "\n",
    "# solve for complement (all greater than or equal to 8)\n",
    "l_ge_8 = 1 - (pmf_best3.lt_dist(8))\n",
    "\n",
    "# solve for likelihood that all 6 are greater than or equal to 8:\n",
    "all_6_exceed_8 = (l_ge_8) ** 6\n",
    "\n",
    "# subtract from 1, which means 1 or more are below 8\n",
    "print(1 - all_6_exceed_8)"
   ]
  },
  {
   "cell_type": "code",
   "execution_count": 8,
   "id": "554aa70c",
   "metadata": {},
   "outputs": [
    {
     "name": "stdout",
     "output_type": "stream",
     "text": [
      "0.133\n",
      "0.5752683890595043\n"
     ]
    }
   ],
   "source": [
    "# The highest value in the standard array is 15. \n",
    "# For each attribute, what is the probability of getting a value greater than 15? \n",
    "# If you roll the dice six times, what’s the probability that at least one \n",
    "# of your attributes is greater than 15?\n",
    "print(pmf_best3.gt_dist(15))\n",
    "l_gt_15 = pmf_best3.gt_dist(15)\n",
    "\n",
    "# solve for complement, meaning no attribute is greater than 15\n",
    "all_6_under_15 = (1 - l_gt_15) ** 6\n",
    "\n",
    "# solve for complement again: means 1 or more attributes exceed 15\n",
    "print(1 - all_6_under_15)"
   ]
  },
  {
   "cell_type": "markdown",
   "id": "af59e698",
   "metadata": {},
   "source": [
    "### Exercise: \n",
    "\n",
    "Suppose you are fighting three monsters:\n",
    "\n",
    "- One is armed with a short sword that causes one 6-sided die of damage,\n",
    "\n",
    "- One is armed with a battle axe that causes one 8-sided die of damage, and\n",
    "\n",
    "- One is armed with a bastard sword that causes one 10-sided die of damage.\n",
    "\n",
    "One of the monsters, chosen at random, attacks you and does 1 point of damage.\n",
    "\n",
    "Which monster do you think it was? Compute the posterior probability that each monster was the attacker.\n",
    "\n",
    "If the same monster attacks you again, what is the probability that you suffer 6 points of damage?\n",
    "\n",
    "Hint: Compute a posterior distribution as we have done before and pass it as one of the arguments to make_mixture.\n",
    "\n",
    "### Confusion With This Problem:\n",
    "\n",
    "- I failed to update the prior based on information around \"if the same monster attacks you again, what is the prob that you suffer 6 points\"\n",
    "\n",
    "- The basic logic: \n",
    "    - Initially all monsters are equally likely (1/3 each)\n",
    "    - The `1 damage` makes our 6-roll monster most likely (`(1/3 * 1/6) / ((1/3 * 1/6) + (1/3 * 1/8) + (1/3 * 1/10)) = 0.425`)\n",
    "    - The posterior we build is what we need to use for the next step since we still assume any monster might have hit us. \n",
    "       - the problem is a mixture as we want to know likelihood of 6 points of damage given all information, not for specific monsters. \n",
    "    - Thus we pass in our posterior as a prior, and utilize the same likelihoods as before\n",
    "        - The mixture is simple: It multiplies the prior across all likelihoods, and then sums up at an event level (e.g. roll a 1 regardless of monster). \n",
    "        - The sum of this output df is 1"
   ]
  },
  {
   "cell_type": "code",
   "execution_count": 9,
   "id": "ad988a3d",
   "metadata": {},
   "outputs": [],
   "source": [
    "def make_die(sides):\n",
    "    \"\"\"Pmf that represents a die with the given number of sides.\n",
    "    sides: int\n",
    "    returns: Pmf\n",
    "    \"\"\"\n",
    "    outcomes = np.arange(1, sides+1)\n",
    "    die = Pmf(1/sides, outcomes)\n",
    "    return die"
   ]
  },
  {
   "cell_type": "code",
   "execution_count": 10,
   "id": "06ba2ddf",
   "metadata": {},
   "outputs": [
    {
     "name": "stdout",
     "output_type": "stream",
     "text": [
      "Prior:\n",
      "\n",
      "6     0.333333\n",
      "8     0.333333\n",
      "10    0.333333\n",
      "Name: , dtype: float64\n",
      "\n",
      "Likelihood:\n",
      "\n",
      "                        \n",
      "1   0.166667  0.125  0.1\n",
      "2   0.166667  0.125  0.1\n",
      "3   0.166667  0.125  0.1\n",
      "4   0.166667  0.125  0.1\n",
      "5   0.166667  0.125  0.1\n",
      "6   0.166667  0.125  0.1\n",
      "7   0.000000  0.125  0.1\n",
      "8   0.000000  0.125  0.1\n",
      "9   0.000000  0.000  0.1\n",
      "10  0.000000  0.000  0.1\n",
      "\n",
      "Posterior:\n",
      "\n",
      "6     0.425532\n",
      "8     0.319149\n",
      "10    0.255319\n",
      "Name: , dtype: float64\n",
      "\n"
     ]
    }
   ],
   "source": [
    "# the different monsters\n",
    "hypos = [6,8,10]\n",
    "\n",
    "# prior is uniform\n",
    "counts = [1,1,1]\n",
    "\n",
    "# build a prior per monster\n",
    "pmf_dice = Pmf(counts, hypos)\n",
    "pmf_dice.normalize()\n",
    "print(\"Prior:\\n\")\n",
    "print(pmf_dice)\n",
    "print(\"\")\n",
    "\n",
    "# build a die per monster based on number of sides in hypos\n",
    "dice = [make_die(sides) for sides in hypos]\n",
    "\n",
    "# replace NaN with 0s, and build likelihood of each roll\n",
    "likelihood = pd.DataFrame(dice).fillna(0).transpose()\n",
    "print(\"Likelihood:\\n\")\n",
    "print(likelihood)\n",
    "print(\"\")\n",
    "\n",
    "# likelihood of rolling a 1 (index 0) * prior\n",
    "# This is generated for each hypothesis (monster)\n",
    "posterior = likelihood.iloc[0].values * pmf_dice\n",
    "posterior.normalize()\n",
    "print(\"Posterior:\\n\")\n",
    "print(posterior)\n",
    "print(\"\")"
   ]
  },
  {
   "cell_type": "code",
   "execution_count": 11,
   "id": "48c7b08f",
   "metadata": {},
   "outputs": [
    {
     "name": "stdout",
     "output_type": "stream",
     "text": [
      "0.13634751773049647\n"
     ]
    },
    {
     "data": {
      "image/png": "[encoded data removed]",
      "text/plain": [
       "<Figure size 432x288 with 1 Axes>"
      ]
     },
     "metadata": {
      "needs_background": "light"
     },
     "output_type": "display_data"
    }
   ],
   "source": [
    "def make_mixture(pmf, pmf_seq):\n",
    "    \"\"\"\n",
    "    Make a mixture of distributions.\n",
    "    \n",
    "    Basic computation:\n",
    "    - Convert pmf seq to be a dataframe of probabilities per roll (evidence)\n",
    "    - Multiply each by prior (numpy will broadcast the prior using \"stretching\" to cover all columns) \n",
    "    - Sum up at a row-level: this shows likelihood of a specific roll (evidence) occurring  \n",
    "    \n",
    "    \"\"\"\n",
    "    df = pd.DataFrame(pmf_seq).fillna(0).transpose()\n",
    "    df *= np.array(pmf)\n",
    "    total = df.sum(axis=1)\n",
    "    \n",
    "    # ensure total sum is around 1\n",
    "    np.testing.assert_almost_equal(np.sum(total) , 1)\n",
    "    \n",
    "    return Pmf(total)\n",
    "\n",
    "# Here's a sequence that represents the three dice\n",
    "d6 = make_die(6)\n",
    "d8 = make_die(8)\n",
    "d10 = make_die(10)\n",
    "\n",
    "dice = d6, d8, d10\n",
    "\n",
    "# Posterior from earlier is passed as prior to sequence\n",
    "# We use posterior as prior since we assume the same monster attacks us\n",
    "# and want to find likelihood of 6 points of damage. \n",
    "mix3 = make_mixture(posterior, dice)\n",
    "mix3.bar();\n",
    "\n",
    "print(mix3[6])"
   ]
  },
  {
   "cell_type": "markdown",
   "id": "7bae180d",
   "metadata": {},
   "source": [
    "### Exercise: \n",
    "\n",
    "Henri Poincaré was a French mathematician who taught at the Sorbonne around 1900. The following anecdote about him is probably fiction, but it makes an interesting probability problem.\n",
    "\n",
    "Supposedly Poincaré suspected that his local bakery was selling loaves of bread that were lighter than the advertised weight of 1 kg, so every day for a year he bought a loaf of bread, brought it home and weighed it. At the end of the year, he plotted the distribution of his measurements and showed that it fit a normal distribution with mean 950 g and standard deviation 50 g. He brought this evidence to the bread police, who gave the baker a warning.\n",
    "\n",
    "For the next year, Poincaré continued to weigh his bread every day. At the end of the year, he found that the average weight was 1000 g, just as it should be, but again he complained to the bread police, and this time they fined the baker.\n",
    "\n",
    "Why? Because the shape of the new distribution was asymmetric. Unlike the normal distribution, it was skewed to the right, which is consistent with the hypothesis that the baker was still making 950 g loaves, but deliberately giving Poincaré the heavier ones.\n",
    "\n",
    "To see whether this anecdote is plausible, let’s suppose that when the baker sees Poincaré coming, he hefts n loaves of bread and gives Poincaré the heaviest one. How many loaves would the baker have to heft to make the average of the maximum 1000 g?\n",
    "\n",
    "To get you started, I’ll generate a year’s worth of data from a normal distribution with the given parameters.\n",
    "\n",
    "\n",
    "### How I Solved This:\n",
    "\n",
    "I deviated from the chapter slightly and ran a simple simulation for different sets of `n` until I found a mean (across 365 samples) that exceeded 1000."
   ]
  },
  {
   "cell_type": "code",
   "execution_count": 12,
   "id": "838fa31b",
   "metadata": {},
   "outputs": [],
   "source": [
    "# params for normal distr\n",
    "mean = 950\n",
    "std = 50\n",
    "\n",
    "np.random.seed(17)\n",
    "sample = np.random.normal(mean, std, size=365)"
   ]
  },
  {
   "cell_type": "code",
   "execution_count": 13,
   "id": "89a0f1ac",
   "metadata": {},
   "outputs": [
    {
     "data": {
      "text/plain": [
       "977.800144305531"
      ]
     },
     "execution_count": 13,
     "metadata": {},
     "output_type": "execute_result"
    }
   ],
   "source": [
    "# if our n was \"3\" then we can sample for a single day this way\n",
    "n = 3\n",
    "day = np.random.choice(sample, n)\n",
    "np.max(day)"
   ]
  },
  {
   "cell_type": "code",
   "execution_count": 14,
   "id": "5bd6c66c",
   "metadata": {},
   "outputs": [
    {
     "name": "stdout",
     "output_type": "stream",
     "text": [
      "(365, 3)\n",
      "(365,)\n"
     ]
    },
    {
     "data": {
      "text/plain": [
       "989.2224999632252"
      ]
     },
     "execution_count": 14,
     "metadata": {},
     "output_type": "execute_result"
    }
   ],
   "source": [
    "# random choice n times 365 times\n",
    "# size = (m,n) where m is rows (days) and n is cols (loaves hefted)\n",
    "year = np.random.choice(sample, size = (365, n))\n",
    "print(year.shape)\n",
    "\n",
    "# get max of each row\n",
    "array_maxes = np.max(year, axis = 1)\n",
    "print(array_maxes.shape)\n",
    "\n",
    "# find mean\n",
    "np.mean(array_maxes)"
   ]
  },
  {
   "cell_type": "code",
   "execution_count": 15,
   "id": "45946dfe",
   "metadata": {},
   "outputs": [
    {
     "name": "stdout",
     "output_type": "stream",
     "text": [
      "Running simulation for hefting 1 loaves\n",
      "Mean: 951.44\n",
      "Running simulation for hefting 2 loaves\n",
      "Mean: 979.73\n",
      "Running simulation for hefting 3 loaves\n",
      "Mean: 993.62\n",
      "Running simulation for hefting 4 loaves\n",
      "Mean: 997.68\n",
      "Running simulation for hefting 5 loaves\n",
      "Mean: 1008.66\n",
      "Running simulation for hefting 6 loaves\n",
      "Mean: 1015.60\n",
      "Running simulation for hefting 7 loaves\n",
      "Mean: 1016.93\n",
      "Running simulation for hefting 8 loaves\n",
      "Mean: 1021.13\n",
      "Running simulation for hefting 9 loaves\n",
      "Mean: 1026.80\n"
     ]
    }
   ],
   "source": [
    "# run over more ranges:\n",
    "for n in range(1,10):\n",
    "    print(f\"Running simulation for hefting {n} loaves\")\n",
    "    year = np.random.choice(sample, size = (365, n))\n",
    "    array_maxes = np.max(year, axis = 1)\n",
    "    print(f\"Mean: {np.mean(array_maxes):.2f}\")"
   ]
  },
  {
   "cell_type": "code",
   "execution_count": 16,
   "id": "f36a12b7",
   "metadata": {},
   "outputs": [
    {
     "name": "stdout",
     "output_type": "stream",
     "text": [
      "Running simulation for hefting 1 loaves\n",
      "Mean (of means): 950.02\n",
      "Running simulation for hefting 2 loaves\n",
      "Mean (of means): 978.43\n",
      "Running simulation for hefting 3 loaves\n",
      "Mean (of means): 992.75\n",
      "Running simulation for hefting 4 loaves\n",
      "Mean (of means): 1002.08\n",
      "Running simulation for hefting 5 loaves\n",
      "Mean (of means): 1008.87\n",
      "Running simulation for hefting 6 loaves\n",
      "Mean (of means): 1014.25\n",
      "Running simulation for hefting 7 loaves\n",
      "Mean (of means): 1018.56\n",
      "Running simulation for hefting 8 loaves\n",
      "Mean (of means): 1022.22\n",
      "Running simulation for hefting 9 loaves\n",
      "Mean (of means): 1025.41\n"
     ]
    }
   ],
   "source": [
    "# run over more ranges:\n",
    "nn = 1000 # samples\n",
    "for n in range(1,10):\n",
    "    print(f\"Running simulation for hefting {n} loaves\")\n",
    "    year_mean = []\n",
    "    for _ in range(nn):\n",
    "        year = np.random.choice(sample, size = (365, n))\n",
    "        array_maxes = np.max(year, axis = 1)\n",
    "        year_mean.append(np.mean(array_maxes))\n",
    "    print(f\"Mean (of means): {np.mean(year_mean):.2f}\")"
   ]
  },
  {
   "cell_type": "markdown",
   "id": "06fd3064",
   "metadata": {},
   "source": [
    "### Author's Solution: Avoid Simulation, Use CDFs\n",
    "\n",
    "- build out a normal distribution with mean / std params\n",
    "- `Cdf(x)` is the sum of probabilities for quantities less than or equal to `x`. \n",
    "    - This means it is the probability that a random value is less than or equal to x. \n",
    "    - If we draw `n` times, then we can write this as `Cdf(x)**n` to indicate the probability that all `n` are `<=` to `x`"
   ]
  },
  {
   "cell_type": "code",
   "execution_count": 17,
   "id": "ee0db926",
   "metadata": {},
   "outputs": [
    {
     "name": "stdout",
     "output_type": "stream",
     "text": [
      "4 1002.0372868686195\n",
      "4 1001.1812417447794\n"
     ]
    },
    {
     "data": {
      "image/png": "[encoded data removed]",
      "text/plain": [
       "<Figure size 432x288 with 1 Axes>"
      ]
     },
     "metadata": {
      "needs_background": "light"
     },
     "output_type": "display_data"
    }
   ],
   "source": [
    "mean = 950\n",
    "std = 50\n",
    "\n",
    "np.random.seed(17)\n",
    "sample = np.random.normal(mean, std, size=365)\n",
    "\n",
    "# create cdf \n",
    "cdf = Cdf.from_seq(sample)\n",
    "cdf.plot(label='one loaf');\n",
    "\n",
    "# same logic as used above: \n",
    "# This is going to determine the distribution of max of n loaves\n",
    "# This reflects the probability that all n <= X, where X is the weight\n",
    "n = 4\n",
    "cdf_max = cdf.max_dist(n)\n",
    "print(n, cdf_max.mean())\n",
    "print(n, cdf_max.median())"
   ]
  },
  {
   "cell_type": "markdown",
   "id": "f68691e2",
   "metadata": {},
   "source": [
    "### Trying to Calculate the Mean:"
   ]
  },
  {
   "cell_type": "code",
   "execution_count": 19,
   "id": "08b1c906",
   "metadata": {},
   "outputs": [],
   "source": [
    "# Same as what was done in the chapter\n",
    "new_df = pd.concat([pd.Series(cdf.index.values), pd.Series(cdf.values)], axis = 1)\n",
    "new_df.columns = ['value', 'prob']\n",
    "\n",
    "# Calculate the probability that all n are <= X\n",
    "out = new_df.prob ** n\n",
    "new_df['max_prob'] = out\n"
   ]
  },
  {
   "cell_type": "code",
   "execution_count": 20,
   "id": "ed226875",
   "metadata": {},
   "outputs": [
    {
     "data": {
      "text/html": [
       "<div>\n",
       "<style scoped>\n",
       "    .dataframe tbody tr th:only-of-type {\n",
       "        vertical-align: middle;\n",
       "    }\n",
       "\n",
       "    .dataframe tbody tr th {\n",
       "        vertical-align: top;\n",
       "    }\n",
       "\n",
       "    .dataframe thead th {\n",
       "        text-align: right;\n",
       "    }\n",
       "</style>\n",
       "<table border=\"1\" class=\"dataframe\">\n",
       "  <thead>\n",
       "    <tr style=\"text-align: right;\">\n",
       "      <th></th>\n",
       "      <th>value</th>\n",
       "      <th>prob</th>\n",
       "      <th>max_prob</th>\n",
       "    </tr>\n",
       "  </thead>\n",
       "  <tbody>\n",
       "    <tr>\n",
       "      <th>306</th>\n",
       "      <td>1001.181242</td>\n",
       "      <td>0.841096</td>\n",
       "      <td>0.500475</td>\n",
       "    </tr>\n",
       "  </tbody>\n",
       "</table>\n",
       "</div>"
      ],
      "text/plain": [
       "           value      prob  max_prob\n",
       "306  1001.181242  0.841096  0.500475"
      ]
     },
     "execution_count": 20,
     "metadata": {},
     "output_type": "execute_result"
    }
   ],
   "source": [
    "# This would be our median....struggling to actually back into mean\n",
    "# Need to get values * prob?\n",
    "new_df[np.round(new_df.max_prob,2) <= 0.5].tail(1)"
   ]
  },
  {
   "cell_type": "code",
   "execution_count": 21,
   "id": "11c8c60e",
   "metadata": {},
   "outputs": [
    {
     "data": {
      "text/html": [
       "<div>\n",
       "<style scoped>\n",
       "    .dataframe tbody tr th:only-of-type {\n",
       "        vertical-align: middle;\n",
       "    }\n",
       "\n",
       "    .dataframe tbody tr th {\n",
       "        vertical-align: top;\n",
       "    }\n",
       "\n",
       "    .dataframe thead th {\n",
       "        text-align: right;\n",
       "    }\n",
       "</style>\n",
       "<table border=\"1\" class=\"dataframe\">\n",
       "  <thead>\n",
       "    <tr style=\"text-align: right;\">\n",
       "      <th></th>\n",
       "      <th>probs</th>\n",
       "    </tr>\n",
       "  </thead>\n",
       "  <tbody>\n",
       "    <tr>\n",
       "      <th>780.003461</th>\n",
       "      <td>0.002740</td>\n",
       "    </tr>\n",
       "    <tr>\n",
       "      <th>801.993869</th>\n",
       "      <td>0.005479</td>\n",
       "    </tr>\n",
       "    <tr>\n",
       "      <th>812.040446</th>\n",
       "      <td>0.008219</td>\n",
       "    </tr>\n",
       "    <tr>\n",
       "      <th>829.338382</th>\n",
       "      <td>0.010959</td>\n",
       "    </tr>\n",
       "    <tr>\n",
       "      <th>839.193790</th>\n",
       "      <td>0.013699</td>\n",
       "    </tr>\n",
       "    <tr>\n",
       "      <th>...</th>\n",
       "      <td>...</td>\n",
       "    </tr>\n",
       "    <tr>\n",
       "      <th>1076.262737</th>\n",
       "      <td>0.989041</td>\n",
       "    </tr>\n",
       "    <tr>\n",
       "      <th>1084.871746</th>\n",
       "      <td>0.991781</td>\n",
       "    </tr>\n",
       "    <tr>\n",
       "      <th>1086.039779</th>\n",
       "      <td>0.994521</td>\n",
       "    </tr>\n",
       "    <tr>\n",
       "      <th>1093.556346</th>\n",
       "      <td>0.997260</td>\n",
       "    </tr>\n",
       "    <tr>\n",
       "      <th>1117.257870</th>\n",
       "      <td>1.000000</td>\n",
       "    </tr>\n",
       "  </tbody>\n",
       "</table>\n",
       "<p>365 rows × 1 columns</p>\n",
       "</div>"
      ],
      "text/plain": [
       "780.003461     0.002740\n",
       "801.993869     0.005479\n",
       "812.040446     0.008219\n",
       "829.338382     0.010959\n",
       "839.193790     0.013699\n",
       "                 ...   \n",
       "1076.262737    0.989041\n",
       "1084.871746    0.991781\n",
       "1086.039779    0.994521\n",
       "1093.556346    0.997260\n",
       "1117.257870    1.000000\n",
       "Name: , Length: 365, dtype: float64"
      ]
     },
     "execution_count": 21,
     "metadata": {},
     "output_type": "execute_result"
    }
   ],
   "source": [
    "# Need to build a Pmf but need to be able to pass in probs\n",
    "# start by building a new Cdf, then create a Pmf from it & solve?\n",
    "Cdf.from_seq(new_df.value)"
   ]
  },
  {
   "cell_type": "code",
   "execution_count": 29,
   "id": "c76d7a59",
   "metadata": {},
   "outputs": [
    {
     "data": {
      "text/html": [
       "<div>\n",
       "<style scoped>\n",
       "    .dataframe tbody tr th:only-of-type {\n",
       "        vertical-align: middle;\n",
       "    }\n",
       "\n",
       "    .dataframe tbody tr th {\n",
       "        vertical-align: top;\n",
       "    }\n",
       "\n",
       "    .dataframe thead th {\n",
       "        text-align: right;\n",
       "    }\n",
       "</style>\n",
       "<table border=\"1\" class=\"dataframe\">\n",
       "  <thead>\n",
       "    <tr style=\"text-align: right;\">\n",
       "      <th></th>\n",
       "      <th>probs</th>\n",
       "    </tr>\n",
       "    <tr>\n",
       "      <th>value</th>\n",
       "      <th></th>\n",
       "    </tr>\n",
       "  </thead>\n",
       "  <tbody>\n",
       "    <tr>\n",
       "      <th>780.003461</th>\n",
       "      <td>NaN</td>\n",
       "    </tr>\n",
       "    <tr>\n",
       "      <th>801.993869</th>\n",
       "      <td>NaN</td>\n",
       "    </tr>\n",
       "    <tr>\n",
       "      <th>812.040446</th>\n",
       "      <td>NaN</td>\n",
       "    </tr>\n",
       "    <tr>\n",
       "      <th>829.338382</th>\n",
       "      <td>NaN</td>\n",
       "    </tr>\n",
       "    <tr>\n",
       "      <th>839.193790</th>\n",
       "      <td>NaN</td>\n",
       "    </tr>\n",
       "    <tr>\n",
       "      <th>...</th>\n",
       "      <td>...</td>\n",
       "    </tr>\n",
       "    <tr>\n",
       "      <th>1076.262737</th>\n",
       "      <td>NaN</td>\n",
       "    </tr>\n",
       "    <tr>\n",
       "      <th>1084.871746</th>\n",
       "      <td>NaN</td>\n",
       "    </tr>\n",
       "    <tr>\n",
       "      <th>1086.039779</th>\n",
       "      <td>NaN</td>\n",
       "    </tr>\n",
       "    <tr>\n",
       "      <th>1093.556346</th>\n",
       "      <td>NaN</td>\n",
       "    </tr>\n",
       "    <tr>\n",
       "      <th>1117.257870</th>\n",
       "      <td>NaN</td>\n",
       "    </tr>\n",
       "  </tbody>\n",
       "</table>\n",
       "<p>365 rows × 1 columns</p>\n",
       "</div>"
      ],
      "text/plain": [
       "value\n",
       "780.003461    NaN\n",
       "801.993869    NaN\n",
       "812.040446    NaN\n",
       "829.338382    NaN\n",
       "839.193790    NaN\n",
       "               ..\n",
       "1076.262737   NaN\n",
       "1084.871746   NaN\n",
       "1086.039779   NaN\n",
       "1093.556346   NaN\n",
       "1117.257870   NaN\n",
       "Name: , Length: 365, dtype: float64"
      ]
     },
     "execution_count": 29,
     "metadata": {},
     "output_type": "execute_result"
    }
   ],
   "source": [
    "# unable to figure out how to pass in the qs and ps values \n",
    "# Seems like this should work for Cdf? \n",
    "Cdf(new_df.max_prob, index = new_df.value)"
   ]
  },
  {
   "cell_type": "code",
   "execution_count": null,
   "id": "dcb47172",
   "metadata": {},
   "outputs": [],
   "source": []
  }
 ],
 "metadata": {
  "kernelspec": {
   "display_name": "ml",
   "language": "python",
   "name": "ml"
  },
  "language_info": {
   "codemirror_mode": {
    "name": "ipython",
    "version": 3
   },
   "file_extension": ".py",
   "mimetype": "text/x-python",
   "name": "python",
   "nbconvert_exporter": "python",
   "pygments_lexer": "ipython3",
   "version": "3.9.2"
  }
 },
 "nbformat": 4,
 "nbformat_minor": 5
}
