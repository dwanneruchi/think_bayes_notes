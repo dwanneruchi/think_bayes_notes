{
 "cells": [
  {
   "cell_type": "markdown",
   "id": "96195b1b",
   "metadata": {},
   "source": [
    "### Exercises:\n",
    "\n",
    "Exercise: Suppose you have two coins in a box. \n",
    "\n",
    "- One is a normal coin with heads on one side and tails on the other, and one is a trick coin with heads on both sides. \n",
    "- You choose a coin at random and see that one of the sides is heads. \n",
    "    - Random is our prior; our data is seeing heads\n",
    "- What is the probability that you chose the trick coin? \n",
    "    - Probability is `2/3`"
   ]
  },
  {
   "cell_type": "code",
   "execution_count": 4,
   "id": "bb4077ee",
   "metadata": {},
   "outputs": [],
   "source": [
    "import pandas as pd\n",
    "from fractions import Fraction\n",
    "\n",
    "def update(table):\n",
    "    \"\"\"Compute the posterior probabilities.\"\"\"\n",
    "    \n",
    "    # solve unnormed posterior\n",
    "    table['unnorm'] = table['prior'] * table['likelihood']\n",
    "    \n",
    "    # solve for probability of this data\n",
    "    prob_data = table['unnorm'].sum()\n",
    "    \n",
    "    # build normed posterior \n",
    "    table['posterior'] = table['unnorm'] / prob_data\n",
    "    \n",
    "    return table"
   ]
  },
  {
   "cell_type": "code",
   "execution_count": 5,
   "id": "60d23852",
   "metadata": {},
   "outputs": [
    {
     "name": "stdout",
     "output_type": "stream",
     "text": [
      "       prior likelihood unnorm posterior\n",
      "normal   1/2        1/2    1/4       1/3\n",
      "trick    1/2          1    1/2       2/3\n"
     ]
    }
   ],
   "source": [
    "coin_table = pd.DataFrame(index=['normal', 'trick'])\n",
    "\n",
    "# prior 1/2\n",
    "coin_table['prior'] = Fraction(1, 2)\n",
    "\n",
    "# likelihood is based on seeing coin\n",
    "coin_table['likelihood'] = Fraction(1, 2), 1\n",
    "                                                    \n",
    "# let's do our update & print\n",
    "coin_table = update(coin_table)\n",
    "\n",
    "print(coin_table)"
   ]
  },
  {
   "cell_type": "markdown",
   "id": "57e4769e",
   "metadata": {},
   "source": [
    "Exercise: Suppose you meet someone and learn that they have two children. You ask if either child is a girl and they say yes. What is the probability that both children are girls?\n",
    "\n",
    "Note: \n",
    "- I got this wrong originally because I set my likelihood as below for `GB` and `BG` to 0.5. \n",
    "- The part that threw me off was the \"either\" language - unlike the coin, the person sharing information knows both genders so if its `GB` there is a `1` likelihood. "
   ]
  },
  {
   "cell_type": "code",
   "execution_count": 9,
   "id": "5e7193cb",
   "metadata": {},
   "outputs": [
    {
     "name": "stdout",
     "output_type": "stream",
     "text": [
      "   prior likelihood unnorm posterior\n",
      "GG   1/4          1    1/4       1/2\n",
      "GB   1/4        1/2    1/8       1/4\n",
      "BG   1/4        1/2    1/8       1/4\n",
      "BB   1/4          0      0         0\n"
     ]
    }
   ],
   "source": [
    "# wrong approach\n",
    "kid_table = pd.DataFrame(index=['GG', 'GB', 'BG', 'BB'])\n",
    "\n",
    "# prior 1/4 (we are told to assume this)\n",
    "kid_table['prior'] = Fraction(1, 4)\n",
    "\n",
    "# likelihood is based on child\n",
    "kid_table['likelihood'] = 1, Fraction(1,2), Fraction(1,2), 0\n",
    "                                                    \n",
    "# let's do our update & print\n",
    "kid_table = update(kid_table)\n",
    "\n",
    "print(kid_table)"
   ]
  },
  {
   "cell_type": "code",
   "execution_count": 10,
   "id": "e1b0e7bb",
   "metadata": {},
   "outputs": [
    {
     "name": "stdout",
     "output_type": "stream",
     "text": [
      "   prior  likelihood unnorm posterior\n",
      "GG   1/4           1    1/4       1/3\n",
      "GB   1/4           1    1/4       1/3\n",
      "BG   1/4           1    1/4       1/3\n",
      "BB   1/4           0      0         0\n"
     ]
    }
   ],
   "source": [
    "# correct approach\n",
    "kid_table = pd.DataFrame(index=['GG', 'GB', 'BG', 'BB'])\n",
    "\n",
    "# prior 1/4 (we are told to assume this)\n",
    "kid_table['prior'] = Fraction(1, 4)\n",
    "\n",
    "# likelihood is based on either child\n",
    "kid_table['likelihood'] = 1, 1, 1, 0\n",
    "                                                    \n",
    "# let's do our update & print\n",
    "kid_table = update(kid_table)\n",
    "\n",
    "print(kid_table)"
   ]
  },
  {
   "cell_type": "markdown",
   "id": "4d872165",
   "metadata": {},
   "source": [
    "Exercise: There are many variations of the Monty Hall problem.\n",
    "For example, suppose Monty always chooses Door 2 if he can, and only chooses Door 3 if he has to (because the car is behind Door 2).\n",
    "\n",
    "If you choose Door 1 and Monty opens Door 2, what is the probability the car is behind Door 3?\n",
    "- This means 1 or 3 is correct\n",
    "- P(Door 2 | Car Door 1) = 1 -> Monty always opens door 2 if car behind door 1\n",
    "- P(Door 2 | Car Door 2) = 0 -> Monty would have opened Door 3\n",
    "- P(Door 2 | Car Door 3) = 1 -> Monty always opens door 2 if car behind door 3\n",
    "\n",
    "If you choose Door 1 and Monty opens Door 3, what is the probability the car is behind Door 2?\n",
    "- This means the car is behind 2\n",
    "- P(Door 3 | Car Door 1) = 0 -> If behind Door 1 monty would open door 2, not 3. \n",
    "- P(Door 3 | Car Door 2) = 1 -> If behind Door 2 monty opens door 3\n",
    "- P(Door 3 | Car Door 3) = 0 -> Monty would have opened door 2 if car behind door 3."
   ]
  },
  {
   "cell_type": "code",
   "execution_count": 15,
   "id": "6bfa87e6",
   "metadata": {},
   "outputs": [
    {
     "name": "stdout",
     "output_type": "stream",
     "text": [
      "  prior  likelihood unnorm posterior\n",
      "1   1/3           1    1/3       1/2\n",
      "2   1/3           0      0         0\n",
      "3   1/3           1    1/3       1/2\n"
     ]
    }
   ],
   "source": [
    "# Monty Hall - P1\n",
    "monty_one = pd.DataFrame(index=[1,2,3])\n",
    "\n",
    "# prior: 1/3\n",
    "monty_one['prior'] = Fraction(1, 3)\n",
    "\n",
    "# likelihood is a bit trickier here:\n",
    "# door 1 - he always opens door 3\n",
    "# door 2 is 0 since it is opened\n",
    "# door 3 - he always opens\n",
    "monty_one['likelihood'] = 1, 0, 1\n",
    "                                                    \n",
    "# let's do our update & print\n",
    "monty_one = update(monty_one)\n",
    "\n",
    "print(monty_one)"
   ]
  },
  {
   "cell_type": "code",
   "execution_count": 16,
   "id": "5c2290e7",
   "metadata": {},
   "outputs": [
    {
     "name": "stdout",
     "output_type": "stream",
     "text": [
      "  prior  likelihood unnorm posterior\n",
      "1   1/3           0      0         0\n",
      "2   1/3           1    1/3         1\n",
      "3   1/3           0      0         0\n"
     ]
    }
   ],
   "source": [
    "# Monty Hall - P2\n",
    "monty_two = pd.DataFrame(index=[1,2,3])\n",
    "\n",
    "# prior: 1/3\n",
    "monty_two['prior'] = Fraction(1, 3)\n",
    "\n",
    "# likelihood\n",
    "monty_two['likelihood'] = 0, 1, 0\n",
    "                                                    \n",
    "# let's do our update & print\n",
    "monty_two = update(monty_two)\n",
    "\n",
    "print(monty_two)"
   ]
  },
  {
   "cell_type": "markdown",
   "id": "d83a2a25",
   "metadata": {},
   "source": [
    "Exercise: M&M’s are small candy-coated chocolates that come in a variety of colors.\n",
    "Mars, Inc., which makes M&M’s, changes the mixture of colors from time to time. In 1995, they introduced blue M&M’s.\n",
    "\n",
    "In 1994, the color mix in a bag of plain M&M’s was 30% Brown, 20% Yellow, 20% Red, 10% Green, 10% Orange, 10% Tan.\n",
    "\n",
    "In 1996, it was 24% Blue , 20% Green, 16% Orange, 14% Yellow, 13% Red, 13% Brown.\n",
    "\n",
    "Suppose a friend of mine has two bags of M&M’s, and he tells me that one is from 1994 and one from 1996. He won’t tell me which is which, but he gives me one M&M from each bag. One is yellow and one is green. What is the probability that the yellow one came from the 1994 bag?\n",
    "\n",
    "Hint: The trick to this question is to define the hypotheses and the data carefully."
   ]
  },
  {
   "cell_type": "code",
   "execution_count": 20,
   "id": "70c62cf8",
   "metadata": {},
   "outputs": [
    {
     "name": "stdout",
     "output_type": "stream",
     "text": [
      "     prior  likelihood unnorm posterior\n",
      "1994   1/2       0.040   0.02  0.740741\n",
      "1996   1/2       0.014  0.007  0.259259\n"
     ]
    }
   ],
   "source": [
    "# MM\n",
    "mm = pd.DataFrame(index=['1994', '1996'])\n",
    "\n",
    "# prior: 1/2\n",
    "mm['prior'] = Fraction(1, 2)\n",
    "\n",
    "# likelihood of yellow from bag, green from other bag?\n",
    "mm['likelihood'] = 0.2 * 0.2, .14 * 0.1\n",
    "                                                    \n",
    "# let's do our update & print\n",
    "mm = update(mm)\n",
    "\n",
    "print(mm)"
   ]
  },
  {
   "cell_type": "markdown",
   "id": "84a7506f",
   "metadata": {},
   "source": [
    "#### Breakdown of Above:\n",
    "\n",
    "The problem is slightly different as we need to account for two pieces of data. \n",
    "- We still assume each hypothesis has equal likelihood\n",
    "- The hypotheses account for more than just yellow:\n",
    "    - 1994: Y from 1994, G from 1996\n",
    "    - 1996: Y from 1996, B from 1994\n",
    "- Likelihood:\n",
    "    - 1 M&M is pulled from each bag, so each pull in independent\n",
    "    - This means we can just multiply each of the likelihods as done above. \n",
    "    \n",
    "- Intuitively, the result makes sense:\n",
    "    - P(Y 94) > P(Y 96) AND P(G 96) > P(G 94)\n",
    "    "
   ]
  }
 ],
 "metadata": {
  "kernelspec": {
   "display_name": "ml",
   "language": "python",
   "name": "ml"
  },
  "language_info": {
   "codemirror_mode": {
    "name": "ipython",
    "version": 3
   },
   "file_extension": ".py",
   "mimetype": "text/x-python",
   "name": "python",
   "nbconvert_exporter": "python",
   "pygments_lexer": "ipython3",
   "version": "3.9.2"
  }
 },
 "nbformat": 4,
 "nbformat_minor": 5
}
