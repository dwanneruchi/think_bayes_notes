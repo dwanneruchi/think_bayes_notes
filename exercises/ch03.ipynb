{
 "cells": [
  {
   "cell_type": "markdown",
   "id": "b3ebeb68",
   "metadata": {},
   "source": [
    "### Exercises:\n",
    "\n",
    "Exercise: Suppose I have a box with a 6-sided die, an 8-sided die, and a 12-sided die. I choose one of the dice at random, roll it four times, and get 1, 3, 5, and 7. What is the probability that I chose the 8-sided die?\n",
    "\n",
    "You can use the update_dice function or do the update yourself."
   ]
  },
  {
   "cell_type": "code",
   "execution_count": 1,
   "id": "d5c66f47",
   "metadata": {},
   "outputs": [],
   "source": [
    "from empiricaldist import Pmf\n",
    "import numpy as np"
   ]
  },
  {
   "cell_type": "code",
   "execution_count": 2,
   "id": "570d23f6",
   "metadata": {},
   "outputs": [],
   "source": [
    "# Function to update the dice: Modified slightly (I like returning pmf object)\n",
    "def update_dice(pmf, data):\n",
    "    \"\"\"Update pmf based on new data.\"\"\"\n",
    "    hypos = pmf.qs # get the sides of dice passed in\n",
    "    likelihood = 1 / hypos # likelihood in dice is simply 1/N \n",
    "    impossible = (data > hypos) # boolean vector for when data pulled exceeds size of hypo\n",
    "    likelihood[impossible] = 0 # need to mark likelihood as 0 ahead of time -> no longer possible to get this one\n",
    "    pmf *= likelihood # update\n",
    "    _ = pmf.normalize()\n",
    "    return pmf"
   ]
  },
  {
   "cell_type": "code",
   "execution_count": 9,
   "id": "d0298997",
   "metadata": {},
   "outputs": [
    {
     "name": "stdout",
     "output_type": "stream",
     "text": [
      "0.8350515463917527\n"
     ]
    }
   ],
   "source": [
    "# key of interest\n",
    "key = 8\n",
    "\n",
    "# Establish hypotheses\n",
    "hypos = [6, 8, 12]\n",
    "\n",
    "# Build priors\n",
    "prior = Pmf(1/3, hypos)\n",
    "\n",
    "# Iterate through update for data received:\n",
    "evidence = [1,3,5,7]\n",
    "\n",
    "for roll in evidence:\n",
    "    prior = update_dice(prior, roll)\n",
    "    \n",
    "# build posterior\n",
    "posterior_dict = {q: p for q,p in zip(prior.qs, prior.ps)}\n",
    "    \n",
    "print(posterior_dict[key]) # 83.5%"
   ]
  },
  {
   "cell_type": "markdown",
   "id": "01be2c09",
   "metadata": {},
   "source": [
    "#### Exercise: Non-uniform prior\n",
    "\n",
    "In the previous version of the dice problem, the prior probabilities are the same because the box contains one of each die. But suppose the box contains 1 die that is 4-sided, 2 dice that are 6-sided, 3 dice that are 8-sided, 4 dice that are 12-sided, and 5 dice that are 20-sided. I choose a die, roll it, and get a 7. What is the probability that I chose an 8-sided die?\n",
    "\n",
    "Hint: To make the prior distribution, call Pmf with two parameters."
   ]
  },
  {
   "cell_type": "code",
   "execution_count": 10,
   "id": "33952563",
   "metadata": {},
   "outputs": [
    {
     "name": "stdout",
     "output_type": "stream",
     "text": [
      "0.391304347826087\n"
     ]
    }
   ],
   "source": [
    "# key:\n",
    "key = 8\n",
    "\n",
    "# Establish hypotheses\n",
    "hypos = [4, 6, 8, 12, 20]\n",
    "probs = [1,2,3,4,5]\n",
    "\n",
    "# Build priors\n",
    "prior = Pmf(probs, hypos)\n",
    "\n",
    "# Iterate through update for data received:\n",
    "evidence = [7]\n",
    "\n",
    "for roll in evidence:\n",
    "    prior = update_dice(prior, roll)\n",
    "\n",
    "# build posterior\n",
    "posterior_dict = {q: p for q,p in zip(prior.qs, prior.ps)}\n",
    "    \n",
    "print(posterior_dict[key]) # 83.5%"
   ]
  },
  {
   "cell_type": "markdown",
   "id": "8fdd283e",
   "metadata": {},
   "source": [
    "### Exercise:\n",
    "\n",
    "Suppose I have two sock drawers. One contains equal numbers of black and white socks. The other contains equal numbers of red, green, and blue socks. Suppose I choose a drawer at random, choose two socks at random, and I tell you that I got a matching pair. What is the probability that the socks are white?\n",
    "\n",
    "For simplicity, let’s assume that there are so many socks in both drawers that removing one sock makes a negligible change to the proportions.\n",
    "\n",
    "#### Approach:\n",
    "- we have two hypotheses\n",
    "- equal probability of these (prior)\n",
    "- likelihood of these differs as follows:\n",
    "    - For A (black and white) we have 2 ways to make a color-matching pair (BB, WW) out of 2^2 pairings (BB,WW,WB,BW)\n",
    "        - When we pull a sock X, we have a 50% chance of then pulling another sock X\n",
    "    - B has 3 total colors, which is going to increase the possible set:\n",
    "        - When we pull a sock X, we have a 33% chance of then pulling another sock X\n",
    "        \n",
    "        \n",
    "- From this we build our posterior, which can be used to answer the question of likelihood socks are white:"
   ]
  },
  {
   "cell_type": "code",
   "execution_count": 11,
   "id": "c2c2faed",
   "metadata": {},
   "outputs": [
    {
     "data": {
      "text/html": [
       "<div>\n",
       "<style scoped>\n",
       "    .dataframe tbody tr th:only-of-type {\n",
       "        vertical-align: middle;\n",
       "    }\n",
       "\n",
       "    .dataframe tbody tr th {\n",
       "        vertical-align: top;\n",
       "    }\n",
       "\n",
       "    .dataframe thead th {\n",
       "        text-align: right;\n",
       "    }\n",
       "</style>\n",
       "<table border=\"1\" class=\"dataframe\">\n",
       "  <thead>\n",
       "    <tr style=\"text-align: right;\">\n",
       "      <th></th>\n",
       "      <th>probs</th>\n",
       "    </tr>\n",
       "  </thead>\n",
       "  <tbody>\n",
       "    <tr>\n",
       "      <th>A</th>\n",
       "      <td>0.6</td>\n",
       "    </tr>\n",
       "    <tr>\n",
       "      <th>B</th>\n",
       "      <td>0.4</td>\n",
       "    </tr>\n",
       "  </tbody>\n",
       "</table>\n",
       "</div>"
      ],
      "text/plain": [
       "A    0.6\n",
       "B    0.4\n",
       "Name: , dtype: float64"
      ]
     },
     "execution_count": 11,
     "metadata": {},
     "output_type": "execute_result"
    }
   ],
   "source": [
    "# Establish hypotheses\n",
    "hypos = ['A', 'B']\n",
    "probs = [1,1] # uniform\n",
    "\n",
    "# Likelihood of pulling a pair\n",
    "likelihood_pair = 1/2, 1/3\n",
    "\n",
    "# Build priors\n",
    "prior = Pmf(probs, hypos)\n",
    "\n",
    "# Update posterior\n",
    "posterior = prior * likelihood_pair\n",
    "_ = posterior.normalize()\n",
    "posterior "
   ]
  },
  {
   "cell_type": "code",
   "execution_count": 13,
   "id": "9a73a0c6",
   "metadata": {},
   "outputs": [
    {
     "data": {
      "text/plain": [
       "0.3"
      ]
     },
     "execution_count": 13,
     "metadata": {},
     "output_type": "execute_result"
    }
   ],
   "source": [
    "# now we want to know they are white, which means we are pulling from A\n",
    "# P(A & W) = P(A) * P(W|A)\n",
    "0.6 * 0.5"
   ]
  },
  {
   "cell_type": "markdown",
   "id": "aaab2b07",
   "metadata": {},
   "source": [
    "#### Discussion Point: \n",
    "\n",
    "- Is my interpretation of the problem correct? Or did I luck into an answer here? \n",
    "    - We want to know likelihood of pulling a pair from A and that pair being white, which seems to align with the use of this joint probability: Pulling a Pair from A (A must since only white exists in A) and given you've pulled from A, likelihood it was white. \n",
    "    \n",
    "- The overall problem could be reexpressed as:\n",
    "\n",
    "$P(W|Pair) = \\frac{P(White) * P(Pair | White)}{P(Pair)}$\n",
    "\n",
    "Solved through the lens of only the drawer with A:\n",
    "- P(White) = 0.5 * 0.5\n",
    "- P(Pair | White) = 0.5\n",
    "- P(Pair) -> need to break into our total law of prob here for likelihood of pair in general based on what we know about each box:\n",
    "    - =  P(A) * P(Pair |A) +P(B) * P(Pair | B) = 0.5 * 0.5 + 0.5 * 0.333"
   ]
  },
  {
   "cell_type": "code",
   "execution_count": 16,
   "id": "7bb11e27",
   "metadata": {},
   "outputs": [
    {
     "data": {
      "text/plain": [
       "0.30000000000000004"
      ]
     },
     "execution_count": 16,
     "metadata": {},
     "output_type": "execute_result"
    }
   ],
   "source": [
    "(0.5**3)/ (0.25 + 0.5/3) # Same answer\n",
    "\n"
   ]
  },
  {
   "cell_type": "markdown",
   "id": "e97eb317",
   "metadata": {},
   "source": [
    "### Exercise:\n",
    "\n",
    "Elvis Presley had a twin brother (who died at birth). What is the probability that Elvis was an identical twin?\n",
    "\n",
    "Hint: In 1935, about 2/3 of twins were fraternal and 1/3 were identical. (This would be our prior)"
   ]
  },
  {
   "cell_type": "code",
   "execution_count": 17,
   "id": "b96030b8",
   "metadata": {},
   "outputs": [
    {
     "data": {
      "text/html": [
       "<div>\n",
       "<style scoped>\n",
       "    .dataframe tbody tr th:only-of-type {\n",
       "        vertical-align: middle;\n",
       "    }\n",
       "\n",
       "    .dataframe tbody tr th {\n",
       "        vertical-align: top;\n",
       "    }\n",
       "\n",
       "    .dataframe thead th {\n",
       "        text-align: right;\n",
       "    }\n",
       "</style>\n",
       "<table border=\"1\" class=\"dataframe\">\n",
       "  <thead>\n",
       "    <tr style=\"text-align: right;\">\n",
       "      <th></th>\n",
       "      <th>probs</th>\n",
       "    </tr>\n",
       "  </thead>\n",
       "  <tbody>\n",
       "    <tr>\n",
       "      <th>A</th>\n",
       "      <td>0.75</td>\n",
       "    </tr>\n",
       "    <tr>\n",
       "      <th>B</th>\n",
       "      <td>0.25</td>\n",
       "    </tr>\n",
       "  </tbody>\n",
       "</table>\n",
       "</div>"
      ],
      "text/plain": [
       "A    0.75\n",
       "B    0.25\n",
       "Name: , dtype: float64"
      ]
     },
     "execution_count": 17,
     "metadata": {},
     "output_type": "execute_result"
    }
   ],
   "source": [
    "hypo = ['Identical', 'Not Identical']\n",
    "probs = [2/3, 1/3] # prior\n",
    "\n",
    "# Likelihood for Elis\n",
    "likelihood = 1/2, 1/2\n",
    "\n",
    "# Build priors\n",
    "prior = Pmf(probs, hypos)\n",
    "\n",
    "# Update posterior\n",
    "posterior = prior * likelihood_pair\n",
    "_ = posterior.normalize()\n",
    "posterior \n"
   ]
  },
  {
   "cell_type": "code",
   "execution_count": null,
   "id": "3253acfe",
   "metadata": {},
   "outputs": [],
   "source": []
  }
 ],
 "metadata": {
  "kernelspec": {
   "display_name": "ml",
   "language": "python",
   "name": "ml"
  },
  "language_info": {
   "codemirror_mode": {
    "name": "ipython",
    "version": 3
   },
   "file_extension": ".py",
   "mimetype": "text/x-python",
   "name": "python",
   "nbconvert_exporter": "python",
   "pygments_lexer": "ipython3",
   "version": "3.9.2"
  }
 },
 "nbformat": 4,
 "nbformat_minor": 5
}
