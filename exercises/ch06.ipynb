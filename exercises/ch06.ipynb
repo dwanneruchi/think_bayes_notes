{
 "cells": [
  {
   "cell_type": "code",
   "execution_count": 42,
   "id": "e022cc63",
   "metadata": {},
   "outputs": [],
   "source": [
    "import numpy as np\n",
    "import matplotlib.pyplot as plt\n",
    "import pandas as pd\n",
    "\n",
    "from empiricaldist import Pmf\n",
    "from scipy.stats import binom\n",
    "\n",
    "def decorate(**options):\n",
    "    \"\"\"Decorate the current axes.\n",
    "    Call decorate with keyword arguments like\n",
    "    decorate(title='Title',\n",
    "             xlabel='x',\n",
    "             ylabel='y')\n",
    "    The keyword arguments can be any of the axis properties\n",
    "    https://matplotlib.org/api/axes_api.html\n",
    "    \"\"\"\n",
    "    ax = plt.gca()\n",
    "    ax.set(**options)\n",
    "\n",
    "    handles, labels = ax.get_legend_handles_labels()\n",
    "    if handles:\n",
    "        ax.legend(handles, labels)\n",
    "\n",
    "    plt.tight_layout()"
   ]
  },
  {
   "cell_type": "markdown",
   "id": "1ddf7b89",
   "metadata": {},
   "source": [
    "### Exercise 1:\n",
    "\n",
    "Exercise: Let’s use Bayes’s Rule to solve the Elvis problem from <<_Distributions>>:\n",
    "\n",
    "Elvis Presley had a twin brother who died at birth. What is the probability that Elvis was an identical twin?\n",
    "\n",
    "In 1935, about 2/3 of twins were fraternal and 1/3 were identical. The question contains two pieces of information we can use to update this prior.\n",
    "\n",
    "- First, Elvis’s twin was also male, which is more likely if they were identical twins, with a likelihood ratio of 2.\n",
    "\n",
    "- Also, Elvis’s twin died at birth, which is more likely if they were identical twins, with a likelihood ratio of 1.25."
   ]
  },
  {
   "cell_type": "code",
   "execution_count": 3,
   "id": "54d3408c",
   "metadata": {},
   "outputs": [
    {
     "data": {
      "text/plain": [
       "0.5555555555555555"
      ]
     },
     "execution_count": 3,
     "metadata": {},
     "output_type": "execute_result"
    }
   ],
   "source": [
    "def odds(p):\n",
    "    return p / (1-p)\n",
    "\n",
    "# odds Elvis was identical twin \n",
    "prior_odds = odds(1/3)\n",
    "\n",
    "# our likelihood ratio is just 2 * 1.25\n",
    "post_odds = prior_odds * 2 * 1.25\n",
    "\n",
    "# convert to prob\n",
    "post_odds / (post_odds + 1)"
   ]
  },
  {
   "cell_type": "markdown",
   "id": "ed1c624f",
   "metadata": {},
   "source": [
    "### Exercise 2:\n",
    "\n",
    "`You’re about to get on a plane to Seattle. You want to know if you should bring an umbrella. You call 3 random friends of yours who live there and ask each independently if it’s raining. Each of your friends has a 2/3 chance of telling you the truth and a 1/3 chance of messing with you by lying. All 3 friends tell you that “Yes” it is raining. What is the probability that it’s actually raining in Seattle?`\n",
    "\n",
    "Use Bayes’s Rule to solve this problem. As a prior you can assume that it rains in Seattle about 10% of the time.\n",
    "\n",
    "This question causes some confusion about the differences between Bayesian and frequentist interpretations of probability; if you are curious about this point, I wrote a blog article about it.\n",
    "\n",
    "#### Solution as Bayes Factor:\n",
    "\n",
    "```python\n",
    "odds(Raining|All 3 Friends say Rain) = \n",
    "\n",
    "odds(Raining) * P(Friend 1 Rain | Rain) / P(Friend 1 Rain | False)\n",
    "              * P(Friend 2 Rain | Rain) / P(Friend 2 Rain | False)\n",
    "              * P(Friend 3 Rain | Rain) / P(Friend 3 Rain | False)\n",
    "        \n",
    "```"
   ]
  },
  {
   "cell_type": "code",
   "execution_count": 26,
   "id": "59109091",
   "metadata": {},
   "outputs": [
    {
     "name": "stdout",
     "output_type": "stream",
     "text": [
      "0.11111111111111112\n",
      "1.9999999999999998\n"
     ]
    },
    {
     "data": {
      "text/plain": [
       "0.4705882352941176"
      ]
     },
     "execution_count": 26,
     "metadata": {},
     "output_type": "execute_result"
    }
   ],
   "source": [
    "# we can convert to odds\n",
    "prior_odds = odds(0.1)\n",
    "print(prior_odds)\n",
    "\n",
    "# this one messed me up, but I see where he is coming from:\n",
    "# we find a single friend's likelihood ratio of true to false, which is 2-1\n",
    "friend_true_likelihood_ratio = odds(2/3)\n",
    "print(friend_likelihood_ratio)\n",
    "\n",
    "# multiply prior odds by\n",
    "post_odds = prior_odds * (friend_likelihood_ratio**3)\n",
    "post_odds / (post_odds + 1)"
   ]
  },
  {
   "cell_type": "code",
   "execution_count": 30,
   "id": "1490e684",
   "metadata": {},
   "outputs": [
    {
     "name": "stdout",
     "output_type": "stream",
     "text": [
      "Likelihood rain: 0.4705882352941177\n",
      "Likelihood no rain: 0.5294117647058824\n"
     ]
    }
   ],
   "source": [
    "# bayes rule approach: it is raining\n",
    "\n",
    "# raining \n",
    "prior = 0.1\n",
    "\n",
    "# likelihood => all 3 friends telling truth\n",
    "likelihood = (2/3) ** 3\n",
    "\n",
    "unnormed = prior * likelihood\n",
    "\n",
    "# not raining \n",
    "prior = 0.9\n",
    "\n",
    "# likelihood => all 3 friends lie \n",
    "likelihood = (1/3) ** 3\n",
    "\n",
    "unnormed2 = prior * likelihood\n",
    "\n",
    "# norming factor\n",
    "norming_factor = unnormed + unnormed2\n",
    "\n",
    "# solve\n",
    "print(f\"Likelihood rain: {unnormed / norming_factor}\")\n",
    "print(f\"Likelihood no rain: {unnormed2 / norming_factor}\")"
   ]
  },
  {
   "cell_type": "code",
   "execution_count": 14,
   "id": "3a23343d",
   "metadata": {},
   "outputs": [
    {
     "data": {
      "text/plain": [
       "0.44444444444444453"
      ]
     },
     "execution_count": 14,
     "metadata": {},
     "output_type": "execute_result"
    }
   ],
   "source": [
    "# frequentist approach: \n",
    "# I know there are 2^3 combinations, and only 2 are possible (TTT, LLL) when rain\n",
    "# when not rain and all say yes, we see (0.9 * 1/3^3)\n",
    "truth = (0.1 * )"
   ]
  },
  {
   "cell_type": "code",
   "execution_count": 32,
   "id": "8f278b0b",
   "metadata": {},
   "outputs": [
    {
     "data": {
      "text/plain": [
       "0.03333333333333333"
      ]
     },
     "execution_count": 32,
     "metadata": {},
     "output_type": "execute_result"
    }
   ],
   "source": [
    "0.9 * (1/3**3) # no rain, all say yes rain"
   ]
  },
  {
   "cell_type": "code",
   "execution_count": 33,
   "id": "820bd4bd",
   "metadata": {},
   "outputs": [
    {
     "data": {
      "text/plain": [
       "0.007407407407407408"
      ]
     },
     "execution_count": 33,
     "metadata": {},
     "output_type": "execute_result"
    }
   ],
   "source": [
    "0.1 * (2/3**3) # rain, all say yes rain"
   ]
  },
  {
   "cell_type": "markdown",
   "id": "215c6685",
   "metadata": {},
   "source": [
    "### Exercise:\n",
    "\n",
    "According to the CDC, people who smoke are about 25 times more likely to develop lung cancer than nonsmokers.\n",
    "\n",
    "Also according to the CDC, about 14% of adults in the U.S. are smokers. If you learn that someone has lung cancer, what is the probability they are a smoker?"
   ]
  },
  {
   "cell_type": "code",
   "execution_count": 35,
   "id": "2e928dd1",
   "metadata": {},
   "outputs": [
    {
     "data": {
      "text/plain": [
       "0.8027522935779816"
      ]
     },
     "execution_count": 35,
     "metadata": {},
     "output_type": "execute_result"
    }
   ],
   "source": [
    "prior_odds = odds(0.14)\n",
    "likelihood = 25\n",
    "posterior_odds = prior_odds * likelihood\n",
    "posterior_odds = posterior_odds / (posterior_odds + 1)\n",
    "posterior_odds "
   ]
  },
  {
   "cell_type": "markdown",
   "id": "6eec8c57",
   "metadata": {},
   "source": [
    "### Exercise:\n",
    "\n",
    "Exercise: In Dungeons & Dragons, the amount of damage a goblin can withstand is the sum of two six-sided dice. The amount of damage you inflict with a short sword is determined by rolling one six-sided die. A goblin is defeated if the total damage you inflict is greater than or equal to the amount it can withstand.\n",
    "\n",
    "Suppose you are fighting a goblin and you have already inflicted 3 points of damage. What is your probability of defeating the goblin with your next successful attack?\n",
    "\n",
    "Hint: You can use Pmf.sub_dist to subtract a constant amount, like 3, from a Pmf.\n"
   ]
  },
  {
   "cell_type": "code",
   "execution_count": 65,
   "id": "e117693c",
   "metadata": {},
   "outputs": [],
   "source": [
    "import numpy as np\n",
    "from empiricaldist import Pmf\n",
    "\n",
    "def decorate_dice(title=''):\n",
    "    decorate(xlabel='Outcome',\n",
    "             ylabel='PMF',\n",
    "             title=title)\n",
    "\n",
    "def make_die(sides):\n",
    "    outcomes = np.arange(1, sides+1)\n",
    "    die = Pmf(1/sides, outcomes)\n",
    "    return die"
   ]
  },
  {
   "cell_type": "code",
   "execution_count": 66,
   "id": "7fd70644",
   "metadata": {},
   "outputs": [
    {
     "data": {
      "image/png": "[encoded data removed]",
      "text/plain": [
       "<Figure size 432x288 with 1 Axes>"
      ]
     },
     "metadata": {
      "needs_background": "light"
     },
     "output_type": "display_data"
    }
   ],
   "source": [
    "# estimate damage withstood\n",
    "die = make_die(6)\n",
    "goblin_armor = Pmf.add_dist(die, die)\n",
    "goblin_armor.bar(color='C1', alpha=0.5, label = 'no inflicted damage')\n",
    "decorate_dice();\n",
    "\n",
    "# remove 3 from distribution ()\n",
    "goblin_inflicted = goblin_armor.sub_dist(3)\n",
    "goblin_inflicted.bar(color='C2', alpha=0.5, label = '3 inflicted')\n",
    "decorate_dice();\n"
   ]
  },
  {
   "cell_type": "code",
   "execution_count": 67,
   "id": "e2ff7073",
   "metadata": {},
   "outputs": [
    {
     "name": "stdout",
     "output_type": "stream",
     "text": [
      "0.5\n"
     ]
    },
    {
     "data": {
      "image/png": "[encoded data removed]",
      "text/plain": [
       "<Figure size 432x288 with 1 Axes>"
      ]
     },
     "metadata": {
      "needs_background": "light"
     },
     "output_type": "display_data"
    }
   ],
   "source": [
    "# damage inflicted\n",
    "damage_given = Pmf(die)\n",
    "\n",
    "# and maybe we just remove it from goblin inflicted?\n",
    "end_state = goblin_inflicted.sub_dist(damage_given)\n",
    "\n",
    "# remove 3 from distribution ()\n",
    "goblin_armor.bar(color='C1', alpha=0.5, label = 'no inflicted damage')\n",
    "goblin_inflicted.bar(color='C2', alpha=0.5, label = '3 inflicted')\n",
    "end_state.bar(color='C3', alpha=0.5, label = 'end state')\n",
    "decorate_dice();\n",
    "\n",
    "# we now want to determine percentage at or below 0:\n",
    "print(f\"{end_state.prob_le(0)}\") # 50%"
   ]
  },
  {
   "cell_type": "markdown",
   "id": "59926f70",
   "metadata": {},
   "source": [
    "#### What I Omitted:\n",
    "\n",
    "- Author throws a step in where a 0 / -1 HP is not possible, so those are zeroed out and renormalized.\n",
    "- Initially I disagreed because I thought \"well, the goblin died during my turn - doesn't that count towards my probability?\"\n",
    "- However, the question clearly states `What is your probability of defeating the goblin with your next successful attack?`, which has to be interpreted as \"the goblin is still stnading after the 3 points of damage but prior to your next attack. Given this, what is the likelihood of defeating the goblin?\"\n",
    "\n",
    "I like this problem!"
   ]
  },
  {
   "cell_type": "code",
   "execution_count": 68,
   "id": "74da91ad",
   "metadata": {},
   "outputs": [
    {
     "name": "stdout",
     "output_type": "stream",
     "text": [
      "0.4545454545454545\n"
     ]
    },
    {
     "data": {
      "image/png": "[encoded data removed]",
      "text/plain": [
       "<Figure size 432x288 with 1 Axes>"
      ]
     },
     "metadata": {
      "needs_background": "light"
     },
     "output_type": "display_data"
    }
   ],
   "source": [
    "# damage inflicted\n",
    "damage_given = Pmf(die)\n",
    "\n",
    "# We need to handle dead goblins before our attack\n",
    "goblin_inflicted[[-1, 0]] = 0\n",
    "goblin_inflicted.normalize()\n",
    "end_state = goblin_inflicted.sub_dist(damage_given)\n",
    "\n",
    "end_state.bar(color='C3', alpha=0.5, label = 'end state')\n",
    "decorate_dice();\n",
    "\n",
    "# we now want to determine percentage at or below 0:\n",
    "print(f\"{end_state.prob_le(0)}\") # 50%"
   ]
  },
  {
   "cell_type": "code",
   "execution_count": null,
   "id": "925fe02b",
   "metadata": {},
   "outputs": [],
   "source": []
  }
 ],
 "metadata": {
  "kernelspec": {
   "display_name": "ml",
   "language": "python",
   "name": "ml"
  },
  "language_info": {
   "codemirror_mode": {
    "name": "ipython",
    "version": 3
   },
   "file_extension": ".py",
   "mimetype": "text/x-python",
   "name": "python",
   "nbconvert_exporter": "python",
   "pygments_lexer": "ipython3",
   "version": "3.9.2"
  }
 },
 "nbformat": 4,
 "nbformat_minor": 5
}
